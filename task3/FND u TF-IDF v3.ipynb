{
 "metadata": {
  "language_info": {
   "codemirror_mode": {
    "name": "ipython",
    "version": 3
   },
   "file_extension": ".py",
   "mimetype": "text/x-python",
   "name": "python",
   "nbconvert_exporter": "python",
   "pygments_lexer": "ipython3",
   "version": "3.8.8"
  },
  "orig_nbformat": 2,
  "kernelspec": {
   "name": "python388jvsc74a57bd0a8a565e09f07703efdc86ec03ccdbe7c8a022a338e4d0d45f87f70f34a61d8ea",
   "display_name": "Python 3.8.8 64-bit"
  },
  "metadata": {
   "interpreter": {
    "hash": "a8a565e09f07703efdc86ec03ccdbe7c8a022a338e4d0d45f87f70f34a61d8ea"
   }
  }
 },
 "nbformat": 4,
 "nbformat_minor": 2,
 "cells": [
  {
   "source": [
    "##Make necessary imports"
   ],
   "cell_type": "markdown",
   "metadata": {}
  },
  {
   "cell_type": "code",
   "execution_count": 1,
   "metadata": {},
   "outputs": [],
   "source": [
    "import numpy as np\n",
    "import pandas as pd\n",
    "import itertools\n",
    "from sklearn.model_selection import train_test_split\n",
    "from sklearn.feature_extraction.text import TfidfVectorizer\n",
    "from sklearn.linear_model import PassiveAggressiveClassifier\n",
    "from sklearn.metrics import accuracy_score, confusion_matrix"
   ]
  },
  {
   "cell_type": "code",
   "execution_count": 2,
   "metadata": {},
   "outputs": [],
   "source": [
    "import os\n",
    "from xlrd import *\n",
    "import csv \n",
    "import sys\n",
    "import win32com.client as w3c\n",
    "from tempfile import NamedTemporaryFile"
   ]
  },
  {
   "cell_type": "code",
   "execution_count": 3,
   "metadata": {},
   "outputs": [],
   "source": [
    "PATH = 'C:/Users/smsoh/Documents/GitHub/CLEF2021/task3/data/Task3a_Batch_1.xlsx'\n",
    "PASS = 'fake@2021'"
   ]
  },
  {
   "cell_type": "code",
   "execution_count": 4,
   "metadata": {},
   "outputs": [],
   "source": [
    "xlapp = w3c.Dispatch(\"Excel.Application\")\n",
    "xlwb = xlapp.Workbooks.Open(PATH, False, True, None, PASS)"
   ]
  },
  {
   "cell_type": "code",
   "execution_count": 5,
   "metadata": {},
   "outputs": [
    {
     "output_type": "execute_result",
     "data": {
      "text/plain": [
       "    public_id                                               text  \\\n",
       "0    5a228e0e  Distracted driving causes more deaths in Canad...   \n",
       "1    30c605a1  Missouri politicians have made statements afte...   \n",
       "2    c3dea290  Home Alone 2: Lost in New York is full of viol...   \n",
       "3    f14e8eb6  But things took a turn for the worse when riot...   \n",
       "4    faf024d6  It�s no secret that Epstein and Schiff share a...   \n",
       "..        ...                                                ...   \n",
       "432  e01f532a  Rosemary Frei and Patrick Corbett  A high-prof...   \n",
       "433  3c791c29  As the coronavirus pandemic continues to devas...   \n",
       "434  fe6a9262  Belgium Health Minister Maggie de Block has pu...   \n",
       "435  97113f55  Responding To Backlash, Netflix Clarifies Its ...   \n",
       "436  ae0c3741  Senate Democrats Fail Taxpayers, Local Governm...   \n",
       "\n",
       "                                                 title       our rating  \n",
       "0    You Can Be Fined $1,500 If Your Passenger Is U...            false  \n",
       "1        Missouri lawmakers condemn Las Vegas shooting  partially false  \n",
       "2    CBC Cuts Donald Trump's 'Home Alone 2' Cameo O...  partially false  \n",
       "3    Obama�s Daughters Caught on Camera Burning US ...            false  \n",
       "4    Leaked Visitor Logs Reveal Schiff�s 78 Visits ...            false  \n",
       "..                                                 ...              ...  \n",
       "432             �No one has died from the coronavirus�            false  \n",
       "433  Why Did 21 Million Phone Numbers Disappear fro...            false  \n",
       "434  Belgium Health Minister puts ban on non-essent...            false  \n",
       "435  Responding To Backlash, Netflix Clarifies Its ...            false  \n",
       "436   New State Budget Is New Yorkers� Worst Nightmare  partially false  \n",
       "\n",
       "[437 rows x 4 columns]"
      ],
      "text/html": "<div>\n<style scoped>\n    .dataframe tbody tr th:only-of-type {\n        vertical-align: middle;\n    }\n\n    .dataframe tbody tr th {\n        vertical-align: top;\n    }\n\n    .dataframe thead th {\n        text-align: right;\n    }\n</style>\n<table border=\"1\" class=\"dataframe\">\n  <thead>\n    <tr style=\"text-align: right;\">\n      <th></th>\n      <th>public_id</th>\n      <th>text</th>\n      <th>title</th>\n      <th>our rating</th>\n    </tr>\n  </thead>\n  <tbody>\n    <tr>\n      <th>0</th>\n      <td>5a228e0e</td>\n      <td>Distracted driving causes more deaths in Canad...</td>\n      <td>You Can Be Fined $1,500 If Your Passenger Is U...</td>\n      <td>false</td>\n    </tr>\n    <tr>\n      <th>1</th>\n      <td>30c605a1</td>\n      <td>Missouri politicians have made statements afte...</td>\n      <td>Missouri lawmakers condemn Las Vegas shooting</td>\n      <td>partially false</td>\n    </tr>\n    <tr>\n      <th>2</th>\n      <td>c3dea290</td>\n      <td>Home Alone 2: Lost in New York is full of viol...</td>\n      <td>CBC Cuts Donald Trump's 'Home Alone 2' Cameo O...</td>\n      <td>partially false</td>\n    </tr>\n    <tr>\n      <th>3</th>\n      <td>f14e8eb6</td>\n      <td>But things took a turn for the worse when riot...</td>\n      <td>Obama�s Daughters Caught on Camera Burning US ...</td>\n      <td>false</td>\n    </tr>\n    <tr>\n      <th>4</th>\n      <td>faf024d6</td>\n      <td>It�s no secret that Epstein and Schiff share a...</td>\n      <td>Leaked Visitor Logs Reveal Schiff�s 78 Visits ...</td>\n      <td>false</td>\n    </tr>\n    <tr>\n      <th>...</th>\n      <td>...</td>\n      <td>...</td>\n      <td>...</td>\n      <td>...</td>\n    </tr>\n    <tr>\n      <th>432</th>\n      <td>e01f532a</td>\n      <td>Rosemary Frei and Patrick Corbett  A high-prof...</td>\n      <td>�No one has died from the coronavirus�</td>\n      <td>false</td>\n    </tr>\n    <tr>\n      <th>433</th>\n      <td>3c791c29</td>\n      <td>As the coronavirus pandemic continues to devas...</td>\n      <td>Why Did 21 Million Phone Numbers Disappear fro...</td>\n      <td>false</td>\n    </tr>\n    <tr>\n      <th>434</th>\n      <td>fe6a9262</td>\n      <td>Belgium Health Minister Maggie de Block has pu...</td>\n      <td>Belgium Health Minister puts ban on non-essent...</td>\n      <td>false</td>\n    </tr>\n    <tr>\n      <th>435</th>\n      <td>97113f55</td>\n      <td>Responding To Backlash, Netflix Clarifies Its ...</td>\n      <td>Responding To Backlash, Netflix Clarifies Its ...</td>\n      <td>false</td>\n    </tr>\n    <tr>\n      <th>436</th>\n      <td>ae0c3741</td>\n      <td>Senate Democrats Fail Taxpayers, Local Governm...</td>\n      <td>New State Budget Is New Yorkers� Worst Nightmare</td>\n      <td>partially false</td>\n    </tr>\n  </tbody>\n</table>\n<p>437 rows × 4 columns</p>\n</div>"
     },
     "metadata": {},
     "execution_count": 5
    }
   ],
   "source": [
    "#df = pd.read_csv(\"data/Task3a_Batch_1.xlsx\")\n",
    "f = NamedTemporaryFile(delete=False, suffix='.csv')\n",
    "f.close()\n",
    "os.unlink(f.name)\n",
    "\n",
    "xlCSVWindows = 0x17\n",
    "xlwb.SaveAs(Filename=f.name, FileFormat=xlCSVWindows)\n",
    "df = pd.read_csv(f.name)\n",
    "df"
   ]
  },
  {
   "cell_type": "code",
   "execution_count": 6,
   "metadata": {},
   "outputs": [
    {
     "output_type": "execute_result",
     "data": {
      "text/plain": [
       "  public_id                                               text  \\\n",
       "0  5a228e0e  Distracted driving causes more deaths in Canad...   \n",
       "1  30c605a1  Missouri politicians have made statements afte...   \n",
       "2  c3dea290  Home Alone 2: Lost in New York is full of viol...   \n",
       "3  f14e8eb6  But things took a turn for the worse when riot...   \n",
       "4  faf024d6  It�s no secret that Epstein and Schiff share a...   \n",
       "\n",
       "                                               title       our rating  \n",
       "0  You Can Be Fined $1,500 If Your Passenger Is U...            false  \n",
       "1      Missouri lawmakers condemn Las Vegas shooting  partially false  \n",
       "2  CBC Cuts Donald Trump's 'Home Alone 2' Cameo O...  partially false  \n",
       "3  Obama�s Daughters Caught on Camera Burning US ...            false  \n",
       "4  Leaked Visitor Logs Reveal Schiff�s 78 Visits ...            false  "
      ],
      "text/html": "<div>\n<style scoped>\n    .dataframe tbody tr th:only-of-type {\n        vertical-align: middle;\n    }\n\n    .dataframe tbody tr th {\n        vertical-align: top;\n    }\n\n    .dataframe thead th {\n        text-align: right;\n    }\n</style>\n<table border=\"1\" class=\"dataframe\">\n  <thead>\n    <tr style=\"text-align: right;\">\n      <th></th>\n      <th>public_id</th>\n      <th>text</th>\n      <th>title</th>\n      <th>our rating</th>\n    </tr>\n  </thead>\n  <tbody>\n    <tr>\n      <th>0</th>\n      <td>5a228e0e</td>\n      <td>Distracted driving causes more deaths in Canad...</td>\n      <td>You Can Be Fined $1,500 If Your Passenger Is U...</td>\n      <td>false</td>\n    </tr>\n    <tr>\n      <th>1</th>\n      <td>30c605a1</td>\n      <td>Missouri politicians have made statements afte...</td>\n      <td>Missouri lawmakers condemn Las Vegas shooting</td>\n      <td>partially false</td>\n    </tr>\n    <tr>\n      <th>2</th>\n      <td>c3dea290</td>\n      <td>Home Alone 2: Lost in New York is full of viol...</td>\n      <td>CBC Cuts Donald Trump's 'Home Alone 2' Cameo O...</td>\n      <td>partially false</td>\n    </tr>\n    <tr>\n      <th>3</th>\n      <td>f14e8eb6</td>\n      <td>But things took a turn for the worse when riot...</td>\n      <td>Obama�s Daughters Caught on Camera Burning US ...</td>\n      <td>false</td>\n    </tr>\n    <tr>\n      <th>4</th>\n      <td>faf024d6</td>\n      <td>It�s no secret that Epstein and Schiff share a...</td>\n      <td>Leaked Visitor Logs Reveal Schiff�s 78 Visits ...</td>\n      <td>false</td>\n    </tr>\n  </tbody>\n</table>\n</div>"
     },
     "metadata": {},
     "execution_count": 6
    }
   ],
   "source": [
    "df.head()"
   ]
  },
  {
   "cell_type": "code",
   "execution_count": 7,
   "metadata": {},
   "outputs": [
    {
     "output_type": "execute_result",
     "data": {
      "text/plain": [
       "0              false\n",
       "1    partially false\n",
       "2    partially false\n",
       "3              false\n",
       "4              false\n",
       "Name: our rating, dtype: object"
      ]
     },
     "metadata": {},
     "execution_count": 7
    }
   ],
   "source": [
    "labels=df['our rating']\n",
    "labels.head()"
   ]
  },
  {
   "source": [
    "New update"
   ],
   "cell_type": "markdown",
   "metadata": {}
  },
  {
   "cell_type": "code",
   "execution_count": null,
   "metadata": {},
   "outputs": [],
   "source": [
    "def wordopt(text):\n",
    "    text = text.lower()\n",
    "    text = re.sub('\\[.*?\\]', '', text)\n",
    "    text = re.sub(\"\\\\W\",\" \",text) \n",
    "    text = re.sub('https?://\\S+|www\\.\\S+', '', text)\n",
    "    text = re.sub('<.*?>+', '', text)\n",
    "    text = re.sub('[%s]' % re.escape(string.punctuation), '', text)\n",
    "    text = re.sub('\\n', '', text)\n",
    "    text = re.sub('\\w*\\d\\w*', '', text)    \n",
    "    return text"
   ]
  },
  {
   "cell_type": "code",
   "execution_count": null,
   "metadata": {},
   "outputs": [],
   "source": [
    "df_true = pd.read_csv(\"data/True.csv\")\n",
    "df_true = df_true.drop([ \"title\",\"subject\",\"date\"], axis = 1)\n",
    "df_true['class'] = 1\n",
    "df_fake = pd.read_csv(\"data/Fake.csv\")\n",
    "df_fake = df_fake.drop([ \"title\",\"subject\",\"date\"], axis = 1)\n",
    "df_fake['class'] = 0\n",
    "\n",
    "df = pd.concat([df_fake, df_true], axis=0)\n",
    "df.sort_index(inplace=True)\n",
    "df[\"text\"] = df_t[\"text\"].apply(wordopt)\n",
    "labels=df['class']\n",
    "df"
   ]
  },
  {
   "source": [
    "#DataFlair - Split the dataset"
   ],
   "cell_type": "markdown",
   "metadata": {}
  },
  {
   "cell_type": "code",
   "execution_count": 8,
   "metadata": {},
   "outputs": [],
   "source": [
    "x_train,x_test,y_train,y_test=train_test_split(df['text'], labels, test_size=0.3, random_state=8)"
   ]
  },
  {
   "source": [
    "#DataFlair - Initialize a TfidfVectorizer"
   ],
   "cell_type": "markdown",
   "metadata": {}
  },
  {
   "cell_type": "code",
   "execution_count": 9,
   "metadata": {},
   "outputs": [],
   "source": [
    "tfidf_vectorizer=TfidfVectorizer(stop_words='english', max_df=0.7)"
   ]
  },
  {
   "source": [
    "#DataFlair - Fit and transform train set, transform test set"
   ],
   "cell_type": "markdown",
   "metadata": {}
  },
  {
   "cell_type": "code",
   "execution_count": 10,
   "metadata": {},
   "outputs": [],
   "source": [
    "tfidf_train=tfidf_vectorizer.fit_transform(x_train) \n",
    "tfidf_test=tfidf_vectorizer.transform(x_test)"
   ]
  },
  {
   "source": [
    "#DataFlair - Initialize a PassiveAggressiveClassifier"
   ],
   "cell_type": "markdown",
   "metadata": {}
  },
  {
   "cell_type": "code",
   "execution_count": 11,
   "metadata": {},
   "outputs": [
    {
     "output_type": "execute_result",
     "data": {
      "text/plain": [
       "PassiveAggressiveClassifier(max_iter=50)"
      ]
     },
     "metadata": {},
     "execution_count": 11
    }
   ],
   "source": [
    "pac=PassiveAggressiveClassifier(max_iter=50)\n",
    "pac.fit(tfidf_train,y_train)"
   ]
  },
  {
   "source": [
    "#DataFlair - Predict on the test set and calculate accuracy"
   ],
   "cell_type": "markdown",
   "metadata": {}
  },
  {
   "cell_type": "code",
   "execution_count": 12,
   "metadata": {},
   "outputs": [
    {
     "output_type": "stream",
     "name": "stdout",
     "text": [
      "Accuracy: 76.52%\n"
     ]
    }
   ],
   "source": [
    "y_pred=pac.predict(tfidf_test)\n",
    "score=accuracy_score(y_test,y_pred)\n",
    "print(f'Accuracy: {round(score*100,2)}%')"
   ]
  },
  {
   "source": [
    "#DataFlair - Build confusion matrix"
   ],
   "cell_type": "markdown",
   "metadata": {}
  },
  {
   "cell_type": "code",
   "execution_count": 13,
   "metadata": {},
   "outputs": [
    {
     "output_type": "execute_result",
     "data": {
      "text/plain": [
       "array([[ 0,  0,  0],\n",
       "       [ 0,  0,  0],\n",
       "       [ 0,  0, 15]], dtype=int64)"
      ]
     },
     "metadata": {},
     "execution_count": 13
    }
   ],
   "source": [
    "confusion_matrix(y_test,y_pred, labels=['FALSE','TRUE','partially false'])"
   ]
  },
  {
   "cell_type": "code",
   "execution_count": null,
   "metadata": {},
   "outputs": [],
   "source": []
  }
 ]
}