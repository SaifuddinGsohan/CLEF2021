{
 "metadata": {
  "language_info": {
   "codemirror_mode": {
    "name": "ipython",
    "version": 3
   },
   "file_extension": ".py",
   "mimetype": "text/x-python",
   "name": "python",
   "nbconvert_exporter": "python",
   "pygments_lexer": "ipython3",
   "version": "3.8.8-final"
  },
  "orig_nbformat": 2,
  "kernelspec": {
   "name": "python388jvsc74a57bd0a8a565e09f07703efdc86ec03ccdbe7c8a022a338e4d0d45f87f70f34a61d8ea",
   "display_name": "Python 3.8.8 64-bit"
  },
  "metadata": {
   "interpreter": {
    "hash": "a8a565e09f07703efdc86ec03ccdbe7c8a022a338e4d0d45f87f70f34a61d8ea"
   }
  }
 },
 "nbformat": 4,
 "nbformat_minor": 2,
 "cells": [
  {
   "source": [
    "##Make necessary imports"
   ],
   "cell_type": "markdown",
   "metadata": {}
  },
  {
   "cell_type": "code",
   "execution_count": 3,
   "metadata": {},
   "outputs": [],
   "source": [
    "import numpy as np\n",
    "import pandas as pd\n",
    "import itertools\n",
    "from sklearn.model_selection import train_test_split\n",
    "from sklearn.feature_extraction.text import TfidfVectorizer\n",
    "from sklearn.linear_model import PassiveAggressiveClassifier\n",
    "from sklearn.metrics import accuracy_score, confusion_matrix"
   ]
  },
  {
   "cell_type": "code",
   "execution_count": 4,
   "metadata": {},
   "outputs": [
    {
     "output_type": "execute_result",
     "data": {
      "text/plain": [
       "(50, 4)"
      ]
     },
     "metadata": {},
     "execution_count": 4
    }
   ],
   "source": [
    "df=pd.read_csv('data/task_3a_sample_data.csv')\n",
    "df.shape"
   ]
  },
  {
   "cell_type": "code",
   "execution_count": 5,
   "metadata": {},
   "outputs": [
    {
     "output_type": "execute_result",
     "data": {
      "text/plain": [
       "  public_id                                              title  \\\n",
       "0  f2182a54  HUGE! Attorney Sidney Powell CONFIRMS Alleged ...   \n",
       "1  c5175d8d        Paul Ryan’s Worst Ally - The New York Times   \n",
       "2  213a870b  You Can Get Jail Time Or $3,000 Fine For Not W...   \n",
       "3  392886ea  Antifa gearing up for false flag violence disg...   \n",
       "4  bc6d5d55  Remarks by President Biden on the Administrati...   \n",
       "\n",
       "                                                text       our rating  \n",
       "0  Last week Rep. Louie Gohmert told Chris Salced...            FALSE  \n",
       "1  WHATEVER drama plays out when Republicans meet...             TRUE  \n",
       "2  Source page URL  Title You Can Get Jail Time O...            FALSE  \n",
       "3  With merchants in Democrat-run cities boarding...            FALSE  \n",
       "4  State Dining Room  4:22 P.M. EST  THE PRESIDEN...  partially false  "
      ],
      "text/html": "<div>\n<style scoped>\n    .dataframe tbody tr th:only-of-type {\n        vertical-align: middle;\n    }\n\n    .dataframe tbody tr th {\n        vertical-align: top;\n    }\n\n    .dataframe thead th {\n        text-align: right;\n    }\n</style>\n<table border=\"1\" class=\"dataframe\">\n  <thead>\n    <tr style=\"text-align: right;\">\n      <th></th>\n      <th>public_id</th>\n      <th>title</th>\n      <th>text</th>\n      <th>our rating</th>\n    </tr>\n  </thead>\n  <tbody>\n    <tr>\n      <th>0</th>\n      <td>f2182a54</td>\n      <td>HUGE! Attorney Sidney Powell CONFIRMS Alleged ...</td>\n      <td>Last week Rep. Louie Gohmert told Chris Salced...</td>\n      <td>FALSE</td>\n    </tr>\n    <tr>\n      <th>1</th>\n      <td>c5175d8d</td>\n      <td>Paul Ryan’s Worst Ally - The New York Times</td>\n      <td>WHATEVER drama plays out when Republicans meet...</td>\n      <td>TRUE</td>\n    </tr>\n    <tr>\n      <th>2</th>\n      <td>213a870b</td>\n      <td>You Can Get Jail Time Or $3,000 Fine For Not W...</td>\n      <td>Source page URL  Title You Can Get Jail Time O...</td>\n      <td>FALSE</td>\n    </tr>\n    <tr>\n      <th>3</th>\n      <td>392886ea</td>\n      <td>Antifa gearing up for false flag violence disg...</td>\n      <td>With merchants in Democrat-run cities boarding...</td>\n      <td>FALSE</td>\n    </tr>\n    <tr>\n      <th>4</th>\n      <td>bc6d5d55</td>\n      <td>Remarks by President Biden on the Administrati...</td>\n      <td>State Dining Room  4:22 P.M. EST  THE PRESIDEN...</td>\n      <td>partially false</td>\n    </tr>\n  </tbody>\n</table>\n</div>"
     },
     "metadata": {},
     "execution_count": 5
    }
   ],
   "source": [
    "df.head()"
   ]
  },
  {
   "cell_type": "code",
   "execution_count": 8,
   "metadata": {},
   "outputs": [
    {
     "output_type": "execute_result",
     "data": {
      "text/plain": [
       "0              FALSE\n",
       "1               TRUE\n",
       "2              FALSE\n",
       "3              FALSE\n",
       "4    partially false\n",
       "Name: our rating, dtype: object"
      ]
     },
     "metadata": {},
     "execution_count": 8
    }
   ],
   "source": [
    "labels=df['our rating']\n",
    "labels.head()"
   ]
  },
  {
   "source": [
    "#DataFlair - Split the dataset"
   ],
   "cell_type": "markdown",
   "metadata": {}
  },
  {
   "cell_type": "code",
   "execution_count": 9,
   "metadata": {},
   "outputs": [],
   "source": [
    "x_train,x_test,y_train,y_test=train_test_split(df['text'], labels, test_size=0.3, random_state=8)"
   ]
  },
  {
   "source": [
    "#DataFlair - Initialize a TfidfVectorizer"
   ],
   "cell_type": "markdown",
   "metadata": {}
  },
  {
   "cell_type": "code",
   "execution_count": 11,
   "metadata": {},
   "outputs": [],
   "source": [
    "tfidf_vectorizer=TfidfVectorizer(stop_words='english', max_df=0.7)"
   ]
  },
  {
   "source": [
    "#DataFlair - Fit and transform train set, transform test set"
   ],
   "cell_type": "markdown",
   "metadata": {}
  },
  {
   "cell_type": "code",
   "execution_count": 12,
   "metadata": {},
   "outputs": [],
   "source": [
    "tfidf_train=tfidf_vectorizer.fit_transform(x_train) \n",
    "tfidf_test=tfidf_vectorizer.transform(x_test)"
   ]
  },
  {
   "source": [
    "#DataFlair - Initialize a PassiveAggressiveClassifier"
   ],
   "cell_type": "markdown",
   "metadata": {}
  },
  {
   "cell_type": "code",
   "execution_count": 13,
   "metadata": {},
   "outputs": [
    {
     "output_type": "execute_result",
     "data": {
      "text/plain": [
       "PassiveAggressiveClassifier(max_iter=50)"
      ]
     },
     "metadata": {},
     "execution_count": 13
    }
   ],
   "source": [
    "pac=PassiveAggressiveClassifier(max_iter=50)\n",
    "pac.fit(tfidf_train,y_train)"
   ]
  },
  {
   "source": [
    "#DataFlair - Predict on the test set and calculate accuracy"
   ],
   "cell_type": "markdown",
   "metadata": {}
  },
  {
   "cell_type": "code",
   "execution_count": 14,
   "metadata": {},
   "outputs": [
    {
     "output_type": "stream",
     "name": "stdout",
     "text": [
      "Accuracy: 33.33%\n"
     ]
    }
   ],
   "source": [
    "y_pred=pac.predict(tfidf_test)\n",
    "score=accuracy_score(y_test,y_pred)\n",
    "print(f'Accuracy: {round(score*100,2)}%')"
   ]
  },
  {
   "source": [
    "#DataFlair - Build confusion matrix"
   ],
   "cell_type": "markdown",
   "metadata": {}
  },
  {
   "cell_type": "code",
   "execution_count": 16,
   "metadata": {},
   "outputs": [
    {
     "output_type": "execute_result",
     "data": {
      "text/plain": [
       "array([[2, 0, 2],\n",
       "       [0, 1, 2],\n",
       "       [6, 0, 2]], dtype=int64)"
      ]
     },
     "metadata": {},
     "execution_count": 16
    }
   ],
   "source": [
    "confusion_matrix(y_test,y_pred, labels=['FALSE','TRUE','partially false'])"
   ]
  },
  {
   "cell_type": "code",
   "execution_count": null,
   "metadata": {},
   "outputs": [],
   "source": []
  }
 ]
}