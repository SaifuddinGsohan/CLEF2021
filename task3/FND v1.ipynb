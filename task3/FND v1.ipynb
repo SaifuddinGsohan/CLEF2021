{
 "cells": [
  {
   "cell_type": "markdown",
   "metadata": {},
   "source": [
    "# Fake news Detection"
   ]
  },
  {
   "cell_type": "markdown",
   "metadata": {},
   "source": [
    "### Importing required library\n",
    "Here I am going to importing some of the required library, if extra library is required to install It will be install later on."
   ]
  },
  {
   "cell_type": "code",
   "execution_count": 1,
   "metadata": {},
   "outputs": [],
   "source": [
    "#!pip install xlwings"
   ]
  },
  {
   "cell_type": "code",
   "execution_count": 2,
   "metadata": {},
   "outputs": [],
   "source": [
    "import pandas as pd\n",
    "import numpy as np\n",
    "import seaborn as sns\n",
    "import matplotlib.pyplot as plt\n",
    "from sklearn.model_selection import train_test_split\n",
    "from sklearn.metrics import accuracy_score\n",
    "from sklearn.metrics import classification_report\n",
    "import re\n",
    "import string"
   ]
  },
  {
   "cell_type": "code",
   "execution_count": 3,
   "metadata": {},
   "outputs": [],
   "source": [
    "import os\n",
    "from xlrd import *\n",
    "import csv \n",
    "import sys\n",
    "import win32com.client as w3c\n",
    "from tempfile import NamedTemporaryFile"
   ]
  },
  {
   "cell_type": "code",
   "execution_count": 4,
   "metadata": {},
   "outputs": [],
   "source": [
    "PATH = 'C:/Users/smsoh/Documents/GitHub/CLEF2021/task3/data/Task3a_Batch_1.xlsx'\n",
    "PASS = 'fake@2021'"
   ]
  },
  {
   "cell_type": "code",
   "execution_count": 5,
   "metadata": {},
   "outputs": [],
   "source": [
    "xlapp = w3c.Dispatch(\"Excel.Application\")\n",
    "xlwb = xlapp.Workbooks.Open(PATH, False, True, None, PASS)"
   ]
  },
  {
   "cell_type": "code",
   "execution_count": 6,
   "metadata": {},
   "outputs": [
    {
     "output_type": "execute_result",
     "data": {
      "text/plain": [
       "    public_id                                               text  \\\n",
       "0    5a228e0e  Distracted driving causes more deaths in Canad...   \n",
       "1    30c605a1  Missouri politicians have made statements afte...   \n",
       "2    c3dea290  Home Alone 2: Lost in New York is full of viol...   \n",
       "3    f14e8eb6  But things took a turn for the worse when riot...   \n",
       "4    faf024d6  It�s no secret that Epstein and Schiff share a...   \n",
       "..        ...                                                ...   \n",
       "432  e01f532a  Rosemary Frei and Patrick Corbett  A high-prof...   \n",
       "433  3c791c29  As the coronavirus pandemic continues to devas...   \n",
       "434  fe6a9262  Belgium Health Minister Maggie de Block has pu...   \n",
       "435  97113f55  Responding To Backlash, Netflix Clarifies Its ...   \n",
       "436  ae0c3741  Senate Democrats Fail Taxpayers, Local Governm...   \n",
       "\n",
       "                                                 title       our rating  \n",
       "0    You Can Be Fined $1,500 If Your Passenger Is U...            false  \n",
       "1        Missouri lawmakers condemn Las Vegas shooting  partially false  \n",
       "2    CBC Cuts Donald Trump's 'Home Alone 2' Cameo O...  partially false  \n",
       "3    Obama�s Daughters Caught on Camera Burning US ...            false  \n",
       "4    Leaked Visitor Logs Reveal Schiff�s 78 Visits ...            false  \n",
       "..                                                 ...              ...  \n",
       "432             �No one has died from the coronavirus�            false  \n",
       "433  Why Did 21 Million Phone Numbers Disappear fro...            false  \n",
       "434  Belgium Health Minister puts ban on non-essent...            false  \n",
       "435  Responding To Backlash, Netflix Clarifies Its ...            false  \n",
       "436   New State Budget Is New Yorkers� Worst Nightmare  partially false  \n",
       "\n",
       "[437 rows x 4 columns]"
      ],
      "text/html": "<div>\n<style scoped>\n    .dataframe tbody tr th:only-of-type {\n        vertical-align: middle;\n    }\n\n    .dataframe tbody tr th {\n        vertical-align: top;\n    }\n\n    .dataframe thead th {\n        text-align: right;\n    }\n</style>\n<table border=\"1\" class=\"dataframe\">\n  <thead>\n    <tr style=\"text-align: right;\">\n      <th></th>\n      <th>public_id</th>\n      <th>text</th>\n      <th>title</th>\n      <th>our rating</th>\n    </tr>\n  </thead>\n  <tbody>\n    <tr>\n      <th>0</th>\n      <td>5a228e0e</td>\n      <td>Distracted driving causes more deaths in Canad...</td>\n      <td>You Can Be Fined $1,500 If Your Passenger Is U...</td>\n      <td>false</td>\n    </tr>\n    <tr>\n      <th>1</th>\n      <td>30c605a1</td>\n      <td>Missouri politicians have made statements afte...</td>\n      <td>Missouri lawmakers condemn Las Vegas shooting</td>\n      <td>partially false</td>\n    </tr>\n    <tr>\n      <th>2</th>\n      <td>c3dea290</td>\n      <td>Home Alone 2: Lost in New York is full of viol...</td>\n      <td>CBC Cuts Donald Trump's 'Home Alone 2' Cameo O...</td>\n      <td>partially false</td>\n    </tr>\n    <tr>\n      <th>3</th>\n      <td>f14e8eb6</td>\n      <td>But things took a turn for the worse when riot...</td>\n      <td>Obama�s Daughters Caught on Camera Burning US ...</td>\n      <td>false</td>\n    </tr>\n    <tr>\n      <th>4</th>\n      <td>faf024d6</td>\n      <td>It�s no secret that Epstein and Schiff share a...</td>\n      <td>Leaked Visitor Logs Reveal Schiff�s 78 Visits ...</td>\n      <td>false</td>\n    </tr>\n    <tr>\n      <th>...</th>\n      <td>...</td>\n      <td>...</td>\n      <td>...</td>\n      <td>...</td>\n    </tr>\n    <tr>\n      <th>432</th>\n      <td>e01f532a</td>\n      <td>Rosemary Frei and Patrick Corbett  A high-prof...</td>\n      <td>�No one has died from the coronavirus�</td>\n      <td>false</td>\n    </tr>\n    <tr>\n      <th>433</th>\n      <td>3c791c29</td>\n      <td>As the coronavirus pandemic continues to devas...</td>\n      <td>Why Did 21 Million Phone Numbers Disappear fro...</td>\n      <td>false</td>\n    </tr>\n    <tr>\n      <th>434</th>\n      <td>fe6a9262</td>\n      <td>Belgium Health Minister Maggie de Block has pu...</td>\n      <td>Belgium Health Minister puts ban on non-essent...</td>\n      <td>false</td>\n    </tr>\n    <tr>\n      <th>435</th>\n      <td>97113f55</td>\n      <td>Responding To Backlash, Netflix Clarifies Its ...</td>\n      <td>Responding To Backlash, Netflix Clarifies Its ...</td>\n      <td>false</td>\n    </tr>\n    <tr>\n      <th>436</th>\n      <td>ae0c3741</td>\n      <td>Senate Democrats Fail Taxpayers, Local Governm...</td>\n      <td>New State Budget Is New Yorkers� Worst Nightmare</td>\n      <td>partially false</td>\n    </tr>\n  </tbody>\n</table>\n<p>437 rows × 4 columns</p>\n</div>"
     },
     "metadata": {},
     "execution_count": 6
    }
   ],
   "source": [
    "#df = pd.read_csv(\"data/Task3a_Batch_1.xlsx\")\n",
    "f = NamedTemporaryFile(delete=False, suffix='.csv')\n",
    "f.close()\n",
    "os.unlink(f.name)\n",
    "\n",
    "xlCSVWindows = 0x17\n",
    "xlwb.SaveAs(Filename=f.name, FileFormat=xlCSVWindows)\n",
    "df = pd.read_csv(f.name)\n",
    "df"
   ]
  },
  {
   "cell_type": "markdown",
   "metadata": {},
   "source": [
    "### Inserting fake and real dataset"
   ]
  },
  {
   "cell_type": "code",
   "execution_count": 8,
   "metadata": {},
   "outputs": [
    {
     "output_type": "execute_result",
     "data": {
      "text/plain": [
       "  public_id                                               text  \\\n",
       "0  5a228e0e  Distracted driving causes more deaths in Canad...   \n",
       "1  30c605a1  Missouri politicians have made statements afte...   \n",
       "2  c3dea290  Home Alone 2: Lost in New York is full of viol...   \n",
       "3  f14e8eb6  But things took a turn for the worse when riot...   \n",
       "4  faf024d6  It�s no secret that Epstein and Schiff share a...   \n",
       "\n",
       "                                               title       our rating  \n",
       "0  You Can Be Fined $1,500 If Your Passenger Is U...            false  \n",
       "1      Missouri lawmakers condemn Las Vegas shooting  partially false  \n",
       "2  CBC Cuts Donald Trump's 'Home Alone 2' Cameo O...  partially false  \n",
       "3  Obama�s Daughters Caught on Camera Burning US ...            false  \n",
       "4  Leaked Visitor Logs Reveal Schiff�s 78 Visits ...            false  "
      ],
      "text/html": "<div>\n<style scoped>\n    .dataframe tbody tr th:only-of-type {\n        vertical-align: middle;\n    }\n\n    .dataframe tbody tr th {\n        vertical-align: top;\n    }\n\n    .dataframe thead th {\n        text-align: right;\n    }\n</style>\n<table border=\"1\" class=\"dataframe\">\n  <thead>\n    <tr style=\"text-align: right;\">\n      <th></th>\n      <th>public_id</th>\n      <th>text</th>\n      <th>title</th>\n      <th>our rating</th>\n    </tr>\n  </thead>\n  <tbody>\n    <tr>\n      <th>0</th>\n      <td>5a228e0e</td>\n      <td>Distracted driving causes more deaths in Canad...</td>\n      <td>You Can Be Fined $1,500 If Your Passenger Is U...</td>\n      <td>false</td>\n    </tr>\n    <tr>\n      <th>1</th>\n      <td>30c605a1</td>\n      <td>Missouri politicians have made statements afte...</td>\n      <td>Missouri lawmakers condemn Las Vegas shooting</td>\n      <td>partially false</td>\n    </tr>\n    <tr>\n      <th>2</th>\n      <td>c3dea290</td>\n      <td>Home Alone 2: Lost in New York is full of viol...</td>\n      <td>CBC Cuts Donald Trump's 'Home Alone 2' Cameo O...</td>\n      <td>partially false</td>\n    </tr>\n    <tr>\n      <th>3</th>\n      <td>f14e8eb6</td>\n      <td>But things took a turn for the worse when riot...</td>\n      <td>Obama�s Daughters Caught on Camera Burning US ...</td>\n      <td>false</td>\n    </tr>\n    <tr>\n      <th>4</th>\n      <td>faf024d6</td>\n      <td>It�s no secret that Epstein and Schiff share a...</td>\n      <td>Leaked Visitor Logs Reveal Schiff�s 78 Visits ...</td>\n      <td>false</td>\n    </tr>\n  </tbody>\n</table>\n</div>"
     },
     "metadata": {},
     "execution_count": 8
    }
   ],
   "source": [
    "df.head(5)"
   ]
  },
  {
   "cell_type": "code",
   "execution_count": 9,
   "metadata": {},
   "outputs": [
    {
     "output_type": "execute_result",
     "data": {
      "text/plain": [
       "(437, 4)"
      ]
     },
     "metadata": {},
     "execution_count": 9
    }
   ],
   "source": [
    "df.shape"
   ]
  },
  {
   "cell_type": "code",
   "execution_count": 10,
   "metadata": {},
   "outputs": [],
   "source": [
    "df['class'] = df['our rating'].apply(lambda x: 0 if 'true' in x.lower() else ( 1 if 'partially false' in x.lower() else ( 2 if 'false' in x.lower() else 3)))"
   ]
  },
  {
   "cell_type": "code",
   "execution_count": 11,
   "metadata": {},
   "outputs": [
    {
     "output_type": "execute_result",
     "data": {
      "text/plain": [
       "  public_id                                               text  \\\n",
       "0  5a228e0e  Distracted driving causes more deaths in Canad...   \n",
       "1  30c605a1  Missouri politicians have made statements afte...   \n",
       "2  c3dea290  Home Alone 2: Lost in New York is full of viol...   \n",
       "3  f14e8eb6  But things took a turn for the worse when riot...   \n",
       "4  faf024d6  It�s no secret that Epstein and Schiff share a...   \n",
       "5  c03ed5db  Nation  UPDATED 8:23 PM - K A B O O M! Governo...   \n",
       "6  61bd9a69  November 23, 2019  The U.S. Food and Drug Admi...   \n",
       "7  bb1999cc  Trump confirms this was a bombing, not an acci...   \n",
       "8  c1dc1ac6  In a show of anti-American sentiment that will...   \n",
       "9  f2182a54  FEMA camps, portable human cages, it's all rea...   \n",
       "\n",
       "                                               title       our rating  class  \n",
       "0  You Can Be Fined $1,500 If Your Passenger Is U...            false      2  \n",
       "1      Missouri lawmakers condemn Las Vegas shooting  partially false      1  \n",
       "2  CBC Cuts Donald Trump's 'Home Alone 2' Cameo O...  partially false      1  \n",
       "3  Obama�s Daughters Caught on Camera Burning US ...            false      2  \n",
       "4  Leaked Visitor Logs Reveal Schiff�s 78 Visits ...            false      2  \n",
       "5  K A B O O M! Governor and Secretary of State i...            other      3  \n",
       "6  FDA Shocking Study: Cells Used In Vaccines Con...            false      2  \n",
       "7  Israel Hits Beirut with Nuclear Missile, Trump...            false      2  \n",
       "8  Obama�s Daughters Caught on Camera Burning US ...            false      2  \n",
       "9  Fields of human cages discovered in Caruthers ...            false      2  "
      ],
      "text/html": "<div>\n<style scoped>\n    .dataframe tbody tr th:only-of-type {\n        vertical-align: middle;\n    }\n\n    .dataframe tbody tr th {\n        vertical-align: top;\n    }\n\n    .dataframe thead th {\n        text-align: right;\n    }\n</style>\n<table border=\"1\" class=\"dataframe\">\n  <thead>\n    <tr style=\"text-align: right;\">\n      <th></th>\n      <th>public_id</th>\n      <th>text</th>\n      <th>title</th>\n      <th>our rating</th>\n      <th>class</th>\n    </tr>\n  </thead>\n  <tbody>\n    <tr>\n      <th>0</th>\n      <td>5a228e0e</td>\n      <td>Distracted driving causes more deaths in Canad...</td>\n      <td>You Can Be Fined $1,500 If Your Passenger Is U...</td>\n      <td>false</td>\n      <td>2</td>\n    </tr>\n    <tr>\n      <th>1</th>\n      <td>30c605a1</td>\n      <td>Missouri politicians have made statements afte...</td>\n      <td>Missouri lawmakers condemn Las Vegas shooting</td>\n      <td>partially false</td>\n      <td>1</td>\n    </tr>\n    <tr>\n      <th>2</th>\n      <td>c3dea290</td>\n      <td>Home Alone 2: Lost in New York is full of viol...</td>\n      <td>CBC Cuts Donald Trump's 'Home Alone 2' Cameo O...</td>\n      <td>partially false</td>\n      <td>1</td>\n    </tr>\n    <tr>\n      <th>3</th>\n      <td>f14e8eb6</td>\n      <td>But things took a turn for the worse when riot...</td>\n      <td>Obama�s Daughters Caught on Camera Burning US ...</td>\n      <td>false</td>\n      <td>2</td>\n    </tr>\n    <tr>\n      <th>4</th>\n      <td>faf024d6</td>\n      <td>It�s no secret that Epstein and Schiff share a...</td>\n      <td>Leaked Visitor Logs Reveal Schiff�s 78 Visits ...</td>\n      <td>false</td>\n      <td>2</td>\n    </tr>\n    <tr>\n      <th>5</th>\n      <td>c03ed5db</td>\n      <td>Nation  UPDATED 8:23 PM - K A B O O M! Governo...</td>\n      <td>K A B O O M! Governor and Secretary of State i...</td>\n      <td>other</td>\n      <td>3</td>\n    </tr>\n    <tr>\n      <th>6</th>\n      <td>61bd9a69</td>\n      <td>November 23, 2019  The U.S. Food and Drug Admi...</td>\n      <td>FDA Shocking Study: Cells Used In Vaccines Con...</td>\n      <td>false</td>\n      <td>2</td>\n    </tr>\n    <tr>\n      <th>7</th>\n      <td>bb1999cc</td>\n      <td>Trump confirms this was a bombing, not an acci...</td>\n      <td>Israel Hits Beirut with Nuclear Missile, Trump...</td>\n      <td>false</td>\n      <td>2</td>\n    </tr>\n    <tr>\n      <th>8</th>\n      <td>c1dc1ac6</td>\n      <td>In a show of anti-American sentiment that will...</td>\n      <td>Obama�s Daughters Caught on Camera Burning US ...</td>\n      <td>false</td>\n      <td>2</td>\n    </tr>\n    <tr>\n      <th>9</th>\n      <td>f2182a54</td>\n      <td>FEMA camps, portable human cages, it's all rea...</td>\n      <td>Fields of human cages discovered in Caruthers ...</td>\n      <td>false</td>\n      <td>2</td>\n    </tr>\n  </tbody>\n</table>\n</div>"
     },
     "metadata": {},
     "execution_count": 11
    }
   ],
   "source": [
    "df.head(10)"
   ]
  },
  {
   "cell_type": "code",
   "execution_count": 12,
   "metadata": {},
   "outputs": [
    {
     "output_type": "execute_result",
     "data": {
      "text/plain": [
       "Index(['public_id', 'text', 'title', 'our rating', 'class'], dtype='object')"
      ]
     },
     "metadata": {},
     "execution_count": 12
    }
   ],
   "source": [
    "df.columns"
   ]
  },
  {
   "cell_type": "code",
   "execution_count": 13,
   "metadata": {},
   "outputs": [],
   "source": [
    "df_t = df.drop([ \"our rating\",\"public_id\"], axis = 1)"
   ]
  },
  {
   "cell_type": "code",
   "execution_count": 14,
   "metadata": {},
   "outputs": [],
   "source": [
    "df_t = df_t.drop([ \"title\"], axis = 1)"
   ]
  },
  {
   "cell_type": "code",
   "execution_count": 15,
   "metadata": {},
   "outputs": [
    {
     "output_type": "execute_result",
     "data": {
      "text/plain": [
       "                                                text  class\n",
       "0  Distracted driving causes more deaths in Canad...      2\n",
       "1  Missouri politicians have made statements afte...      1\n",
       "2  Home Alone 2: Lost in New York is full of viol...      1\n",
       "3  But things took a turn for the worse when riot...      2\n",
       "4  It�s no secret that Epstein and Schiff share a...      2"
      ],
      "text/html": "<div>\n<style scoped>\n    .dataframe tbody tr th:only-of-type {\n        vertical-align: middle;\n    }\n\n    .dataframe tbody tr th {\n        vertical-align: top;\n    }\n\n    .dataframe thead th {\n        text-align: right;\n    }\n</style>\n<table border=\"1\" class=\"dataframe\">\n  <thead>\n    <tr style=\"text-align: right;\">\n      <th></th>\n      <th>text</th>\n      <th>class</th>\n    </tr>\n  </thead>\n  <tbody>\n    <tr>\n      <th>0</th>\n      <td>Distracted driving causes more deaths in Canad...</td>\n      <td>2</td>\n    </tr>\n    <tr>\n      <th>1</th>\n      <td>Missouri politicians have made statements afte...</td>\n      <td>1</td>\n    </tr>\n    <tr>\n      <th>2</th>\n      <td>Home Alone 2: Lost in New York is full of viol...</td>\n      <td>1</td>\n    </tr>\n    <tr>\n      <th>3</th>\n      <td>But things took a turn for the worse when riot...</td>\n      <td>2</td>\n    </tr>\n    <tr>\n      <th>4</th>\n      <td>It�s no secret that Epstein and Schiff share a...</td>\n      <td>2</td>\n    </tr>\n  </tbody>\n</table>\n</div>"
     },
     "metadata": {},
     "execution_count": 15
    }
   ],
   "source": [
    "df_t.head()"
   ]
  },
  {
   "cell_type": "code",
   "execution_count": 16,
   "metadata": {},
   "outputs": [
    {
     "output_type": "execute_result",
     "data": {
      "text/plain": [
       "text     0\n",
       "class    0\n",
       "dtype: int64"
      ]
     },
     "metadata": {},
     "execution_count": 16
    }
   ],
   "source": [
    "df_t.isnull().sum()\n"
   ]
  },
  {
   "cell_type": "markdown",
   "metadata": {},
   "source": [
    "#### Randomly shuffling the dataframe "
   ]
  },
  {
   "cell_type": "code",
   "execution_count": 17,
   "metadata": {},
   "outputs": [],
   "source": [
    "df_t.reset_index(inplace = True)\n",
    "df_t.drop([\"index\"], axis = 1, inplace = True)"
   ]
  },
  {
   "cell_type": "code",
   "execution_count": 18,
   "metadata": {},
   "outputs": [
    {
     "output_type": "execute_result",
     "data": {
      "text/plain": [
       "Index(['text', 'class'], dtype='object')"
      ]
     },
     "metadata": {},
     "execution_count": 18
    }
   ],
   "source": [
    "df_t.columns"
   ]
  },
  {
   "cell_type": "code",
   "execution_count": 19,
   "metadata": {},
   "outputs": [
    {
     "output_type": "execute_result",
     "data": {
      "text/plain": [
       "                                                text  class\n",
       "0  Distracted driving causes more deaths in Canad...      2\n",
       "1  Missouri politicians have made statements afte...      1\n",
       "2  Home Alone 2: Lost in New York is full of viol...      1\n",
       "3  But things took a turn for the worse when riot...      2\n",
       "4  It�s no secret that Epstein and Schiff share a...      2"
      ],
      "text/html": "<div>\n<style scoped>\n    .dataframe tbody tr th:only-of-type {\n        vertical-align: middle;\n    }\n\n    .dataframe tbody tr th {\n        vertical-align: top;\n    }\n\n    .dataframe thead th {\n        text-align: right;\n    }\n</style>\n<table border=\"1\" class=\"dataframe\">\n  <thead>\n    <tr style=\"text-align: right;\">\n      <th></th>\n      <th>text</th>\n      <th>class</th>\n    </tr>\n  </thead>\n  <tbody>\n    <tr>\n      <th>0</th>\n      <td>Distracted driving causes more deaths in Canad...</td>\n      <td>2</td>\n    </tr>\n    <tr>\n      <th>1</th>\n      <td>Missouri politicians have made statements afte...</td>\n      <td>1</td>\n    </tr>\n    <tr>\n      <th>2</th>\n      <td>Home Alone 2: Lost in New York is full of viol...</td>\n      <td>1</td>\n    </tr>\n    <tr>\n      <th>3</th>\n      <td>But things took a turn for the worse when riot...</td>\n      <td>2</td>\n    </tr>\n    <tr>\n      <th>4</th>\n      <td>It�s no secret that Epstein and Schiff share a...</td>\n      <td>2</td>\n    </tr>\n  </tbody>\n</table>\n</div>"
     },
     "metadata": {},
     "execution_count": 19
    }
   ],
   "source": [
    "df_t.head()"
   ]
  },
  {
   "cell_type": "markdown",
   "metadata": {},
   "source": [
    "#### Creating a function to convert the text in lowercase, remove the extra space, special chr., ulr and links."
   ]
  },
  {
   "cell_type": "code",
   "execution_count": 20,
   "metadata": {},
   "outputs": [],
   "source": [
    "def wordopt(text):\n",
    "    text = text.lower()\n",
    "    text = re.sub('\\[.*?\\]', '', text)\n",
    "    text = re.sub(\"\\\\W\",\" \",text) \n",
    "    text = re.sub('https?://\\S+|www\\.\\S+', '', text)\n",
    "    text = re.sub('<.*?>+', '', text)\n",
    "    text = re.sub('[%s]' % re.escape(string.punctuation), '', text)\n",
    "    text = re.sub('\\n', '', text)\n",
    "    text = re.sub('\\w*\\d\\w*', '', text)    \n",
    "    return text"
   ]
  },
  {
   "cell_type": "code",
   "execution_count": 21,
   "metadata": {},
   "outputs": [],
   "source": [
    "df_t[\"text\"] = df_t[\"text\"].apply(wordopt)"
   ]
  },
  {
   "cell_type": "code",
   "execution_count": 22,
   "metadata": {},
   "outputs": [
    {
     "output_type": "error",
     "ename": "KeyError",
     "evalue": "'title'",
     "traceback": [
      "\u001b[1;31m---------------------------------------------------------------------------\u001b[0m",
      "\u001b[1;31mKeyError\u001b[0m                                  Traceback (most recent call last)",
      "\u001b[1;32m~\\AppData\\Local\\Programs\\Python\\Python38\\lib\\site-packages\\pandas\\core\\indexes\\base.py\u001b[0m in \u001b[0;36mget_loc\u001b[1;34m(self, key, method, tolerance)\u001b[0m\n\u001b[0;32m   3079\u001b[0m             \u001b[1;32mtry\u001b[0m\u001b[1;33m:\u001b[0m\u001b[1;33m\u001b[0m\u001b[1;33m\u001b[0m\u001b[0m\n\u001b[1;32m-> 3080\u001b[1;33m                 \u001b[1;32mreturn\u001b[0m \u001b[0mself\u001b[0m\u001b[1;33m.\u001b[0m\u001b[0m_engine\u001b[0m\u001b[1;33m.\u001b[0m\u001b[0mget_loc\u001b[0m\u001b[1;33m(\u001b[0m\u001b[0mcasted_key\u001b[0m\u001b[1;33m)\u001b[0m\u001b[1;33m\u001b[0m\u001b[1;33m\u001b[0m\u001b[0m\n\u001b[0m\u001b[0;32m   3081\u001b[0m             \u001b[1;32mexcept\u001b[0m \u001b[0mKeyError\u001b[0m \u001b[1;32mas\u001b[0m \u001b[0merr\u001b[0m\u001b[1;33m:\u001b[0m\u001b[1;33m\u001b[0m\u001b[1;33m\u001b[0m\u001b[0m\n",
      "\u001b[1;32mpandas\\_libs\\index.pyx\u001b[0m in \u001b[0;36mpandas._libs.index.IndexEngine.get_loc\u001b[1;34m()\u001b[0m\n",
      "\u001b[1;32mpandas\\_libs\\index.pyx\u001b[0m in \u001b[0;36mpandas._libs.index.IndexEngine.get_loc\u001b[1;34m()\u001b[0m\n",
      "\u001b[1;32mpandas\\_libs\\hashtable_class_helper.pxi\u001b[0m in \u001b[0;36mpandas._libs.hashtable.PyObjectHashTable.get_item\u001b[1;34m()\u001b[0m\n",
      "\u001b[1;32mpandas\\_libs\\hashtable_class_helper.pxi\u001b[0m in \u001b[0;36mpandas._libs.hashtable.PyObjectHashTable.get_item\u001b[1;34m()\u001b[0m\n",
      "\u001b[1;31mKeyError\u001b[0m: 'title'",
      "\nThe above exception was the direct cause of the following exception:\n",
      "\u001b[1;31mKeyError\u001b[0m                                  Traceback (most recent call last)",
      "\u001b[1;32m<ipython-input-22-d70eeaaefa8e>\u001b[0m in \u001b[0;36m<module>\u001b[1;34m\u001b[0m\n\u001b[1;32m----> 1\u001b[1;33m \u001b[0mdf_t\u001b[0m\u001b[1;33m[\u001b[0m\u001b[1;34m\"title\"\u001b[0m\u001b[1;33m]\u001b[0m \u001b[1;33m=\u001b[0m \u001b[0mdf_t\u001b[0m\u001b[1;33m[\u001b[0m\u001b[1;34m\"title\"\u001b[0m\u001b[1;33m]\u001b[0m\u001b[1;33m.\u001b[0m\u001b[0mapply\u001b[0m\u001b[1;33m(\u001b[0m\u001b[0mwordopt\u001b[0m\u001b[1;33m)\u001b[0m\u001b[1;33m\u001b[0m\u001b[1;33m\u001b[0m\u001b[0m\n\u001b[0m",
      "\u001b[1;32m~\\AppData\\Local\\Programs\\Python\\Python38\\lib\\site-packages\\pandas\\core\\frame.py\u001b[0m in \u001b[0;36m__getitem__\u001b[1;34m(self, key)\u001b[0m\n\u001b[0;32m   3022\u001b[0m             \u001b[1;32mif\u001b[0m \u001b[0mself\u001b[0m\u001b[1;33m.\u001b[0m\u001b[0mcolumns\u001b[0m\u001b[1;33m.\u001b[0m\u001b[0mnlevels\u001b[0m \u001b[1;33m>\u001b[0m \u001b[1;36m1\u001b[0m\u001b[1;33m:\u001b[0m\u001b[1;33m\u001b[0m\u001b[1;33m\u001b[0m\u001b[0m\n\u001b[0;32m   3023\u001b[0m                 \u001b[1;32mreturn\u001b[0m \u001b[0mself\u001b[0m\u001b[1;33m.\u001b[0m\u001b[0m_getitem_multilevel\u001b[0m\u001b[1;33m(\u001b[0m\u001b[0mkey\u001b[0m\u001b[1;33m)\u001b[0m\u001b[1;33m\u001b[0m\u001b[1;33m\u001b[0m\u001b[0m\n\u001b[1;32m-> 3024\u001b[1;33m             \u001b[0mindexer\u001b[0m \u001b[1;33m=\u001b[0m \u001b[0mself\u001b[0m\u001b[1;33m.\u001b[0m\u001b[0mcolumns\u001b[0m\u001b[1;33m.\u001b[0m\u001b[0mget_loc\u001b[0m\u001b[1;33m(\u001b[0m\u001b[0mkey\u001b[0m\u001b[1;33m)\u001b[0m\u001b[1;33m\u001b[0m\u001b[1;33m\u001b[0m\u001b[0m\n\u001b[0m\u001b[0;32m   3025\u001b[0m             \u001b[1;32mif\u001b[0m \u001b[0mis_integer\u001b[0m\u001b[1;33m(\u001b[0m\u001b[0mindexer\u001b[0m\u001b[1;33m)\u001b[0m\u001b[1;33m:\u001b[0m\u001b[1;33m\u001b[0m\u001b[1;33m\u001b[0m\u001b[0m\n\u001b[0;32m   3026\u001b[0m                 \u001b[0mindexer\u001b[0m \u001b[1;33m=\u001b[0m \u001b[1;33m[\u001b[0m\u001b[0mindexer\u001b[0m\u001b[1;33m]\u001b[0m\u001b[1;33m\u001b[0m\u001b[1;33m\u001b[0m\u001b[0m\n",
      "\u001b[1;32m~\\AppData\\Local\\Programs\\Python\\Python38\\lib\\site-packages\\pandas\\core\\indexes\\base.py\u001b[0m in \u001b[0;36mget_loc\u001b[1;34m(self, key, method, tolerance)\u001b[0m\n\u001b[0;32m   3080\u001b[0m                 \u001b[1;32mreturn\u001b[0m \u001b[0mself\u001b[0m\u001b[1;33m.\u001b[0m\u001b[0m_engine\u001b[0m\u001b[1;33m.\u001b[0m\u001b[0mget_loc\u001b[0m\u001b[1;33m(\u001b[0m\u001b[0mcasted_key\u001b[0m\u001b[1;33m)\u001b[0m\u001b[1;33m\u001b[0m\u001b[1;33m\u001b[0m\u001b[0m\n\u001b[0;32m   3081\u001b[0m             \u001b[1;32mexcept\u001b[0m \u001b[0mKeyError\u001b[0m \u001b[1;32mas\u001b[0m \u001b[0merr\u001b[0m\u001b[1;33m:\u001b[0m\u001b[1;33m\u001b[0m\u001b[1;33m\u001b[0m\u001b[0m\n\u001b[1;32m-> 3082\u001b[1;33m                 \u001b[1;32mraise\u001b[0m \u001b[0mKeyError\u001b[0m\u001b[1;33m(\u001b[0m\u001b[0mkey\u001b[0m\u001b[1;33m)\u001b[0m \u001b[1;32mfrom\u001b[0m \u001b[0merr\u001b[0m\u001b[1;33m\u001b[0m\u001b[1;33m\u001b[0m\u001b[0m\n\u001b[0m\u001b[0;32m   3083\u001b[0m \u001b[1;33m\u001b[0m\u001b[0m\n\u001b[0;32m   3084\u001b[0m         \u001b[1;32mif\u001b[0m \u001b[0mtolerance\u001b[0m \u001b[1;32mis\u001b[0m \u001b[1;32mnot\u001b[0m \u001b[1;32mNone\u001b[0m\u001b[1;33m:\u001b[0m\u001b[1;33m\u001b[0m\u001b[1;33m\u001b[0m\u001b[0m\n",
      "\u001b[1;31mKeyError\u001b[0m: 'title'"
     ]
    }
   ],
   "source": [
    "df_t[\"title\"] = df_t[\"title\"].apply(wordopt)"
   ]
  },
  {
   "cell_type": "code",
   "execution_count": 23,
   "metadata": {},
   "outputs": [
    {
     "output_type": "execute_result",
     "data": {
      "text/plain": [
       "                                                text  class\n",
       "0  distracted driving causes more deaths in canad...      2\n",
       "1  missouri politicians have made statements afte...      1\n",
       "2  home alone   lost in new york is full of viole...      1\n",
       "3  but things took a turn for the worse when riot...      2\n",
       "4  it s no secret that epstein and schiff share a...      2\n",
       "5  nation  updated   pm   k a b o o m  governor a...      3\n",
       "6  november     the u s  food and drug administra...      2\n",
       "7  trump confirms this was a bombing  not an acci...      2\n",
       "8  in a show of anti american sentiment that will...      2\n",
       "9  fema camps  portable human cages  it s all rea...      2"
      ],
      "text/html": "<div>\n<style scoped>\n    .dataframe tbody tr th:only-of-type {\n        vertical-align: middle;\n    }\n\n    .dataframe tbody tr th {\n        vertical-align: top;\n    }\n\n    .dataframe thead th {\n        text-align: right;\n    }\n</style>\n<table border=\"1\" class=\"dataframe\">\n  <thead>\n    <tr style=\"text-align: right;\">\n      <th></th>\n      <th>text</th>\n      <th>class</th>\n    </tr>\n  </thead>\n  <tbody>\n    <tr>\n      <th>0</th>\n      <td>distracted driving causes more deaths in canad...</td>\n      <td>2</td>\n    </tr>\n    <tr>\n      <th>1</th>\n      <td>missouri politicians have made statements afte...</td>\n      <td>1</td>\n    </tr>\n    <tr>\n      <th>2</th>\n      <td>home alone   lost in new york is full of viole...</td>\n      <td>1</td>\n    </tr>\n    <tr>\n      <th>3</th>\n      <td>but things took a turn for the worse when riot...</td>\n      <td>2</td>\n    </tr>\n    <tr>\n      <th>4</th>\n      <td>it s no secret that epstein and schiff share a...</td>\n      <td>2</td>\n    </tr>\n    <tr>\n      <th>5</th>\n      <td>nation  updated   pm   k a b o o m  governor a...</td>\n      <td>3</td>\n    </tr>\n    <tr>\n      <th>6</th>\n      <td>november     the u s  food and drug administra...</td>\n      <td>2</td>\n    </tr>\n    <tr>\n      <th>7</th>\n      <td>trump confirms this was a bombing  not an acci...</td>\n      <td>2</td>\n    </tr>\n    <tr>\n      <th>8</th>\n      <td>in a show of anti american sentiment that will...</td>\n      <td>2</td>\n    </tr>\n    <tr>\n      <th>9</th>\n      <td>fema camps  portable human cages  it s all rea...</td>\n      <td>2</td>\n    </tr>\n  </tbody>\n</table>\n</div>"
     },
     "metadata": {},
     "execution_count": 23
    }
   ],
   "source": [
    "df_t.head(10)"
   ]
  },
  {
   "cell_type": "markdown",
   "metadata": {},
   "source": [
    "#### Defining dependent and independent variable as x and y"
   ]
  },
  {
   "cell_type": "code",
   "execution_count": 24,
   "metadata": {},
   "outputs": [],
   "source": [
    "x = df_t[\"text\"]\n",
    "y = df_t[\"class\"]"
   ]
  },
  {
   "cell_type": "markdown",
   "metadata": {},
   "source": [
    "#### Splitting the dataset into training set and testing set. "
   ]
  },
  {
   "cell_type": "code",
   "execution_count": 25,
   "metadata": {},
   "outputs": [],
   "source": [
    "x_train, x_test, y_train, y_test = train_test_split(x, y, test_size=0.25)"
   ]
  },
  {
   "cell_type": "markdown",
   "metadata": {},
   "source": [
    "#### Convert text to vectors"
   ]
  },
  {
   "cell_type": "code",
   "execution_count": 26,
   "metadata": {},
   "outputs": [],
   "source": [
    "from sklearn.feature_extraction.text import TfidfVectorizer"
   ]
  },
  {
   "cell_type": "code",
   "execution_count": 27,
   "metadata": {},
   "outputs": [],
   "source": [
    "vectorization = TfidfVectorizer()\n",
    "xv_train = vectorization.fit_transform(x_train)\n",
    "xv_test = vectorization.transform(x_test)"
   ]
  },
  {
   "cell_type": "markdown",
   "metadata": {},
   "source": [
    "### 1. Logistic Regression"
   ]
  },
  {
   "cell_type": "code",
   "execution_count": 28,
   "metadata": {},
   "outputs": [],
   "source": [
    "from sklearn.linear_model import LogisticRegression"
   ]
  },
  {
   "cell_type": "code",
   "execution_count": 29,
   "metadata": {},
   "outputs": [
    {
     "output_type": "execute_result",
     "data": {
      "text/plain": [
       "LogisticRegression()"
      ]
     },
     "metadata": {},
     "execution_count": 29
    }
   ],
   "source": [
    "LR = LogisticRegression()\n",
    "LR.fit(xv_train,y_train)"
   ]
  },
  {
   "cell_type": "code",
   "execution_count": 30,
   "metadata": {},
   "outputs": [],
   "source": [
    "pred_lr=LR.predict(xv_test)"
   ]
  },
  {
   "cell_type": "code",
   "execution_count": 31,
   "metadata": {},
   "outputs": [
    {
     "output_type": "execute_result",
     "data": {
      "text/plain": [
       "0.6818181818181818"
      ]
     },
     "metadata": {},
     "execution_count": 31
    }
   ],
   "source": [
    "LR.score(xv_test, y_test)"
   ]
  },
  {
   "cell_type": "code",
   "execution_count": 34,
   "metadata": {},
   "outputs": [
    {
     "output_type": "stream",
     "name": "stdout",
     "text": [
      "              precision    recall  f1-score   support\n\n           0       0.00      0.00      0.00         7\n           1       0.00      0.00      0.00        21\n           2       0.68      1.00      0.81        75\n           3       0.00      0.00      0.00         7\n\n    accuracy                           0.68       110\n   macro avg       0.17      0.25      0.20       110\nweighted avg       0.46      0.68      0.55       110\n\n"
     ]
    }
   ],
   "source": [
    "print(classification_report(y_test, pred_lr))"
   ]
  },
  {
   "cell_type": "markdown",
   "metadata": {},
   "source": [
    "### 2. Decision Tree Classification"
   ]
  },
  {
   "cell_type": "code",
   "execution_count": 35,
   "metadata": {},
   "outputs": [],
   "source": [
    "from sklearn.tree import DecisionTreeClassifier"
   ]
  },
  {
   "cell_type": "code",
   "execution_count": 36,
   "metadata": {},
   "outputs": [
    {
     "output_type": "execute_result",
     "data": {
      "text/plain": [
       "DecisionTreeClassifier()"
      ]
     },
     "metadata": {},
     "execution_count": 36
    }
   ],
   "source": [
    "DT = DecisionTreeClassifier()\n",
    "DT.fit(xv_train, y_train)"
   ]
  },
  {
   "cell_type": "code",
   "execution_count": 37,
   "metadata": {},
   "outputs": [],
   "source": [
    "pred_dt = DT.predict(xv_test)"
   ]
  },
  {
   "cell_type": "code",
   "execution_count": 38,
   "metadata": {},
   "outputs": [
    {
     "output_type": "execute_result",
     "data": {
      "text/plain": [
       "0.5454545454545454"
      ]
     },
     "metadata": {},
     "execution_count": 38
    }
   ],
   "source": [
    "DT.score(xv_test, y_test)"
   ]
  },
  {
   "cell_type": "code",
   "execution_count": 39,
   "metadata": {},
   "outputs": [
    {
     "output_type": "stream",
     "name": "stdout",
     "text": [
      "              precision    recall  f1-score   support\n\n           0       0.00      0.00      0.00         7\n           1       0.28      0.24      0.26        21\n           2       0.68      0.73      0.71        75\n           3       0.00      0.00      0.00         7\n\n    accuracy                           0.55       110\n   macro avg       0.24      0.24      0.24       110\nweighted avg       0.52      0.55      0.53       110\n\n"
     ]
    }
   ],
   "source": [
    "print(classification_report(y_test, pred_dt))"
   ]
  },
  {
   "cell_type": "markdown",
   "metadata": {},
   "source": [
    "### 3. Gradient Boosting Classifier"
   ]
  },
  {
   "cell_type": "code",
   "execution_count": 40,
   "metadata": {},
   "outputs": [],
   "source": [
    "from sklearn.ensemble import GradientBoostingClassifier"
   ]
  },
  {
   "cell_type": "code",
   "execution_count": 41,
   "metadata": {},
   "outputs": [
    {
     "output_type": "execute_result",
     "data": {
      "text/plain": [
       "GradientBoostingClassifier(random_state=0)"
      ]
     },
     "metadata": {},
     "execution_count": 41
    }
   ],
   "source": [
    "GBC = GradientBoostingClassifier(random_state=0)\n",
    "GBC.fit(xv_train, y_train)"
   ]
  },
  {
   "cell_type": "code",
   "execution_count": 42,
   "metadata": {},
   "outputs": [],
   "source": [
    "pred_gbc = GBC.predict(xv_test)"
   ]
  },
  {
   "cell_type": "code",
   "execution_count": 43,
   "metadata": {},
   "outputs": [
    {
     "output_type": "execute_result",
     "data": {
      "text/plain": [
       "0.6818181818181818"
      ]
     },
     "metadata": {},
     "execution_count": 43
    }
   ],
   "source": [
    "GBC.score(xv_test, y_test)"
   ]
  },
  {
   "cell_type": "code",
   "execution_count": 44,
   "metadata": {},
   "outputs": [
    {
     "output_type": "stream",
     "name": "stdout",
     "text": [
      "              precision    recall  f1-score   support\n\n           0       0.00      0.00      0.00         7\n           1       0.56      0.24      0.33        21\n           2       0.73      0.93      0.82        75\n           3       0.00      0.00      0.00         7\n\n    accuracy                           0.68       110\n   macro avg       0.32      0.29      0.29       110\nweighted avg       0.60      0.68      0.62       110\n\n"
     ]
    }
   ],
   "source": [
    "print(classification_report(y_test, pred_gbc))"
   ]
  },
  {
   "cell_type": "markdown",
   "metadata": {},
   "source": [
    "### 4. Random Forest Classifier"
   ]
  },
  {
   "cell_type": "code",
   "execution_count": 45,
   "metadata": {},
   "outputs": [],
   "source": [
    "from sklearn.ensemble import RandomForestClassifier"
   ]
  },
  {
   "cell_type": "code",
   "execution_count": 46,
   "metadata": {},
   "outputs": [
    {
     "output_type": "execute_result",
     "data": {
      "text/plain": [
       "RandomForestClassifier(random_state=0)"
      ]
     },
     "metadata": {},
     "execution_count": 46
    }
   ],
   "source": [
    "RFC = RandomForestClassifier(random_state=0)\n",
    "RFC.fit(xv_train, y_train)"
   ]
  },
  {
   "cell_type": "code",
   "execution_count": 47,
   "metadata": {},
   "outputs": [],
   "source": [
    "pred_rfc = RFC.predict(xv_test)"
   ]
  },
  {
   "cell_type": "code",
   "execution_count": 48,
   "metadata": {},
   "outputs": [
    {
     "output_type": "execute_result",
     "data": {
      "text/plain": [
       "0.6818181818181818"
      ]
     },
     "metadata": {},
     "execution_count": 48
    }
   ],
   "source": [
    "RFC.score(xv_test, y_test)"
   ]
  },
  {
   "cell_type": "code",
   "execution_count": 49,
   "metadata": {},
   "outputs": [
    {
     "output_type": "stream",
     "name": "stdout",
     "text": [
      "              precision    recall  f1-score   support\n",
      "\n",
      "           0       0.00      0.00      0.00         7\n",
      "           1       0.00      0.00      0.00        21\n",
      "           2       0.68      1.00      0.81        75\n",
      "           3       0.00      0.00      0.00         7\n",
      "\n",
      "    accuracy                           0.68       110\n",
      "   macro avg       0.17      0.25      0.20       110\n",
      "weighted avg       0.46      0.68      0.55       110\n",
      "\n",
      "C:\\Users\\smsoh\\AppData\\Local\\Programs\\Python\\Python38\\lib\\site-packages\\sklearn\\metrics\\_classification.py:1221: UndefinedMetricWarning: Precision and F-score are ill-defined and being set to 0.0 in labels with no predicted samples. Use `zero_division` parameter to control this behavior.\n",
      "  _warn_prf(average, modifier, msg_start, len(result))\n"
     ]
    }
   ],
   "source": [
    "print(classification_report(y_test, pred_rfc))"
   ]
  },
  {
   "cell_type": "markdown",
   "metadata": {},
   "source": [
    "# Model Testing With Manual Entry\n",
    "\n",
    "### News"
   ]
  },
  {
   "cell_type": "code",
   "execution_count": 50,
   "metadata": {},
   "outputs": [],
   "source": [
    "def output_lable(n):\n",
    "    if n == 0:\n",
    "        return \"Fake News\"\n",
    "    elif n == 1:\n",
    "        return \"Not A Fake News\"\n",
    "    \n",
    "def manual_testing(news):\n",
    "    testing_news = {\"text\":[news]}\n",
    "    new_def_test = pd.DataFrame(testing_news)\n",
    "    new_def_test[\"text\"] = new_def_test[\"text\"].apply(wordopt) \n",
    "    new_x_test = new_def_test[\"text\"]\n",
    "    new_xv_test = vectorization.transform(new_x_test)\n",
    "    pred_LR = LR.predict(new_xv_test)\n",
    "    pred_DT = DT.predict(new_xv_test)\n",
    "    pred_GBC = GBC.predict(new_xv_test)\n",
    "    pred_RFC = RFC.predict(new_xv_test)\n",
    "\n",
    "    return print(\"\\n\\nLR Prediction: {} \\nDT Prediction: {} \\nGBC Prediction: {} \\nRFC Prediction: {}\".format(output_lable(pred_LR[0]), \n",
    "                                                                                                              output_lable(pred_DT[0]), \n",
    "                                                                                                              output_lable(pred_GBC[0]), \n",
    "                                                                                                              output_lable(pred_RFC[0])))"
   ]
  },
  {
   "cell_type": "code",
   "execution_count": 51,
   "metadata": {},
   "outputs": [
    {
     "output_type": "stream",
     "name": "stdout",
     "text": [
      "\n\nLR Prediction: None \nDT Prediction: None \nGBC Prediction: None \nRFC Prediction: None\n"
     ]
    }
   ],
   "source": [
    "news = str(input())\n",
    "manual_testing(news)"
   ]
  },
  {
   "cell_type": "code",
   "execution_count": null,
   "metadata": {},
   "outputs": [],
   "source": []
  }
 ],
 "metadata": {
  "kernelspec": {
   "name": "python388jvsc74a57bd0a8a565e09f07703efdc86ec03ccdbe7c8a022a338e4d0d45f87f70f34a61d8ea",
   "display_name": "Python 3.8.8 64-bit"
  },
  "language_info": {
   "codemirror_mode": {
    "name": "ipython",
    "version": 3
   },
   "file_extension": ".py",
   "mimetype": "text/x-python",
   "name": "python",
   "nbconvert_exporter": "python",
   "pygments_lexer": "ipython3",
   "version": "3.8.8"
  },
  "metadata": {
   "interpreter": {
    "hash": "a8a565e09f07703efdc86ec03ccdbe7c8a022a338e4d0d45f87f70f34a61d8ea"
   }
  }
 },
 "nbformat": 4,
 "nbformat_minor": 2
}