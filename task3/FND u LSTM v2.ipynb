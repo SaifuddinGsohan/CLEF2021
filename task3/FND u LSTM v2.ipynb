{
 "cells": [
  {
   "cell_type": "markdown",
   "metadata": {},
   "source": [
    "## Fake News Classifier Using LSTM\n",
    "\n",
    "Dataset: https://www.kaggle.com/c/fake-news/data#"
   ]
  },
  {
   "cell_type": "code",
   "execution_count": 4,
   "metadata": {},
   "outputs": [],
   "source": [
    "import pandas as pd"
   ]
  },
  {
   "cell_type": "code",
   "execution_count": 5,
   "metadata": {},
   "outputs": [],
   "source": [
    "df=pd.read_csv('data/task_3a_sample_data.csv')"
   ]
  },
  {
   "cell_type": "code",
   "execution_count": 6,
   "metadata": {},
   "outputs": [
    {
     "output_type": "execute_result",
     "data": {
      "text/plain": [
       "  public_id                                              title  \\\n",
       "0  f2182a54  HUGE! Attorney Sidney Powell CONFIRMS Alleged ...   \n",
       "1  c5175d8d        Paul Ryan’s Worst Ally - The New York Times   \n",
       "2  213a870b  You Can Get Jail Time Or $3,000 Fine For Not W...   \n",
       "3  392886ea  Antifa gearing up for false flag violence disg...   \n",
       "4  bc6d5d55  Remarks by President Biden on the Administrati...   \n",
       "\n",
       "                                                text       our rating  \n",
       "0  Last week Rep. Louie Gohmert told Chris Salced...            FALSE  \n",
       "1  WHATEVER drama plays out when Republicans meet...             TRUE  \n",
       "2  Source page URL  Title You Can Get Jail Time O...            FALSE  \n",
       "3  With merchants in Democrat-run cities boarding...            FALSE  \n",
       "4  State Dining Room  4:22 P.M. EST  THE PRESIDEN...  partially false  "
      ],
      "text/html": "<div>\n<style scoped>\n    .dataframe tbody tr th:only-of-type {\n        vertical-align: middle;\n    }\n\n    .dataframe tbody tr th {\n        vertical-align: top;\n    }\n\n    .dataframe thead th {\n        text-align: right;\n    }\n</style>\n<table border=\"1\" class=\"dataframe\">\n  <thead>\n    <tr style=\"text-align: right;\">\n      <th></th>\n      <th>public_id</th>\n      <th>title</th>\n      <th>text</th>\n      <th>our rating</th>\n    </tr>\n  </thead>\n  <tbody>\n    <tr>\n      <th>0</th>\n      <td>f2182a54</td>\n      <td>HUGE! Attorney Sidney Powell CONFIRMS Alleged ...</td>\n      <td>Last week Rep. Louie Gohmert told Chris Salced...</td>\n      <td>FALSE</td>\n    </tr>\n    <tr>\n      <th>1</th>\n      <td>c5175d8d</td>\n      <td>Paul Ryan’s Worst Ally - The New York Times</td>\n      <td>WHATEVER drama plays out when Republicans meet...</td>\n      <td>TRUE</td>\n    </tr>\n    <tr>\n      <th>2</th>\n      <td>213a870b</td>\n      <td>You Can Get Jail Time Or $3,000 Fine For Not W...</td>\n      <td>Source page URL  Title You Can Get Jail Time O...</td>\n      <td>FALSE</td>\n    </tr>\n    <tr>\n      <th>3</th>\n      <td>392886ea</td>\n      <td>Antifa gearing up for false flag violence disg...</td>\n      <td>With merchants in Democrat-run cities boarding...</td>\n      <td>FALSE</td>\n    </tr>\n    <tr>\n      <th>4</th>\n      <td>bc6d5d55</td>\n      <td>Remarks by President Biden on the Administrati...</td>\n      <td>State Dining Room  4:22 P.M. EST  THE PRESIDEN...</td>\n      <td>partially false</td>\n    </tr>\n  </tbody>\n</table>\n</div>"
     },
     "metadata": {},
     "execution_count": 6
    }
   ],
   "source": [
    "df.head()"
   ]
  },
  {
   "cell_type": "code",
   "execution_count": 8,
   "metadata": {},
   "outputs": [
    {
     "output_type": "execute_result",
     "data": {
      "text/plain": [
       "  public_id                                              title  \\\n",
       "0  f2182a54  HUGE! Attorney Sidney Powell CONFIRMS Alleged ...   \n",
       "1  c5175d8d        Paul Ryan’s Worst Ally - The New York Times   \n",
       "2  213a870b  You Can Get Jail Time Or $3,000 Fine For Not W...   \n",
       "3  392886ea  Antifa gearing up for false flag violence disg...   \n",
       "4  bc6d5d55  Remarks by President Biden on the Administrati...   \n",
       "\n",
       "                                                text       our rating  label  \n",
       "0  Last week Rep. Louie Gohmert told Chris Salced...            FALSE     -1  \n",
       "1  WHATEVER drama plays out when Republicans meet...             TRUE      1  \n",
       "2  Source page URL  Title You Can Get Jail Time O...            FALSE     -1  \n",
       "3  With merchants in Democrat-run cities boarding...            FALSE     -1  \n",
       "4  State Dining Room  4:22 P.M. EST  THE PRESIDEN...  partially false      0  "
      ],
      "text/html": "<div>\n<style scoped>\n    .dataframe tbody tr th:only-of-type {\n        vertical-align: middle;\n    }\n\n    .dataframe tbody tr th {\n        vertical-align: top;\n    }\n\n    .dataframe thead th {\n        text-align: right;\n    }\n</style>\n<table border=\"1\" class=\"dataframe\">\n  <thead>\n    <tr style=\"text-align: right;\">\n      <th></th>\n      <th>public_id</th>\n      <th>title</th>\n      <th>text</th>\n      <th>our rating</th>\n      <th>label</th>\n    </tr>\n  </thead>\n  <tbody>\n    <tr>\n      <th>0</th>\n      <td>f2182a54</td>\n      <td>HUGE! Attorney Sidney Powell CONFIRMS Alleged ...</td>\n      <td>Last week Rep. Louie Gohmert told Chris Salced...</td>\n      <td>FALSE</td>\n      <td>-1</td>\n    </tr>\n    <tr>\n      <th>1</th>\n      <td>c5175d8d</td>\n      <td>Paul Ryan’s Worst Ally - The New York Times</td>\n      <td>WHATEVER drama plays out when Republicans meet...</td>\n      <td>TRUE</td>\n      <td>1</td>\n    </tr>\n    <tr>\n      <th>2</th>\n      <td>213a870b</td>\n      <td>You Can Get Jail Time Or $3,000 Fine For Not W...</td>\n      <td>Source page URL  Title You Can Get Jail Time O...</td>\n      <td>FALSE</td>\n      <td>-1</td>\n    </tr>\n    <tr>\n      <th>3</th>\n      <td>392886ea</td>\n      <td>Antifa gearing up for false flag violence disg...</td>\n      <td>With merchants in Democrat-run cities boarding...</td>\n      <td>FALSE</td>\n      <td>-1</td>\n    </tr>\n    <tr>\n      <th>4</th>\n      <td>bc6d5d55</td>\n      <td>Remarks by President Biden on the Administrati...</td>\n      <td>State Dining Room  4:22 P.M. EST  THE PRESIDEN...</td>\n      <td>partially false</td>\n      <td>0</td>\n    </tr>\n  </tbody>\n</table>\n</div>"
     },
     "metadata": {},
     "execution_count": 8
    }
   ],
   "source": [
    "df['label'] = df['our rating'].apply(lambda x: 1 if 'true' in x.lower() else ( 0 if 'partially false' in x.lower() else -1))\n",
    "df.head()"
   ]
  },
  {
   "cell_type": "code",
   "execution_count": 9,
   "metadata": {},
   "outputs": [],
   "source": [
    "###Drop Nan Values\n",
    "df=df.dropna()\n"
   ]
  },
  {
   "cell_type": "code",
   "execution_count": 10,
   "metadata": {},
   "outputs": [],
   "source": [
    "## Get the Independent Features\n",
    "\n",
    "X=df.drop('label',axis=1)"
   ]
  },
  {
   "cell_type": "code",
   "execution_count": 11,
   "metadata": {},
   "outputs": [],
   "source": [
    "## Get the Dependent features\n",
    "y=df['label']"
   ]
  },
  {
   "cell_type": "code",
   "execution_count": 12,
   "metadata": {},
   "outputs": [
    {
     "output_type": "execute_result",
     "data": {
      "text/plain": [
       "(50, 4)"
      ]
     },
     "metadata": {},
     "execution_count": 12
    }
   ],
   "source": [
    "X.shape"
   ]
  },
  {
   "cell_type": "code",
   "execution_count": 13,
   "metadata": {},
   "outputs": [
    {
     "output_type": "execute_result",
     "data": {
      "text/plain": [
       "(50,)"
      ]
     },
     "metadata": {},
     "execution_count": 13
    }
   ],
   "source": [
    "y.shape"
   ]
  },
  {
   "cell_type": "code",
   "execution_count": 14,
   "metadata": {},
   "outputs": [],
   "source": [
    "import tensorflow as tf"
   ]
  },
  {
   "cell_type": "code",
   "execution_count": 15,
   "metadata": {},
   "outputs": [
    {
     "output_type": "execute_result",
     "data": {
      "text/plain": [
       "'2.4.1'"
      ]
     },
     "metadata": {},
     "execution_count": 15
    }
   ],
   "source": [
    "tf.__version__"
   ]
  },
  {
   "cell_type": "code",
   "execution_count": 16,
   "metadata": {},
   "outputs": [],
   "source": [
    "from tensorflow.keras.layers import Embedding\n",
    "from tensorflow.keras.preprocessing.sequence import pad_sequences\n",
    "from tensorflow.keras.models import Sequential\n",
    "from tensorflow.keras.preprocessing.text import one_hot\n",
    "from tensorflow.keras.layers import LSTM\n",
    "from tensorflow.keras.layers import Dense"
   ]
  },
  {
   "cell_type": "code",
   "execution_count": 17,
   "metadata": {},
   "outputs": [],
   "source": [
    "### Vocabulary size\n",
    "voc_size=5000"
   ]
  },
  {
   "cell_type": "markdown",
   "metadata": {},
   "source": [
    "### Onehot Representation"
   ]
  },
  {
   "cell_type": "code",
   "execution_count": 18,
   "metadata": {},
   "outputs": [],
   "source": [
    "messages=X.copy()"
   ]
  },
  {
   "cell_type": "code",
   "execution_count": 19,
   "metadata": {},
   "outputs": [
    {
     "output_type": "execute_result",
     "data": {
      "text/plain": [
       "'Paul Ryan’s Worst Ally - The New York Times'"
      ]
     },
     "metadata": {},
     "execution_count": 19
    }
   ],
   "source": [
    "messages['title'][1]"
   ]
  },
  {
   "cell_type": "code",
   "execution_count": 20,
   "metadata": {},
   "outputs": [],
   "source": [
    "messages.reset_index(inplace=True)"
   ]
  },
  {
   "cell_type": "code",
   "execution_count": 23,
   "metadata": {},
   "outputs": [],
   "source": [
    "import nltk\n",
    "import re\n",
    "from nltk.corpus import stopwords"
   ]
  },
  {
   "cell_type": "code",
   "execution_count": 24,
   "metadata": {},
   "outputs": [
    {
     "output_type": "stream",
     "name": "stderr",
     "text": [
      "[nltk_data] Downloading package stopwords to\n",
      "[nltk_data]     C:\\Users\\smsoh\\AppData\\Roaming\\nltk_data...\n",
      "[nltk_data]   Unzipping corpora\\stopwords.zip.\n"
     ]
    },
    {
     "output_type": "execute_result",
     "data": {
      "text/plain": [
       "True"
      ]
     },
     "metadata": {},
     "execution_count": 24
    }
   ],
   "source": [
    "nltk.download('stopwords')"
   ]
  },
  {
   "cell_type": "code",
   "execution_count": 25,
   "metadata": {},
   "outputs": [
    {
     "output_type": "stream",
     "name": "stdout",
     "text": [
      "0\n",
      "1\n",
      "2\n",
      "3\n",
      "4\n",
      "5\n",
      "6\n",
      "7\n",
      "8\n",
      "9\n",
      "10\n",
      "11\n",
      "12\n",
      "13\n",
      "14\n",
      "15\n",
      "16\n",
      "17\n",
      "18\n",
      "19\n",
      "20\n",
      "21\n",
      "22\n",
      "23\n",
      "24\n",
      "25\n",
      "26\n",
      "27\n",
      "28\n",
      "29\n",
      "30\n",
      "31\n",
      "32\n",
      "33\n",
      "34\n",
      "35\n",
      "36\n",
      "37\n",
      "38\n",
      "39\n",
      "40\n",
      "41\n",
      "42\n",
      "43\n",
      "44\n",
      "45\n",
      "46\n",
      "47\n",
      "48\n",
      "49\n"
     ]
    }
   ],
   "source": [
    "### Dataset Preprocessing\n",
    "from nltk.stem.porter import PorterStemmer\n",
    "ps = PorterStemmer()\n",
    "corpus = []\n",
    "for i in range(0, len(messages)):\n",
    "    print(i)\n",
    "    review = re.sub('[^a-zA-Z]', ' ', messages['title'][i])\n",
    "    review = review.lower()\n",
    "    review = review.split()\n",
    "    \n",
    "    review = [ps.stem(word) for word in review if not word in stopwords.words('english')]\n",
    "    review = ' '.join(review)\n",
    "    corpus.append(review)"
   ]
  },
  {
   "cell_type": "code",
   "execution_count": 26,
   "metadata": {},
   "outputs": [
    {
     "output_type": "execute_result",
     "data": {
      "text/plain": [
       "['huge attorney sidney powel confirm alleg dominion server germani confisc video',\n",
       " 'paul ryan worst alli new york time',\n",
       " 'get jail time fine wear face mask canada start today canada eh',\n",
       " 'antifa gear fals flag violenc disguis trump support',\n",
       " 'remark presid biden administr covid vaccin effort',\n",
       " 'infowar articl',\n",
       " 'bombshel covid infect rate may higher among children receiv flu shot health author madli push shot come flu season',\n",
       " 'marin corp rebuk pelosi work',\n",
       " 'fine ban drive smoke drive canada start today',\n",
       " 'scott walker still owe million presidenti campaign',\n",
       " 'blaylock face mask pose seriou risk healthi',\n",
       " 'kamala harri say support second amend right record prove otherwis',\n",
       " 'wisconsin elect commiss direct allow clerk fix ballot updat',\n",
       " 'trump worst kind socialist',\n",
       " 'wisdem farmer crush trump fail covid respons drag entir presid',\n",
       " 'former presid barack obama arrest espionag conserv beaver',\n",
       " 'merck scrap covid vaccin say effect get viru recov',\n",
       " 'u senat tammi baldwin wisconsin',\n",
       " 'danni connor time troy balderson money go novemb rematch',\n",
       " 'pro life group upset un coronaviru relief fund promot abort ecuador',\n",
       " 'hal turner chines soldier bomb kill main list earthquak',\n",
       " 'cbc cut donald trump home alon cameo broadcast',\n",
       " 'new research toxic bait might provid control wild hog problem texa state',\n",
       " 'netizen nabahala ngayon matapo mapabalita na may bagong viru na naman na kumakalat ngayon gale china light feed',\n",
       " 'watch bill gate admit covid vaccin might kill nearli peopl clover chronicl',\n",
       " 'victim voter fraud initi announc deceas georgian use vote gener elect',\n",
       " 'trudeau bought mother car use chariti fund conserv',\n",
       " 'cynthia nixon slam cuomo albani cultur corrupt',\n",
       " 'senat republican leader ortt republican confer announc plan reset new york state',\n",
       " 'break us militari white hous arrest congress',\n",
       " 'new bill would allow texa teacher kill student felt need',\n",
       " 'current actual elect result updat presid trump lead elector colleg path victori biden',\n",
       " 'challeng await panetta dod',\n",
       " 'rep david mckinley call increas border patrol agent rank',\n",
       " 'austin american statesman local news polit sport austin tx',\n",
       " 'ga price drop n state still pretti high',\n",
       " 'nation guard turn back biden motorcad',\n",
       " 'florida law hous parti underag drink penalti',\n",
       " 'state rhode island gener assembl',\n",
       " 'softwar issu michigan gave biden estim trump vote',\n",
       " 'close mexico border would affect u avocado suppli greatli',\n",
       " 'cdc expos inflat covid death throughout elect violat multipl feder law peer review studi find state local govern must act',\n",
       " 'rep vo sen fitzgerald gov ever plan provid roadblock reopen wisconsin',\n",
       " 'flu vaccin death south korea risen nearli prime minist ask investig',\n",
       " 'un forc admit gate fund vaccin caus polio outbreak africa global research',\n",
       " 'evan dueker take look st loui crime',\n",
       " 'blm rule white attend protest',\n",
       " 'canadian govt publish bid request programm hydraul guillotin need support canada respons covid',\n",
       " 'josh mandel disclos financ show wife extens hold trust',\n",
       " 'fact check harri say biden ban frack video show biden say would']"
      ]
     },
     "metadata": {},
     "execution_count": 26
    }
   ],
   "source": [
    "corpus"
   ]
  },
  {
   "cell_type": "code",
   "execution_count": 28,
   "metadata": {},
   "outputs": [
    {
     "output_type": "execute_result",
     "data": {
      "text/plain": [
       "[[2733, 3010, 1245, 4982, 781, 1153, 4997, 3913, 3985, 2722, 250],\n",
       " [4605, 2516, 2490, 4585, 4000, 4216, 617],\n",
       " [2525, 2656, 617, 1093, 482, 3261, 4536, 4980, 4905, 54, 4980, 808],\n",
       " [2893, 1218, 2166, 4708, 594, 2914, 3482, 3056],\n",
       " [2538, 2712, 374, 1615, 1501, 2232, 3593],\n",
       " [2356, 589],\n",
       " [401,\n",
       "  1501,\n",
       "  4753,\n",
       "  3745,\n",
       "  4280,\n",
       "  1695,\n",
       "  2997,\n",
       "  10,\n",
       "  982,\n",
       "  4266,\n",
       "  747,\n",
       "  2242,\n",
       "  4869,\n",
       "  2831,\n",
       "  4156,\n",
       "  747,\n",
       "  45,\n",
       "  4266,\n",
       "  4377],\n",
       " [2967, 3894, 1130, 3482, 129],\n",
       " [1093, 3351, 3759, 4267, 3759, 4980, 4905, 54],\n",
       " [1613, 4877, 3453, 1798, 4892, 2476, 2850],\n",
       " [4303, 3261, 4536, 1147, 4432, 2614, 3617],\n",
       " [1428, 355, 4257, 3056, 2427, 712, 1316, 3650, 2181, 696],\n",
       " [3702, 3745, 3340, 2895, 611, 2727, 478, 3197, 380],\n",
       " [3482, 2490, 2837, 225],\n",
       " [1385, 1093, 860, 3482, 2488, 1501, 3895, 1490, 2870, 2712],\n",
       " [3748, 2712, 3288, 1279, 4650, 170, 1129, 1449],\n",
       " [266, 2939, 1501, 2232, 4257, 3448, 2525, 4109, 3591],\n",
       " [106, 4486, 707, 2414, 3702],\n",
       " [4378, 1681, 617, 1090, 2981, 4247, 2737, 2738, 2188],\n",
       " [2641, 3804, 2580, 2649, 3621, 1236, 4141, 2540, 1793, 4212, 385],\n",
       " [4541, 3372, 3636, 3471, 29, 2082, 4070, 4028, 1907],\n",
       " [3923, 4705, 4162, 3482, 559, 4618, 1456, 4062],\n",
       " [4000, 4953, 861, 816, 3960, 429, 298, 399, 2029, 1098, 1072, 4927],\n",
       " [422,\n",
       "  608,\n",
       "  3386,\n",
       "  4688,\n",
       "  446,\n",
       "  3740,\n",
       "  4280,\n",
       "  820,\n",
       "  4109,\n",
       "  3740,\n",
       "  2793,\n",
       "  3740,\n",
       "  2546,\n",
       "  3386,\n",
       "  1307,\n",
       "  2830,\n",
       "  2775,\n",
       "  624],\n",
       " [1236, 1705, 3399, 1308, 1501, 2232, 3960, 2082, 2212, 3867, 1404, 443],\n",
       " [1560, 3427, 307, 3121, 2619, 1646, 2401, 2080, 4004, 3964, 3745],\n",
       " [3303, 2115, 2274, 4451, 2080, 2361, 2540, 1129],\n",
       " [3409, 431, 1816, 1759, 1363, 4262, 2015],\n",
       " [4486, 2512, 4914, 1, 2512, 1179, 2619, 3022, 3571, 4000, 4216, 4927],\n",
       " [1096, 2535, 4208, 1329, 621, 4650, 1361],\n",
       " [4000, 1705, 2319, 611, 1072, 3598, 2082, 3797, 3937, 3300],\n",
       " [2584, 1589, 3745, 693, 380, 2712, 3482, 546, 4427, 2554, 2621, 3031, 374],\n",
       " [1419, 2336, 2402, 4586],\n",
       " [3024, 717, 3523, 2479, 4315, 4402, 279, 2630, 3830],\n",
       " [2271, 3189, 4744, 1113, 981, 1804, 621, 2271, 4264],\n",
       " [789, 55, 4563, 4132, 4927, 3453, 4626, 1067],\n",
       " [3001, 2311, 1820, 2799, 374, 4173],\n",
       " [2100, 745, 621, 243, 651, 1285, 1039],\n",
       " [4927, 1689, 1342, 3964, 1128],\n",
       " [977, 1599, 3764, 3223, 374, 957, 3482, 4004],\n",
       " [2790, 2093, 4402, 2319, 3540, 106, 3701, 1013, 2779],\n",
       " [3465,\n",
       "  3506,\n",
       "  1823,\n",
       "  1501,\n",
       "  967,\n",
       "  1161,\n",
       "  3745,\n",
       "  2807,\n",
       "  1795,\n",
       "  2926,\n",
       "  745,\n",
       "  491,\n",
       "  402,\n",
       "  524,\n",
       "  2707,\n",
       "  4927,\n",
       "  1113,\n",
       "  4312,\n",
       "  2316,\n",
       "  2335],\n",
       " [3024, 1974, 1663, 1234, 3891, 4218, 3022, 429, 1266, 656, 3702],\n",
       " [4266, 2232, 967, 3090, 653, 2415, 2212, 1009, 2403, 4337, 1553],\n",
       " [3621, 4103, 1308, 3399, 2540, 2232, 2556, 4536, 2012, 2844, 4799, 4953],\n",
       " [3991, 3661, 2839, 1418, 2460, 4282, 264],\n",
       " [3379, 2587, 1329, 634, 1393],\n",
       " [4115, 961, 2888, 2200, 2340, 1767, 469, 3312, 3300, 3056, 4980, 3895, 1501],\n",
       " [4478, 4195, 1054, 4559, 1063, 2945, 2959, 4909, 3131],\n",
       " [3625, 3102, 355, 4257, 374, 3351, 4407, 250, 1063, 374, 4257, 2319]]"
      ]
     },
     "metadata": {},
     "execution_count": 28
    }
   ],
   "source": [
    "onehot_repr=[one_hot(words,voc_size)for words in corpus] \n",
    "onehot_repr"
   ]
  },
  {
   "cell_type": "markdown",
   "metadata": {},
   "source": [
    "### Embedding Representation"
   ]
  },
  {
   "cell_type": "code",
   "execution_count": 29,
   "metadata": {},
   "outputs": [
    {
     "output_type": "stream",
     "name": "stdout",
     "text": [
      "[[   0    0    0    0    0    0    0    0    0 2733 3010 1245 4982  781\n  1153 4997 3913 3985 2722  250]\n [   0    0    0    0    0    0    0    0    0    0    0    0    0 4605\n  2516 2490 4585 4000 4216  617]\n [   0    0    0    0    0    0    0    0 2525 2656  617 1093  482 3261\n  4536 4980 4905   54 4980  808]\n [   0    0    0    0    0    0    0    0    0    0    0    0 2893 1218\n  2166 4708  594 2914 3482 3056]\n [   0    0    0    0    0    0    0    0    0    0    0    0    0 2538\n  2712  374 1615 1501 2232 3593]\n [   0    0    0    0    0    0    0    0    0    0    0    0    0    0\n     0    0    0    0 2356  589]\n [   0  401 1501 4753 3745 4280 1695 2997   10  982 4266  747 2242 4869\n  2831 4156  747   45 4266 4377]\n [   0    0    0    0    0    0    0    0    0    0    0    0    0    0\n     0 2967 3894 1130 3482  129]\n [   0    0    0    0    0    0    0    0    0    0    0    0 1093 3351\n  3759 4267 3759 4980 4905   54]\n [   0    0    0    0    0    0    0    0    0    0    0    0    0 1613\n  4877 3453 1798 4892 2476 2850]\n [   0    0    0    0    0    0    0    0    0    0    0    0    0 4303\n  3261 4536 1147 4432 2614 3617]\n [   0    0    0    0    0    0    0    0    0    0 1428  355 4257 3056\n  2427  712 1316 3650 2181  696]\n [   0    0    0    0    0    0    0    0    0    0    0 3702 3745 3340\n  2895  611 2727  478 3197  380]\n [   0    0    0    0    0    0    0    0    0    0    0    0    0    0\n     0    0 3482 2490 2837  225]\n [   0    0    0    0    0    0    0    0    0    0 1385 1093  860 3482\n  2488 1501 3895 1490 2870 2712]\n [   0    0    0    0    0    0    0    0    0    0    0    0 3748 2712\n  3288 1279 4650  170 1129 1449]\n [   0    0    0    0    0    0    0    0    0    0    0  266 2939 1501\n  2232 4257 3448 2525 4109 3591]\n [   0    0    0    0    0    0    0    0    0    0    0    0    0    0\n     0  106 4486  707 2414 3702]\n [   0    0    0    0    0    0    0    0    0    0    0 4378 1681  617\n  1090 2981 4247 2737 2738 2188]\n [   0    0    0    0    0    0    0    0    0 2641 3804 2580 2649 3621\n  1236 4141 2540 1793 4212  385]\n [   0    0    0    0    0    0    0    0    0    0    0 4541 3372 3636\n  3471   29 2082 4070 4028 1907]\n [   0    0    0    0    0    0    0    0    0    0    0    0 3923 4705\n  4162 3482  559 4618 1456 4062]\n [   0    0    0    0    0    0    0    0 4000 4953  861  816 3960  429\n   298  399 2029 1098 1072 4927]\n [   0    0  422  608 3386 4688  446 3740 4280  820 4109 3740 2793 3740\n  2546 3386 1307 2830 2775  624]\n [   0    0    0    0    0    0    0    0 1236 1705 3399 1308 1501 2232\n  3960 2082 2212 3867 1404  443]\n [   0    0    0    0    0    0    0    0    0 1560 3427  307 3121 2619\n  1646 2401 2080 4004 3964 3745]\n [   0    0    0    0    0    0    0    0    0    0    0    0 3303 2115\n  2274 4451 2080 2361 2540 1129]\n [   0    0    0    0    0    0    0    0    0    0    0    0    0 3409\n   431 1816 1759 1363 4262 2015]\n [   0    0    0    0    0    0    0    0 4486 2512 4914    1 2512 1179\n  2619 3022 3571 4000 4216 4927]\n [   0    0    0    0    0    0    0    0    0    0    0    0    0 1096\n  2535 4208 1329  621 4650 1361]\n [   0    0    0    0    0    0    0    0    0    0 4000 1705 2319  611\n  1072 3598 2082 3797 3937 3300]\n [   0    0    0    0    0    0    0 2584 1589 3745  693  380 2712 3482\n   546 4427 2554 2621 3031  374]\n [   0    0    0    0    0    0    0    0    0    0    0    0    0    0\n     0    0 1419 2336 2402 4586]\n [   0    0    0    0    0    0    0    0    0    0    0 3024  717 3523\n  2479 4315 4402  279 2630 3830]\n [   0    0    0    0    0    0    0    0    0    0    0 2271 3189 4744\n  1113  981 1804  621 2271 4264]\n [   0    0    0    0    0    0    0    0    0    0    0    0  789   55\n  4563 4132 4927 3453 4626 1067]\n [   0    0    0    0    0    0    0    0    0    0    0    0    0    0\n  3001 2311 1820 2799  374 4173]\n [   0    0    0    0    0    0    0    0    0    0    0    0    0 2100\n   745  621  243  651 1285 1039]\n [   0    0    0    0    0    0    0    0    0    0    0    0    0    0\n     0 4927 1689 1342 3964 1128]\n [   0    0    0    0    0    0    0    0    0    0    0    0  977 1599\n  3764 3223  374  957 3482 4004]\n [   0    0    0    0    0    0    0    0    0    0    0 2790 2093 4402\n  2319 3540  106 3701 1013 2779]\n [3465 3506 1823 1501  967 1161 3745 2807 1795 2926  745  491  402  524\n  2707 4927 1113 4312 2316 2335]\n [   0    0    0    0    0    0    0    0    0 3024 1974 1663 1234 3891\n  4218 3022  429 1266  656 3702]\n [   0    0    0    0    0    0    0    0    0 4266 2232  967 3090  653\n  2415 2212 1009 2403 4337 1553]\n [   0    0    0    0    0    0    0    0 3621 4103 1308 3399 2540 2232\n  2556 4536 2012 2844 4799 4953]\n [   0    0    0    0    0    0    0    0    0    0    0    0    0 3991\n  3661 2839 1418 2460 4282  264]\n [   0    0    0    0    0    0    0    0    0    0    0    0    0    0\n     0 3379 2587 1329  634 1393]\n [   0    0    0    0    0    0    0 4115  961 2888 2200 2340 1767  469\n  3312 3300 3056 4980 3895 1501]\n [   0    0    0    0    0    0    0    0    0    0    0 4478 4195 1054\n  4559 1063 2945 2959 4909 3131]\n [   0    0    0    0    0    0    0    0 3625 3102  355 4257  374 3351\n  4407  250 1063  374 4257 2319]]\n"
     ]
    }
   ],
   "source": [
    "sent_length=20\n",
    "embedded_docs=pad_sequences(onehot_repr,padding='pre',maxlen=sent_length)\n",
    "print(embedded_docs)"
   ]
  },
  {
   "cell_type": "code",
   "execution_count": 30,
   "metadata": {},
   "outputs": [
    {
     "output_type": "execute_result",
     "data": {
      "text/plain": [
       "array([   0,    0,    0,    0,    0,    0,    0,    0,    0, 2733, 3010,\n",
       "       1245, 4982,  781, 1153, 4997, 3913, 3985, 2722,  250])"
      ]
     },
     "metadata": {},
     "execution_count": 30
    }
   ],
   "source": [
    "embedded_docs[0]"
   ]
  },
  {
   "cell_type": "code",
   "execution_count": 31,
   "metadata": {
    "scrolled": true
   },
   "outputs": [
    {
     "output_type": "stream",
     "name": "stdout",
     "text": [
      "Model: \"sequential\"\n_________________________________________________________________\nLayer (type)                 Output Shape              Param #   \n=================================================================\nembedding (Embedding)        (None, 20, 40)            200000    \n_________________________________________________________________\nlstm (LSTM)                  (None, 100)               56400     \n_________________________________________________________________\ndense (Dense)                (None, 1)                 101       \n=================================================================\nTotal params: 256,501\nTrainable params: 256,501\nNon-trainable params: 0\n_________________________________________________________________\nNone\n"
     ]
    }
   ],
   "source": [
    "## Creating model\n",
    "embedding_vector_features=40\n",
    "model=Sequential()\n",
    "model.add(Embedding(voc_size,embedding_vector_features,input_length=sent_length))\n",
    "model.add(LSTM(100))\n",
    "model.add(Dense(1,activation='sigmoid'))\n",
    "model.compile(loss='binary_crossentropy',optimizer='adam',metrics=['accuracy'])\n",
    "print(model.summary())"
   ]
  },
  {
   "cell_type": "code",
   "execution_count": 32,
   "metadata": {},
   "outputs": [
    {
     "output_type": "execute_result",
     "data": {
      "text/plain": [
       "(50, (50,))"
      ]
     },
     "metadata": {},
     "execution_count": 32
    }
   ],
   "source": [
    "len(embedded_docs),y.shape"
   ]
  },
  {
   "cell_type": "code",
   "execution_count": null,
   "metadata": {},
   "outputs": [],
   "source": []
  },
  {
   "cell_type": "code",
   "execution_count": 33,
   "metadata": {},
   "outputs": [],
   "source": [
    "import numpy as np\n",
    "X_final=np.array(embedded_docs)\n",
    "y_final=np.array(y)"
   ]
  },
  {
   "cell_type": "code",
   "execution_count": 34,
   "metadata": {},
   "outputs": [
    {
     "output_type": "execute_result",
     "data": {
      "text/plain": [
       "((50, 20), (50,))"
      ]
     },
     "metadata": {},
     "execution_count": 34
    }
   ],
   "source": [
    "X_final.shape,y_final.shape"
   ]
  },
  {
   "cell_type": "code",
   "execution_count": 35,
   "metadata": {},
   "outputs": [],
   "source": [
    "from sklearn.model_selection import train_test_split\n",
    "X_train, X_test, y_train, y_test = train_test_split(X_final, y_final, test_size=0.33, random_state=42)"
   ]
  },
  {
   "cell_type": "markdown",
   "metadata": {},
   "source": [
    "### Model Training"
   ]
  },
  {
   "cell_type": "code",
   "execution_count": 37,
   "metadata": {},
   "outputs": [
    {
     "output_type": "stream",
     "name": "stdout",
     "text": [
      "Epoch 1/50\n",
      "1/1 [==============================] - 0s 133ms/step - loss: 0.0087 - accuracy: 0.4545 - val_loss: 0.1901 - val_accuracy: 0.2941\n",
      "Epoch 2/50\n",
      "1/1 [==============================] - 0s 71ms/step - loss: -0.2348 - accuracy: 0.4545 - val_loss: 0.0680 - val_accuracy: 0.2941\n",
      "Epoch 3/50\n",
      "1/1 [==============================] - 0s 81ms/step - loss: -0.5433 - accuracy: 0.4545 - val_loss: -0.0550 - val_accuracy: 0.2941\n",
      "Epoch 4/50\n",
      "1/1 [==============================] - 0s 78ms/step - loss: -0.8992 - accuracy: 0.4545 - val_loss: -0.2032 - val_accuracy: 0.2941\n",
      "Epoch 5/50\n",
      "1/1 [==============================] - 0s 71ms/step - loss: -1.2540 - accuracy: 0.4545 - val_loss: -0.3973 - val_accuracy: 0.2941\n",
      "Epoch 6/50\n",
      "1/1 [==============================] - 0s 76ms/step - loss: -1.5394 - accuracy: 0.4545 - val_loss: -0.6107 - val_accuracy: 0.2941\n",
      "Epoch 7/50\n",
      "1/1 [==============================] - 0s 69ms/step - loss: -1.7357 - accuracy: 0.4545 - val_loss: -0.7873 - val_accuracy: 0.2941\n",
      "Epoch 8/50\n",
      "1/1 [==============================] - 0s 105ms/step - loss: -1.8756 - accuracy: 0.4545 - val_loss: -0.9067 - val_accuracy: 0.2941\n",
      "Epoch 9/50\n",
      "1/1 [==============================] - 0s 69ms/step - loss: -1.9895 - accuracy: 0.4545 - val_loss: -0.9872 - val_accuracy: 0.2941\n",
      "Epoch 10/50\n",
      "1/1 [==============================] - 0s 67ms/step - loss: -2.0925 - accuracy: 0.4545 - val_loss: -1.0486 - val_accuracy: 0.2941\n",
      "Epoch 11/50\n",
      "1/1 [==============================] - 0s 75ms/step - loss: -2.1910 - accuracy: 0.4545 - val_loss: -1.1015 - val_accuracy: 0.2941\n",
      "Epoch 12/50\n",
      "1/1 [==============================] - 0s 81ms/step - loss: -2.2876 - accuracy: 0.4545 - val_loss: -1.1505 - val_accuracy: 0.2941\n",
      "Epoch 13/50\n",
      "1/1 [==============================] - 0s 79ms/step - loss: -2.3830 - accuracy: 0.4545 - val_loss: -1.1974 - val_accuracy: 0.2941\n",
      "Epoch 14/50\n",
      "1/1 [==============================] - 0s 82ms/step - loss: -2.4773 - accuracy: 0.4545 - val_loss: -1.2428 - val_accuracy: 0.2941\n",
      "Epoch 15/50\n",
      "1/1 [==============================] - 0s 69ms/step - loss: -2.5699 - accuracy: 0.4545 - val_loss: -1.2867 - val_accuracy: 0.2941\n",
      "Epoch 16/50\n",
      "1/1 [==============================] - 0s 99ms/step - loss: -2.6599 - accuracy: 0.4545 - val_loss: -1.3289 - val_accuracy: 0.2941\n",
      "Epoch 17/50\n",
      "1/1 [==============================] - 0s 74ms/step - loss: -2.7467 - accuracy: 0.4545 - val_loss: -1.3694 - val_accuracy: 0.2941\n",
      "Epoch 18/50\n",
      "1/1 [==============================] - 0s 70ms/step - loss: -2.8300 - accuracy: 0.4545 - val_loss: -1.4080 - val_accuracy: 0.2941\n",
      "Epoch 19/50\n",
      "1/1 [==============================] - 0s 71ms/step - loss: -2.9095 - accuracy: 0.4545 - val_loss: -1.4447 - val_accuracy: 0.2941\n",
      "Epoch 20/50\n",
      "1/1 [==============================] - 0s 67ms/step - loss: -2.9851 - accuracy: 0.4545 - val_loss: -1.4795 - val_accuracy: 0.2941\n",
      "Epoch 21/50\n",
      "1/1 [==============================] - 0s 75ms/step - loss: -3.0570 - accuracy: 0.4545 - val_loss: -1.5125 - val_accuracy: 0.2941\n",
      "Epoch 22/50\n",
      "1/1 [==============================] - 0s 67ms/step - loss: -3.1251 - accuracy: 0.4545 - val_loss: -1.5438 - val_accuracy: 0.2941\n",
      "Epoch 23/50\n",
      "1/1 [==============================] - 0s 69ms/step - loss: -3.1896 - accuracy: 0.4545 - val_loss: -1.5735 - val_accuracy: 0.2941\n",
      "Epoch 24/50\n",
      "1/1 [==============================] - 0s 74ms/step - loss: -3.2508 - accuracy: 0.4545 - val_loss: -1.6016 - val_accuracy: 0.2941\n",
      "Epoch 25/50\n",
      "1/1 [==============================] - 0s 74ms/step - loss: -3.3087 - accuracy: 0.4545 - val_loss: -1.6284 - val_accuracy: 0.2941\n",
      "Epoch 26/50\n",
      "1/1 [==============================] - 0s 76ms/step - loss: -3.3637 - accuracy: 0.4545 - val_loss: -1.6538 - val_accuracy: 0.2941\n",
      "Epoch 27/50\n",
      "1/1 [==============================] - 0s 77ms/step - loss: -3.4161 - accuracy: 0.4545 - val_loss: -1.6780 - val_accuracy: 0.2941\n",
      "Epoch 28/50\n",
      "1/1 [==============================] - 0s 81ms/step - loss: -3.4660 - accuracy: 0.4545 - val_loss: -1.7013 - val_accuracy: 0.2941\n",
      "Epoch 29/50\n",
      "1/1 [==============================] - 0s 78ms/step - loss: -3.5137 - accuracy: 0.4545 - val_loss: -1.7235 - val_accuracy: 0.2941\n",
      "Epoch 30/50\n",
      "1/1 [==============================] - 0s 76ms/step - loss: -3.5595 - accuracy: 0.4545 - val_loss: -1.7450 - val_accuracy: 0.2941\n",
      "Epoch 31/50\n",
      "1/1 [==============================] - 0s 91ms/step - loss: -3.6036 - accuracy: 0.4545 - val_loss: -1.7657 - val_accuracy: 0.2941\n",
      "Epoch 32/50\n",
      "1/1 [==============================] - 0s 85ms/step - loss: -3.6463 - accuracy: 0.4545 - val_loss: -1.7858 - val_accuracy: 0.2941\n",
      "Epoch 33/50\n",
      "1/1 [==============================] - 0s 81ms/step - loss: -3.6876 - accuracy: 0.4545 - val_loss: -1.8054 - val_accuracy: 0.2941\n",
      "Epoch 34/50\n",
      "1/1 [==============================] - 0s 81ms/step - loss: -3.7279 - accuracy: 0.4545 - val_loss: -1.8245 - val_accuracy: 0.2941\n",
      "Epoch 35/50\n",
      "1/1 [==============================] - 0s 82ms/step - loss: -3.7672 - accuracy: 0.4545 - val_loss: -1.8432 - val_accuracy: 0.2941\n",
      "Epoch 36/50\n",
      "1/1 [==============================] - 0s 77ms/step - loss: -3.8057 - accuracy: 0.4545 - val_loss: -1.8615 - val_accuracy: 0.2941\n",
      "Epoch 37/50\n",
      "1/1 [==============================] - 0s 81ms/step - loss: -3.8435 - accuracy: 0.4545 - val_loss: -1.8796 - val_accuracy: 0.2941\n",
      "Epoch 38/50\n",
      "1/1 [==============================] - 0s 83ms/step - loss: -3.8808 - accuracy: 0.4545 - val_loss: -1.8974 - val_accuracy: 0.2941\n",
      "Epoch 39/50\n",
      "1/1 [==============================] - 0s 75ms/step - loss: -3.9175 - accuracy: 0.4545 - val_loss: -1.9151 - val_accuracy: 0.2941\n",
      "Epoch 40/50\n",
      "1/1 [==============================] - 0s 71ms/step - loss: -3.9539 - accuracy: 0.4545 - val_loss: -1.9325 - val_accuracy: 0.2941\n",
      "Epoch 41/50\n",
      "1/1 [==============================] - 0s 77ms/step - loss: -3.9899 - accuracy: 0.4545 - val_loss: -1.9498 - val_accuracy: 0.2941\n",
      "Epoch 42/50\n",
      "1/1 [==============================] - 0s 72ms/step - loss: -4.0256 - accuracy: 0.4545 - val_loss: -1.9670 - val_accuracy: 0.2941\n",
      "Epoch 43/50\n",
      "1/1 [==============================] - 0s 76ms/step - loss: -4.0611 - accuracy: 0.4545 - val_loss: -1.9840 - val_accuracy: 0.2941\n",
      "Epoch 44/50\n",
      "1/1 [==============================] - 0s 72ms/step - loss: -4.0963 - accuracy: 0.4545 - val_loss: -2.0010 - val_accuracy: 0.2941\n",
      "Epoch 45/50\n",
      "1/1 [==============================] - 0s 69ms/step - loss: -4.1314 - accuracy: 0.4545 - val_loss: -2.0179 - val_accuracy: 0.2941\n",
      "Epoch 46/50\n",
      "1/1 [==============================] - 0s 68ms/step - loss: -4.1663 - accuracy: 0.4545 - val_loss: -2.0346 - val_accuracy: 0.2941\n",
      "Epoch 47/50\n",
      "1/1 [==============================] - 0s 67ms/step - loss: -4.2010 - accuracy: 0.4545 - val_loss: -2.0513 - val_accuracy: 0.2941\n",
      "Epoch 48/50\n",
      "1/1 [==============================] - 0s 77ms/step - loss: -4.2354 - accuracy: 0.4545 - val_loss: -2.0678 - val_accuracy: 0.2941\n",
      "Epoch 49/50\n",
      "1/1 [==============================] - 0s 78ms/step - loss: -4.2696 - accuracy: 0.4545 - val_loss: -2.0842 - val_accuracy: 0.2941\n",
      "Epoch 50/50\n",
      "1/1 [==============================] - 0s 82ms/step - loss: -4.3035 - accuracy: 0.4545 - val_loss: -2.1004 - val_accuracy: 0.2941\n"
     ]
    },
    {
     "output_type": "execute_result",
     "data": {
      "text/plain": [
       "<tensorflow.python.keras.callbacks.History at 0x1dad79f3190>"
      ]
     },
     "metadata": {},
     "execution_count": 37
    }
   ],
   "source": [
    "### Finally Training\n",
    "model.fit(X_train,y_train,validation_data=(X_test,y_test),epochs=50,batch_size=64)"
   ]
  },
  {
   "cell_type": "markdown",
   "metadata": {},
   "source": [
    "### Adding Dropout "
   ]
  },
  {
   "cell_type": "code",
   "execution_count": 38,
   "metadata": {},
   "outputs": [],
   "source": [
    "from tensorflow.keras.layers import Dropout\n",
    "## Creating model\n",
    "embedding_vector_features=40\n",
    "model=Sequential()\n",
    "model.add(Embedding(voc_size,embedding_vector_features,input_length=sent_length))\n",
    "model.add(Dropout(0.3))\n",
    "model.add(LSTM(100))\n",
    "model.add(Dropout(0.3))\n",
    "model.add(Dense(1,activation='sigmoid'))\n",
    "model.compile(loss='binary_crossentropy',optimizer='adam',metrics=['accuracy'])"
   ]
  },
  {
   "cell_type": "markdown",
   "metadata": {},
   "source": [
    "### Performance Metrics And Accuracy"
   ]
  },
  {
   "cell_type": "code",
   "execution_count": 39,
   "metadata": {},
   "outputs": [
    {
     "output_type": "stream",
     "name": "stderr",
     "text": [
      "C:\\Users\\smsoh\\AppData\\Local\\Programs\\Python\\Python38\\lib\\site-packages\\tensorflow\\python\\keras\\engine\\sequential.py:450: UserWarning: `model.predict_classes()` is deprecated and will be removed after 2021-01-01. Please use instead:* `np.argmax(model.predict(x), axis=-1)`,   if your model does multi-class classification   (e.g. if it uses a `softmax` last-layer activation).* `(model.predict(x) > 0.5).astype(\"int32\")`,   if your model does binary classification   (e.g. if it uses a `sigmoid` last-layer activation).\n  warnings.warn('`model.predict_classes()` is deprecated and '\n"
     ]
    }
   ],
   "source": [
    "y_pred=model.predict_classes(X_test)"
   ]
  },
  {
   "cell_type": "code",
   "execution_count": 40,
   "metadata": {},
   "outputs": [],
   "source": [
    "from sklearn.metrics import confusion_matrix"
   ]
  },
  {
   "cell_type": "code",
   "execution_count": 41,
   "metadata": {},
   "outputs": [
    {
     "output_type": "execute_result",
     "data": {
      "text/plain": [
       "array([[0, 6, 1],\n",
       "       [0, 4, 1],\n",
       "       [0, 4, 1]], dtype=int64)"
      ]
     },
     "metadata": {},
     "execution_count": 41
    }
   ],
   "source": [
    "confusion_matrix(y_test,y_pred)"
   ]
  },
  {
   "cell_type": "code",
   "execution_count": 42,
   "metadata": {},
   "outputs": [
    {
     "output_type": "execute_result",
     "data": {
      "text/plain": [
       "0.29411764705882354"
      ]
     },
     "metadata": {},
     "execution_count": 42
    }
   ],
   "source": [
    "from sklearn.metrics import accuracy_score\n",
    "accuracy_score(y_test,y_pred)"
   ]
  },
  {
   "cell_type": "code",
   "execution_count": null,
   "metadata": {},
   "outputs": [],
   "source": []
  }
 ],
 "metadata": {
  "kernelspec": {
   "name": "python388jvsc74a57bd0a8a565e09f07703efdc86ec03ccdbe7c8a022a338e4d0d45f87f70f34a61d8ea",
   "display_name": "Python 3.8.8 64-bit"
  },
  "language_info": {
   "codemirror_mode": {
    "name": "ipython",
    "version": 3
   },
   "file_extension": ".py",
   "mimetype": "text/x-python",
   "name": "python",
   "nbconvert_exporter": "python",
   "pygments_lexer": "ipython3",
   "version": "3.8.8-final"
  },
  "metadata": {
   "interpreter": {
    "hash": "a8a565e09f07703efdc86ec03ccdbe7c8a022a338e4d0d45f87f70f34a61d8ea"
   }
  }
 },
 "nbformat": 4,
 "nbformat_minor": 2
}