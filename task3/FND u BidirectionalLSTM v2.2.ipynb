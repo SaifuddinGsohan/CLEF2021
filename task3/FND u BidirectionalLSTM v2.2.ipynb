{
 "cells": [
  {
   "cell_type": "markdown",
   "metadata": {},
   "source": [
    "## Fake News Classifier Using Bidirectional LSTM\n",
    "\n",
    "Dataset: https://www.kaggle.com/c/fake-news/data#"
   ]
  },
  {
   "cell_type": "code",
   "execution_count": 1,
   "metadata": {},
   "outputs": [],
   "source": [
    "import pandas as pd"
   ]
  },
  {
   "cell_type": "code",
   "execution_count": 2,
   "metadata": {},
   "outputs": [],
   "source": [
    "df=pd.read_csv('data/task_3a_sample_data.csv')"
   ]
  },
  {
   "cell_type": "code",
   "execution_count": 3,
   "metadata": {},
   "outputs": [
    {
     "output_type": "execute_result",
     "data": {
      "text/plain": [
       "  public_id                                              title  \\\n",
       "0  f2182a54  HUGE! Attorney Sidney Powell CONFIRMS Alleged ...   \n",
       "1  c5175d8d        Paul Ryan’s Worst Ally - The New York Times   \n",
       "2  213a870b  You Can Get Jail Time Or $3,000 Fine For Not W...   \n",
       "3  392886ea  Antifa gearing up for false flag violence disg...   \n",
       "4  bc6d5d55  Remarks by President Biden on the Administrati...   \n",
       "\n",
       "                                                text       our rating  \n",
       "0  Last week Rep. Louie Gohmert told Chris Salced...            FALSE  \n",
       "1  WHATEVER drama plays out when Republicans meet...             TRUE  \n",
       "2  Source page URL  Title You Can Get Jail Time O...            FALSE  \n",
       "3  With merchants in Democrat-run cities boarding...            FALSE  \n",
       "4  State Dining Room  4:22 P.M. EST  THE PRESIDEN...  partially false  "
      ],
      "text/html": "<div>\n<style scoped>\n    .dataframe tbody tr th:only-of-type {\n        vertical-align: middle;\n    }\n\n    .dataframe tbody tr th {\n        vertical-align: top;\n    }\n\n    .dataframe thead th {\n        text-align: right;\n    }\n</style>\n<table border=\"1\" class=\"dataframe\">\n  <thead>\n    <tr style=\"text-align: right;\">\n      <th></th>\n      <th>public_id</th>\n      <th>title</th>\n      <th>text</th>\n      <th>our rating</th>\n    </tr>\n  </thead>\n  <tbody>\n    <tr>\n      <th>0</th>\n      <td>f2182a54</td>\n      <td>HUGE! Attorney Sidney Powell CONFIRMS Alleged ...</td>\n      <td>Last week Rep. Louie Gohmert told Chris Salced...</td>\n      <td>FALSE</td>\n    </tr>\n    <tr>\n      <th>1</th>\n      <td>c5175d8d</td>\n      <td>Paul Ryan’s Worst Ally - The New York Times</td>\n      <td>WHATEVER drama plays out when Republicans meet...</td>\n      <td>TRUE</td>\n    </tr>\n    <tr>\n      <th>2</th>\n      <td>213a870b</td>\n      <td>You Can Get Jail Time Or $3,000 Fine For Not W...</td>\n      <td>Source page URL  Title You Can Get Jail Time O...</td>\n      <td>FALSE</td>\n    </tr>\n    <tr>\n      <th>3</th>\n      <td>392886ea</td>\n      <td>Antifa gearing up for false flag violence disg...</td>\n      <td>With merchants in Democrat-run cities boarding...</td>\n      <td>FALSE</td>\n    </tr>\n    <tr>\n      <th>4</th>\n      <td>bc6d5d55</td>\n      <td>Remarks by President Biden on the Administrati...</td>\n      <td>State Dining Room  4:22 P.M. EST  THE PRESIDEN...</td>\n      <td>partially false</td>\n    </tr>\n  </tbody>\n</table>\n</div>"
     },
     "metadata": {},
     "execution_count": 3
    }
   ],
   "source": [
    "df.head()"
   ]
  },
  {
   "cell_type": "code",
   "execution_count": 38,
   "metadata": {},
   "outputs": [
    {
     "output_type": "execute_result",
     "data": {
      "text/plain": [
       "  public_id                                              title  \\\n",
       "0  f2182a54  HUGE! Attorney Sidney Powell CONFIRMS Alleged ...   \n",
       "1  c5175d8d        Paul Ryan’s Worst Ally - The New York Times   \n",
       "2  213a870b  You Can Get Jail Time Or $3,000 Fine For Not W...   \n",
       "3  392886ea  Antifa gearing up for false flag violence disg...   \n",
       "4  bc6d5d55  Remarks by President Biden on the Administrati...   \n",
       "\n",
       "                                                text       our rating  class  \n",
       "0  Last week Rep. Louie Gohmert told Chris Salced...            FALSE     -1  \n",
       "1  WHATEVER drama plays out when Republicans meet...             TRUE      1  \n",
       "2  Source page URL  Title You Can Get Jail Time O...            FALSE     -1  \n",
       "3  With merchants in Democrat-run cities boarding...            FALSE     -1  \n",
       "4  State Dining Room  4:22 P.M. EST  THE PRESIDEN...  partially false      0  "
      ],
      "text/html": "<div>\n<style scoped>\n    .dataframe tbody tr th:only-of-type {\n        vertical-align: middle;\n    }\n\n    .dataframe tbody tr th {\n        vertical-align: top;\n    }\n\n    .dataframe thead th {\n        text-align: right;\n    }\n</style>\n<table border=\"1\" class=\"dataframe\">\n  <thead>\n    <tr style=\"text-align: right;\">\n      <th></th>\n      <th>public_id</th>\n      <th>title</th>\n      <th>text</th>\n      <th>our rating</th>\n      <th>class</th>\n    </tr>\n  </thead>\n  <tbody>\n    <tr>\n      <th>0</th>\n      <td>f2182a54</td>\n      <td>HUGE! Attorney Sidney Powell CONFIRMS Alleged ...</td>\n      <td>Last week Rep. Louie Gohmert told Chris Salced...</td>\n      <td>FALSE</td>\n      <td>-1</td>\n    </tr>\n    <tr>\n      <th>1</th>\n      <td>c5175d8d</td>\n      <td>Paul Ryan’s Worst Ally - The New York Times</td>\n      <td>WHATEVER drama plays out when Republicans meet...</td>\n      <td>TRUE</td>\n      <td>1</td>\n    </tr>\n    <tr>\n      <th>2</th>\n      <td>213a870b</td>\n      <td>You Can Get Jail Time Or $3,000 Fine For Not W...</td>\n      <td>Source page URL  Title You Can Get Jail Time O...</td>\n      <td>FALSE</td>\n      <td>-1</td>\n    </tr>\n    <tr>\n      <th>3</th>\n      <td>392886ea</td>\n      <td>Antifa gearing up for false flag violence disg...</td>\n      <td>With merchants in Democrat-run cities boarding...</td>\n      <td>FALSE</td>\n      <td>-1</td>\n    </tr>\n    <tr>\n      <th>4</th>\n      <td>bc6d5d55</td>\n      <td>Remarks by President Biden on the Administrati...</td>\n      <td>State Dining Room  4:22 P.M. EST  THE PRESIDEN...</td>\n      <td>partially false</td>\n      <td>0</td>\n    </tr>\n  </tbody>\n</table>\n</div>"
     },
     "metadata": {},
     "execution_count": 38
    }
   ],
   "source": [
    "df['class'] = df['our rating'].apply(lambda x: 1 if 'true' in x.lower() else ( 0 if 'partially false' in x.lower() else -1))\n",
    "df.head()"
   ]
  },
  {
   "cell_type": "code",
   "execution_count": 39,
   "metadata": {},
   "outputs": [],
   "source": [
    "###Drop Nan Values\n",
    "df=df.dropna()\n"
   ]
  },
  {
   "cell_type": "code",
   "execution_count": 40,
   "metadata": {},
   "outputs": [],
   "source": [
    "## Get the Independent Features\n",
    "\n",
    "X=df.drop('class',axis=1)"
   ]
  },
  {
   "cell_type": "code",
   "execution_count": 41,
   "metadata": {},
   "outputs": [],
   "source": [
    "## Get the Dependent features\n",
    "y=df['class']"
   ]
  },
  {
   "cell_type": "code",
   "execution_count": 42,
   "metadata": {},
   "outputs": [
    {
     "output_type": "execute_result",
     "data": {
      "text/plain": [
       "-1    20\n",
       " 0    20\n",
       " 1    10\n",
       "Name: class, dtype: int64"
      ]
     },
     "metadata": {},
     "execution_count": 42
    }
   ],
   "source": [
    "y.value_counts()"
   ]
  },
  {
   "cell_type": "code",
   "execution_count": 43,
   "metadata": {},
   "outputs": [
    {
     "output_type": "execute_result",
     "data": {
      "text/plain": [
       "(50, 4)"
      ]
     },
     "metadata": {},
     "execution_count": 43
    }
   ],
   "source": [
    "X.shape"
   ]
  },
  {
   "cell_type": "code",
   "execution_count": 44,
   "metadata": {},
   "outputs": [
    {
     "output_type": "execute_result",
     "data": {
      "text/plain": [
       "(50,)"
      ]
     },
     "metadata": {},
     "execution_count": 44
    }
   ],
   "source": [
    "y.shape"
   ]
  },
  {
   "cell_type": "code",
   "execution_count": 45,
   "metadata": {},
   "outputs": [],
   "source": [
    "import tensorflow as tf"
   ]
  },
  {
   "cell_type": "code",
   "execution_count": 46,
   "metadata": {},
   "outputs": [
    {
     "output_type": "execute_result",
     "data": {
      "text/plain": [
       "'2.4.1'"
      ]
     },
     "metadata": {},
     "execution_count": 46
    }
   ],
   "source": [
    "tf.__version__"
   ]
  },
  {
   "cell_type": "code",
   "execution_count": 47,
   "metadata": {},
   "outputs": [],
   "source": [
    "from tensorflow.keras.layers import Embedding\n",
    "from tensorflow.keras.preprocessing.sequence import pad_sequences\n",
    "from tensorflow.keras.models import Sequential\n",
    "from tensorflow.keras.preprocessing.text import one_hot\n",
    "from tensorflow.keras.layers import LSTM\n",
    "from tensorflow.keras.layers import Dense\n",
    "from tensorflow.keras.layers import Bidirectional\n",
    "from tensorflow.keras.layers import Dropout"
   ]
  },
  {
   "cell_type": "code",
   "execution_count": 48,
   "metadata": {},
   "outputs": [],
   "source": [
    "### Vocabulary size\n",
    "voc_size=5000"
   ]
  },
  {
   "cell_type": "markdown",
   "metadata": {},
   "source": [
    "### Onehot Representation"
   ]
  },
  {
   "cell_type": "code",
   "execution_count": 49,
   "metadata": {},
   "outputs": [],
   "source": [
    "messages=X.copy()"
   ]
  },
  {
   "cell_type": "code",
   "execution_count": 50,
   "metadata": {},
   "outputs": [
    {
     "output_type": "execute_result",
     "data": {
      "text/plain": [
       "'Paul Ryan’s Worst Ally - The New York Times'"
      ]
     },
     "metadata": {},
     "execution_count": 50
    }
   ],
   "source": [
    "messages['title'][1]"
   ]
  },
  {
   "cell_type": "code",
   "execution_count": 51,
   "metadata": {},
   "outputs": [],
   "source": [
    "messages.reset_index(inplace=True)"
   ]
  },
  {
   "cell_type": "code",
   "execution_count": 52,
   "metadata": {},
   "outputs": [],
   "source": [
    "import nltk\n",
    "import re\n",
    "from nltk.corpus import stopwords"
   ]
  },
  {
   "cell_type": "code",
   "execution_count": 53,
   "metadata": {},
   "outputs": [
    {
     "output_type": "stream",
     "name": "stderr",
     "text": [
      "[nltk_data] Downloading package stopwords to\n[nltk_data]     C:\\Users\\smsoh\\AppData\\Roaming\\nltk_data...\n[nltk_data]   Package stopwords is already up-to-date!\n"
     ]
    },
    {
     "output_type": "execute_result",
     "data": {
      "text/plain": [
       "True"
      ]
     },
     "metadata": {},
     "execution_count": 53
    }
   ],
   "source": [
    "nltk.download('stopwords')"
   ]
  },
  {
   "cell_type": "code",
   "execution_count": 54,
   "metadata": {},
   "outputs": [
    {
     "output_type": "stream",
     "name": "stdout",
     "text": [
      "0\n1\n2\n3\n4\n5\n6\n7\n8\n9\n10\n11\n12\n13\n14\n15\n16\n17\n18\n19\n20\n21\n22\n23\n24\n25\n26\n27\n28\n29\n30\n31\n32\n33\n34\n35\n36\n37\n38\n39\n40\n41\n42\n43\n44\n45\n46\n47\n48\n49\n"
     ]
    }
   ],
   "source": [
    "### Dataset Preprocessing\n",
    "from nltk.stem.porter import PorterStemmer\n",
    "ps = PorterStemmer()\n",
    "corpus = []\n",
    "for i in range(0, len(messages)):\n",
    "    print(i)\n",
    "    review = re.sub('[^a-zA-Z]', ' ', messages['title'][i])\n",
    "    review = review.lower()\n",
    "    review = review.split()\n",
    "    \n",
    "    review = [ps.stem(word) for word in review if not word in stopwords.words('english')]\n",
    "    review = ' '.join(review)\n",
    "    corpus.append(review)"
   ]
  },
  {
   "cell_type": "code",
   "execution_count": 55,
   "metadata": {},
   "outputs": [
    {
     "output_type": "execute_result",
     "data": {
      "text/plain": [
       "['huge attorney sidney powel confirm alleg dominion server germani confisc video',\n",
       " 'paul ryan worst alli new york time',\n",
       " 'get jail time fine wear face mask canada start today canada eh',\n",
       " 'antifa gear fals flag violenc disguis trump support',\n",
       " 'remark presid biden administr covid vaccin effort',\n",
       " 'infowar articl',\n",
       " 'bombshel covid infect rate may higher among children receiv flu shot health author madli push shot come flu season',\n",
       " 'marin corp rebuk pelosi work',\n",
       " 'fine ban drive smoke drive canada start today',\n",
       " 'scott walker still owe million presidenti campaign',\n",
       " 'blaylock face mask pose seriou risk healthi',\n",
       " 'kamala harri say support second amend right record prove otherwis',\n",
       " 'wisconsin elect commiss direct allow clerk fix ballot updat',\n",
       " 'trump worst kind socialist',\n",
       " 'wisdem farmer crush trump fail covid respons drag entir presid',\n",
       " 'former presid barack obama arrest espionag conserv beaver',\n",
       " 'merck scrap covid vaccin say effect get viru recov',\n",
       " 'u senat tammi baldwin wisconsin',\n",
       " 'danni connor time troy balderson money go novemb rematch',\n",
       " 'pro life group upset un coronaviru relief fund promot abort ecuador',\n",
       " 'hal turner chines soldier bomb kill main list earthquak',\n",
       " 'cbc cut donald trump home alon cameo broadcast',\n",
       " 'new research toxic bait might provid control wild hog problem texa state',\n",
       " 'netizen nabahala ngayon matapo mapabalita na may bagong viru na naman na kumakalat ngayon gale china light feed',\n",
       " 'watch bill gate admit covid vaccin might kill nearli peopl clover chronicl',\n",
       " 'victim voter fraud initi announc deceas georgian use vote gener elect',\n",
       " 'trudeau bought mother car use chariti fund conserv',\n",
       " 'cynthia nixon slam cuomo albani cultur corrupt',\n",
       " 'senat republican leader ortt republican confer announc plan reset new york state',\n",
       " 'break us militari white hous arrest congress',\n",
       " 'new bill would allow texa teacher kill student felt need',\n",
       " 'current actual elect result updat presid trump lead elector colleg path victori biden',\n",
       " 'challeng await panetta dod',\n",
       " 'rep david mckinley call increas border patrol agent rank',\n",
       " 'austin american statesman local news polit sport austin tx',\n",
       " 'ga price drop n state still pretti high',\n",
       " 'nation guard turn back biden motorcad',\n",
       " 'florida law hous parti underag drink penalti',\n",
       " 'state rhode island gener assembl',\n",
       " 'softwar issu michigan gave biden estim trump vote',\n",
       " 'close mexico border would affect u avocado suppli greatli',\n",
       " 'cdc expos inflat covid death throughout elect violat multipl feder law peer review studi find state local govern must act',\n",
       " 'rep vo sen fitzgerald gov ever plan provid roadblock reopen wisconsin',\n",
       " 'flu vaccin death south korea risen nearli prime minist ask investig',\n",
       " 'un forc admit gate fund vaccin caus polio outbreak africa global research',\n",
       " 'evan dueker take look st loui crime',\n",
       " 'blm rule white attend protest',\n",
       " 'canadian govt publish bid request programm hydraul guillotin need support canada respons covid',\n",
       " 'josh mandel disclos financ show wife extens hold trust',\n",
       " 'fact check harri say biden ban frack video show biden say would']"
      ]
     },
     "metadata": {},
     "execution_count": 55
    }
   ],
   "source": [
    "corpus"
   ]
  },
  {
   "cell_type": "code",
   "execution_count": 56,
   "metadata": {},
   "outputs": [
    {
     "output_type": "execute_result",
     "data": {
      "text/plain": [
       "[[1747, 3406, 4564, 4916, 447, 3135, 4584, 792, 2907, 693, 3448],\n",
       " [1952, 2222, 434, 4405, 382, 222, 1079],\n",
       " [277, 1367, 1079, 1030, 1135, 434, 3446, 819, 3370, 3937, 819, 2773],\n",
       " [23, 3998, 4779, 3317, 3266, 2752, 3085, 3906],\n",
       " [3458, 3476, 4118, 2801, 1675, 1413, 3090],\n",
       " [3847, 3933],\n",
       " [2075,\n",
       "  1675,\n",
       "  2990,\n",
       "  4571,\n",
       "  3348,\n",
       "  164,\n",
       "  4315,\n",
       "  2520,\n",
       "  1155,\n",
       "  4562,\n",
       "  436,\n",
       "  4213,\n",
       "  4511,\n",
       "  3680,\n",
       "  3369,\n",
       "  436,\n",
       "  4949,\n",
       "  4562,\n",
       "  2037],\n",
       " [1506, 3702, 1318, 2280, 2685],\n",
       " [1030, 2001, 1173, 4076, 1173, 819, 3370, 3937],\n",
       " [773, 3472, 3883, 1783, 117, 4415, 3234],\n",
       " [4035, 434, 3446, 1942, 2393, 490, 4409],\n",
       " [2946, 3142, 2596, 3906, 199, 2724, 2699, 2208, 165, 2235],\n",
       " [473, 1865, 4798, 4463, 3403, 4278, 1516, 1529, 4505],\n",
       " [3085, 434, 4950, 2536],\n",
       " [518, 4354, 3596, 3085, 516, 1675, 328, 532, 3575, 3476],\n",
       " [984, 3476, 998, 3632, 2373, 2798, 4155, 3497],\n",
       " [688, 3594, 1675, 1413, 2596, 2042, 277, 1636, 4468],\n",
       " [3965, 4872, 4637, 3056, 473],\n",
       " [2380, 224, 1079, 1548, 3245, 1960, 2995, 3635, 1786],\n",
       " [4645, 64, 3329, 4308, 691, 4636, 3240, 4598, 1742, 3180, 4145],\n",
       " [171, 2681, 954, 3265, 3330, 2511, 2255, 2716, 3657],\n",
       " [2743, 3585, 2042, 3085, 662, 888, 1604, 1104],\n",
       " [382, 2932, 1569, 803, 2838, 4327, 4702, 1535, 3252, 4572, 2936, 1586],\n",
       " [2488,\n",
       "  193,\n",
       "  978,\n",
       "  31,\n",
       "  4794,\n",
       "  3529,\n",
       "  3348,\n",
       "  2491,\n",
       "  1636,\n",
       "  3529,\n",
       "  3187,\n",
       "  3529,\n",
       "  2982,\n",
       "  978,\n",
       "  2302,\n",
       "  2483,\n",
       "  1512,\n",
       "  2228],\n",
       " [1892, 1661, 1950, 4095, 1675, 1413, 2838, 2511, 499, 1450, 799, 3920],\n",
       " [3640, 4345, 4189, 1465, 3051, 789, 1434, 3923, 3070, 3379, 1865],\n",
       " [4692, 2976, 2886, 304, 3923, 2050, 4598, 4155],\n",
       " [1372, 1589, 3980, 2090, 620, 3666, 2956],\n",
       " [4872, 2936, 771, 4988, 2936, 1197, 3051, 2357, 1213, 382, 222, 1586],\n",
       " [314, 1996, 1925, 4515, 2762, 2373, 3807],\n",
       " [382, 1661, 3190, 3403, 2936, 2616, 2511, 204, 1398, 1943],\n",
       " [4451, 3674, 1865, 48, 4505, 3476, 3085, 4645, 3914, 4822, 108, 101, 4118],\n",
       " [711, 4617, 4075, 549],\n",
       " [3078, 3199, 1275, 1007, 3890, 633, 1601, 1325, 4808],\n",
       " [1358, 3222, 1047, 3446, 971, 1819, 4865, 1358, 3800],\n",
       " [2172, 4953, 4719, 2555, 1586, 3883, 3120, 1397],\n",
       " [3706, 389, 2150, 4810, 4118, 645],\n",
       " [3900, 3776, 2762, 4291, 1681, 1142, 1208],\n",
       " [1586, 1047, 141, 3379, 3560],\n",
       " [2808, 1852, 4858, 1649, 4118, 2456, 3085, 3070],\n",
       " [4904, 3056, 633, 3190, 2442, 3965, 3061, 3999, 1738],\n",
       " [1694,\n",
       "  1946,\n",
       "  4736,\n",
       "  1675,\n",
       "  2775,\n",
       "  176,\n",
       "  1865,\n",
       "  3178,\n",
       "  2848,\n",
       "  1287,\n",
       "  3776,\n",
       "  3721,\n",
       "  3052,\n",
       "  4711,\n",
       "  4301,\n",
       "  1586,\n",
       "  3446,\n",
       "  1526,\n",
       "  2907,\n",
       "  3358],\n",
       " [3078, 4353, 515, 1001, 4388, 2423, 2357, 4327, 1028, 686, 473],\n",
       " [4562, 1413, 2775, 901, 1065, 3143, 499, 1715, 2287, 3107, 3947],\n",
       " [691, 422, 4095, 1950, 4598, 1413, 3172, 1983, 2633, 4361, 2816, 2932],\n",
       " [4882, 2102, 4397, 4060, 3875, 4744, 2458],\n",
       " [4457, 211, 4515, 2344, 4089],\n",
       " [4305, 4249, 242, 4904, 3020, 2223, 3441, 2379, 1943, 3906, 819, 328, 1675],\n",
       " [900, 626, 3834, 1799, 593, 3692, 4142, 620, 2781],\n",
       " [2256, 4950, 3142, 2596, 4118, 2001, 1140, 3448, 593, 4118, 2596, 3190]]"
      ]
     },
     "metadata": {},
     "execution_count": 56
    }
   ],
   "source": [
    "onehot_repr=[one_hot(words,voc_size)for words in corpus] \n",
    "onehot_repr"
   ]
  },
  {
   "cell_type": "markdown",
   "metadata": {},
   "source": [
    "### Embedding Representation"
   ]
  },
  {
   "cell_type": "code",
   "execution_count": 57,
   "metadata": {},
   "outputs": [
    {
     "output_type": "stream",
     "name": "stdout",
     "text": [
      "[[   0    0    0    0    0    0    0    0    0 1747 3406 4564 4916  447\n  3135 4584  792 2907  693 3448]\n [   0    0    0    0    0    0    0    0    0    0    0    0    0 1952\n  2222  434 4405  382  222 1079]\n [   0    0    0    0    0    0    0    0  277 1367 1079 1030 1135  434\n  3446  819 3370 3937  819 2773]\n [   0    0    0    0    0    0    0    0    0    0    0    0   23 3998\n  4779 3317 3266 2752 3085 3906]\n [   0    0    0    0    0    0    0    0    0    0    0    0    0 3458\n  3476 4118 2801 1675 1413 3090]\n [   0    0    0    0    0    0    0    0    0    0    0    0    0    0\n     0    0    0    0 3847 3933]\n [   0 2075 1675 2990 4571 3348  164 4315 2520 1155 4562  436 4213 4511\n  3680 3369  436 4949 4562 2037]\n [   0    0    0    0    0    0    0    0    0    0    0    0    0    0\n     0 1506 3702 1318 2280 2685]\n [   0    0    0    0    0    0    0    0    0    0    0    0 1030 2001\n  1173 4076 1173  819 3370 3937]\n [   0    0    0    0    0    0    0    0    0    0    0    0    0  773\n  3472 3883 1783  117 4415 3234]\n [   0    0    0    0    0    0    0    0    0    0    0    0    0 4035\n   434 3446 1942 2393  490 4409]\n [   0    0    0    0    0    0    0    0    0    0 2946 3142 2596 3906\n   199 2724 2699 2208  165 2235]\n [   0    0    0    0    0    0    0    0    0    0    0  473 1865 4798\n  4463 3403 4278 1516 1529 4505]\n [   0    0    0    0    0    0    0    0    0    0    0    0    0    0\n     0    0 3085  434 4950 2536]\n [   0    0    0    0    0    0    0    0    0    0  518 4354 3596 3085\n   516 1675  328  532 3575 3476]\n [   0    0    0    0    0    0    0    0    0    0    0    0  984 3476\n   998 3632 2373 2798 4155 3497]\n [   0    0    0    0    0    0    0    0    0    0    0  688 3594 1675\n  1413 2596 2042  277 1636 4468]\n [   0    0    0    0    0    0    0    0    0    0    0    0    0    0\n     0 3965 4872 4637 3056  473]\n [   0    0    0    0    0    0    0    0    0    0    0 2380  224 1079\n  1548 3245 1960 2995 3635 1786]\n [   0    0    0    0    0    0    0    0    0 4645   64 3329 4308  691\n  4636 3240 4598 1742 3180 4145]\n [   0    0    0    0    0    0    0    0    0    0    0  171 2681  954\n  3265 3330 2511 2255 2716 3657]\n [   0    0    0    0    0    0    0    0    0    0    0    0 2743 3585\n  2042 3085  662  888 1604 1104]\n [   0    0    0    0    0    0    0    0  382 2932 1569  803 2838 4327\n  4702 1535 3252 4572 2936 1586]\n [   0    0 2488  193  978   31 4794 3529 3348 2491 1636 3529 3187 3529\n  2982  978 2302 2483 1512 2228]\n [   0    0    0    0    0    0    0    0 1892 1661 1950 4095 1675 1413\n  2838 2511  499 1450  799 3920]\n [   0    0    0    0    0    0    0    0    0 3640 4345 4189 1465 3051\n   789 1434 3923 3070 3379 1865]\n [   0    0    0    0    0    0    0    0    0    0    0    0 4692 2976\n  2886  304 3923 2050 4598 4155]\n [   0    0    0    0    0    0    0    0    0    0    0    0    0 1372\n  1589 3980 2090  620 3666 2956]\n [   0    0    0    0    0    0    0    0 4872 2936  771 4988 2936 1197\n  3051 2357 1213  382  222 1586]\n [   0    0    0    0    0    0    0    0    0    0    0    0    0  314\n  1996 1925 4515 2762 2373 3807]\n [   0    0    0    0    0    0    0    0    0    0  382 1661 3190 3403\n  2936 2616 2511  204 1398 1943]\n [   0    0    0    0    0    0    0 4451 3674 1865   48 4505 3476 3085\n  4645 3914 4822  108  101 4118]\n [   0    0    0    0    0    0    0    0    0    0    0    0    0    0\n     0    0  711 4617 4075  549]\n [   0    0    0    0    0    0    0    0    0    0    0 3078 3199 1275\n  1007 3890  633 1601 1325 4808]\n [   0    0    0    0    0    0    0    0    0    0    0 1358 3222 1047\n  3446  971 1819 4865 1358 3800]\n [   0    0    0    0    0    0    0    0    0    0    0    0 2172 4953\n  4719 2555 1586 3883 3120 1397]\n [   0    0    0    0    0    0    0    0    0    0    0    0    0    0\n  3706  389 2150 4810 4118  645]\n [   0    0    0    0    0    0    0    0    0    0    0    0    0 3900\n  3776 2762 4291 1681 1142 1208]\n [   0    0    0    0    0    0    0    0    0    0    0    0    0    0\n     0 1586 1047  141 3379 3560]\n [   0    0    0    0    0    0    0    0    0    0    0    0 2808 1852\n  4858 1649 4118 2456 3085 3070]\n [   0    0    0    0    0    0    0    0    0    0    0 4904 3056  633\n  3190 2442 3965 3061 3999 1738]\n [1694 1946 4736 1675 2775  176 1865 3178 2848 1287 3776 3721 3052 4711\n  4301 1586 3446 1526 2907 3358]\n [   0    0    0    0    0    0    0    0    0 3078 4353  515 1001 4388\n  2423 2357 4327 1028  686  473]\n [   0    0    0    0    0    0    0    0    0 4562 1413 2775  901 1065\n  3143  499 1715 2287 3107 3947]\n [   0    0    0    0    0    0    0    0  691  422 4095 1950 4598 1413\n  3172 1983 2633 4361 2816 2932]\n [   0    0    0    0    0    0    0    0    0    0    0    0    0 4882\n  2102 4397 4060 3875 4744 2458]\n [   0    0    0    0    0    0    0    0    0    0    0    0    0    0\n     0 4457  211 4515 2344 4089]\n [   0    0    0    0    0    0    0 4305 4249  242 4904 3020 2223 3441\n  2379 1943 3906  819  328 1675]\n [   0    0    0    0    0    0    0    0    0    0    0  900  626 3834\n  1799  593 3692 4142  620 2781]\n [   0    0    0    0    0    0    0    0 2256 4950 3142 2596 4118 2001\n  1140 3448  593 4118 2596 3190]]\n"
     ]
    }
   ],
   "source": [
    "sent_length=20\n",
    "embedded_docs=pad_sequences(onehot_repr,padding='pre',maxlen=sent_length)\n",
    "print(embedded_docs)"
   ]
  },
  {
   "cell_type": "code",
   "execution_count": 58,
   "metadata": {},
   "outputs": [
    {
     "output_type": "execute_result",
     "data": {
      "text/plain": [
       "array([   0,    0,    0,    0,    0,    0,    0,    0,    0, 1747, 3406,\n",
       "       4564, 4916,  447, 3135, 4584,  792, 2907,  693, 3448])"
      ]
     },
     "metadata": {},
     "execution_count": 58
    }
   ],
   "source": [
    "embedded_docs[0]"
   ]
  },
  {
   "cell_type": "code",
   "execution_count": 59,
   "metadata": {
    "scrolled": true
   },
   "outputs": [
    {
     "output_type": "stream",
     "name": "stdout",
     "text": [
      "Model: \"sequential_2\"\n_________________________________________________________________\nLayer (type)                 Output Shape              Param #   \n=================================================================\nembedding_2 (Embedding)      (None, 20, 40)            200000    \n_________________________________________________________________\nlstm_2 (LSTM)                (None, 100)               56400     \n_________________________________________________________________\ndense_2 (Dense)              (None, 1)                 101       \n=================================================================\nTotal params: 256,501\nTrainable params: 256,501\nNon-trainable params: 0\n_________________________________________________________________\nNone\n"
     ]
    }
   ],
   "source": [
    "## Creating model\n",
    "embedding_vector_features=40\n",
    "model=Sequential()\n",
    "model.add(Embedding(voc_size,embedding_vector_features,input_length=sent_length))\n",
    "model.add(LSTM(100))\n",
    "model.add(Dense(1,activation='sigmoid'))\n",
    "model.compile(loss='binary_crossentropy',optimizer='adam',metrics=['accuracy'])\n",
    "print(model.summary())"
   ]
  },
  {
   "cell_type": "code",
   "execution_count": 60,
   "metadata": {},
   "outputs": [
    {
     "output_type": "stream",
     "name": "stdout",
     "text": [
      "Model: \"sequential_3\"\n_________________________________________________________________\nLayer (type)                 Output Shape              Param #   \n=================================================================\nembedding_3 (Embedding)      (None, 20, 40)            200000    \n_________________________________________________________________\nbidirectional_1 (Bidirection (None, 200)               112800    \n_________________________________________________________________\ndropout_1 (Dropout)          (None, 200)               0         \n_________________________________________________________________\ndense_3 (Dense)              (None, 1)                 201       \n=================================================================\nTotal params: 313,001\nTrainable params: 313,001\nNon-trainable params: 0\n_________________________________________________________________\nNone\n"
     ]
    }
   ],
   "source": [
    "## Creating model\n",
    "embedding_vector_features=40\n",
    "model1=Sequential()\n",
    "model1.add(Embedding(voc_size,embedding_vector_features,input_length=sent_length))\n",
    "model1.add(Bidirectional(LSTM(100)))\n",
    "model1.add(Dropout(0.3))\n",
    "model1.add(Dense(1,activation='sigmoid'))\n",
    "model1.compile(loss='binary_crossentropy',optimizer='adam',metrics=['accuracy'])\n",
    "print(model1.summary())"
   ]
  },
  {
   "cell_type": "code",
   "execution_count": 64,
   "metadata": {},
   "outputs": [
    {
     "output_type": "execute_result",
     "data": {
      "text/plain": [
       "(50, (50,))"
      ]
     },
     "metadata": {},
     "execution_count": 64
    }
   ],
   "source": [
    "len(embedded_docs),y.shape"
   ]
  },
  {
   "cell_type": "code",
   "execution_count": 65,
   "metadata": {},
   "outputs": [],
   "source": [
    "import numpy as np\n",
    "X_final=np.array(embedded_docs)\n",
    "y_final=np.array(y)"
   ]
  },
  {
   "cell_type": "code",
   "execution_count": 66,
   "metadata": {},
   "outputs": [
    {
     "output_type": "execute_result",
     "data": {
      "text/plain": [
       "((50, 20), (50,))"
      ]
     },
     "metadata": {},
     "execution_count": 66
    }
   ],
   "source": [
    "X_final.shape,y_final.shape"
   ]
  },
  {
   "cell_type": "code",
   "execution_count": 67,
   "metadata": {},
   "outputs": [],
   "source": [
    "from sklearn.model_selection import train_test_split\n",
    "X_train, X_test, y_train, y_test = train_test_split(X_final, y_final, test_size=0.33, random_state=8)"
   ]
  },
  {
   "cell_type": "code",
   "execution_count": 69,
   "metadata": {},
   "outputs": [
    {
     "output_type": "execute_result",
     "data": {
      "text/plain": [
       "array([-1,  0, -1, -1,  0,  0, -1,  0, -1,  0,  0,  1, -1,  1, -1,  0,  0,\n",
       "        0, -1, -1,  0,  1,  1,  0,  0,  1, -1, -1, -1, -1, -1, -1, -1],\n",
       "      dtype=int64)"
      ]
     },
     "metadata": {},
     "execution_count": 69
    }
   ],
   "source": [
    "y_train"
   ]
  },
  {
   "cell_type": "markdown",
   "metadata": {},
   "source": [
    "### Model Training"
   ]
  },
  {
   "cell_type": "code",
   "execution_count": 76,
   "metadata": {},
   "outputs": [
    {
     "output_type": "stream",
     "name": "stdout",
     "text": [
      "Epoch 1/10\n",
      "1/1 [==============================] - 0s 128ms/step - loss: -4.6195 - accuracy: 0.3636 - val_loss: 0.8246 - val_accuracy: 0.4706\n",
      "Epoch 2/10\n",
      "1/1 [==============================] - 0s 78ms/step - loss: -4.7900 - accuracy: 0.3636 - val_loss: 0.8466 - val_accuracy: 0.4706\n",
      "Epoch 3/10\n",
      "1/1 [==============================] - 0s 84ms/step - loss: -4.8591 - accuracy: 0.3636 - val_loss: 0.8692 - val_accuracy: 0.4706\n",
      "Epoch 4/10\n",
      "1/1 [==============================] - 0s 81ms/step - loss: -5.1013 - accuracy: 0.3636 - val_loss: 0.8923 - val_accuracy: 0.4706\n",
      "Epoch 5/10\n",
      "1/1 [==============================] - 0s 96ms/step - loss: -5.0615 - accuracy: 0.3636 - val_loss: 0.9157 - val_accuracy: 0.4706\n",
      "Epoch 6/10\n",
      "1/1 [==============================] - 0s 85ms/step - loss: -5.2521 - accuracy: 0.3636 - val_loss: 0.9393 - val_accuracy: 0.4706\n",
      "Epoch 7/10\n",
      "1/1 [==============================] - 0s 82ms/step - loss: -5.2492 - accuracy: 0.3636 - val_loss: 0.9628 - val_accuracy: 0.4706\n",
      "Epoch 8/10\n",
      "1/1 [==============================] - 0s 78ms/step - loss: -5.5462 - accuracy: 0.3636 - val_loss: 0.9862 - val_accuracy: 0.4706\n",
      "Epoch 9/10\n",
      "1/1 [==============================] - 0s 83ms/step - loss: -5.6122 - accuracy: 0.3636 - val_loss: 1.0093 - val_accuracy: 0.4706\n",
      "Epoch 10/10\n",
      "1/1 [==============================] - 0s 75ms/step - loss: -5.6446 - accuracy: 0.3636 - val_loss: 1.0319 - val_accuracy: 0.4706\n"
     ]
    },
    {
     "output_type": "execute_result",
     "data": {
      "text/plain": [
       "<tensorflow.python.keras.callbacks.History at 0x17ba663fca0>"
      ]
     },
     "metadata": {},
     "execution_count": 76
    }
   ],
   "source": [
    "### Finally Training\n",
    "model1.fit(X_train,y_train,validation_data=(X_test,y_test),epochs=10,batch_size=64)"
   ]
  },
  {
   "cell_type": "markdown",
   "metadata": {},
   "source": [
    "### Performance Metrics And Accuracy"
   ]
  },
  {
   "cell_type": "code",
   "execution_count": 71,
   "metadata": {},
   "outputs": [
    {
     "output_type": "stream",
     "name": "stderr",
     "text": [
      "C:\\Users\\smsoh\\AppData\\Local\\Programs\\Python\\Python38\\lib\\site-packages\\tensorflow\\python\\keras\\engine\\sequential.py:450: UserWarning: `model.predict_classes()` is deprecated and will be removed after 2021-01-01. Please use instead:* `np.argmax(model.predict(x), axis=-1)`,   if your model does multi-class classification   (e.g. if it uses a `softmax` last-layer activation).* `(model.predict(x) > 0.5).astype(\"int32\")`,   if your model does binary classification   (e.g. if it uses a `sigmoid` last-layer activation).\n  warnings.warn('`model.predict_classes()` is deprecated and '\n"
     ]
    }
   ],
   "source": [
    "\n",
    "y_pred1=model1.predict_classes(X_test)"
   ]
  },
  {
   "cell_type": "code",
   "execution_count": null,
   "metadata": {},
   "outputs": [],
   "source": []
  },
  {
   "cell_type": "code",
   "execution_count": 72,
   "metadata": {},
   "outputs": [],
   "source": [
    "from sklearn.metrics import confusion_matrix"
   ]
  },
  {
   "cell_type": "code",
   "execution_count": 73,
   "metadata": {},
   "outputs": [
    {
     "output_type": "execute_result",
     "data": {
      "text/plain": [
       "array([[0, 4, 0],\n",
       "       [0, 8, 0],\n",
       "       [0, 5, 0]], dtype=int64)"
      ]
     },
     "metadata": {},
     "execution_count": 73
    }
   ],
   "source": [
    "confusion_matrix(y_test,y_pred1)"
   ]
  },
  {
   "cell_type": "code",
   "execution_count": 74,
   "metadata": {},
   "outputs": [
    {
     "output_type": "execute_result",
     "data": {
      "text/plain": [
       "0.47058823529411764"
      ]
     },
     "metadata": {},
     "execution_count": 74
    }
   ],
   "source": [
    "from sklearn.metrics import accuracy_score\n",
    "accuracy_score(y_test,y_pred1)"
   ]
  },
  {
   "cell_type": "code",
   "execution_count": 75,
   "metadata": {},
   "outputs": [
    {
     "output_type": "stream",
     "name": "stdout",
     "text": [
      "              precision    recall  f1-score   support\n",
      "\n",
      "          -1       0.00      0.00      0.00         4\n",
      "           0       0.47      1.00      0.64         8\n",
      "           1       0.00      0.00      0.00         5\n",
      "\n",
      "    accuracy                           0.47        17\n",
      "   macro avg       0.16      0.33      0.21        17\n",
      "weighted avg       0.22      0.47      0.30        17\n",
      "\n",
      "C:\\Users\\smsoh\\AppData\\Local\\Programs\\Python\\Python38\\lib\\site-packages\\sklearn\\metrics\\_classification.py:1245: UndefinedMetricWarning: Precision and F-score are ill-defined and being set to 0.0 in labels with no predicted samples. Use `zero_division` parameter to control this behavior.\n",
      "  _warn_prf(average, modifier, msg_start, len(result))\n",
      "C:\\Users\\smsoh\\AppData\\Local\\Programs\\Python\\Python38\\lib\\site-packages\\sklearn\\metrics\\_classification.py:1245: UndefinedMetricWarning: Precision and F-score are ill-defined and being set to 0.0 in labels with no predicted samples. Use `zero_division` parameter to control this behavior.\n",
      "  _warn_prf(average, modifier, msg_start, len(result))\n",
      "C:\\Users\\smsoh\\AppData\\Local\\Programs\\Python\\Python38\\lib\\site-packages\\sklearn\\metrics\\_classification.py:1245: UndefinedMetricWarning: Precision and F-score are ill-defined and being set to 0.0 in labels with no predicted samples. Use `zero_division` parameter to control this behavior.\n",
      "  _warn_prf(average, modifier, msg_start, len(result))\n"
     ]
    }
   ],
   "source": [
    "from sklearn.metrics import classification_report\n",
    "print(classification_report(y_test,y_pred1))"
   ]
  },
  {
   "cell_type": "code",
   "execution_count": null,
   "metadata": {},
   "outputs": [],
   "source": []
  }
 ],
 "metadata": {
  "kernelspec": {
   "name": "python388jvsc74a57bd0a8a565e09f07703efdc86ec03ccdbe7c8a022a338e4d0d45f87f70f34a61d8ea",
   "display_name": "Python 3.8.8 64-bit"
  },
  "language_info": {
   "codemirror_mode": {
    "name": "ipython",
    "version": 3
   },
   "file_extension": ".py",
   "mimetype": "text/x-python",
   "name": "python",
   "nbconvert_exporter": "python",
   "pygments_lexer": "ipython3",
   "version": "3.8.8-final"
  },
  "metadata": {
   "interpreter": {
    "hash": "a8a565e09f07703efdc86ec03ccdbe7c8a022a338e4d0d45f87f70f34a61d8ea"
   }
  }
 },
 "nbformat": 4,
 "nbformat_minor": 2
}