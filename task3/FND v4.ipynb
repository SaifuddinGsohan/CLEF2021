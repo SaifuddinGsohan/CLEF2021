{
 "metadata": {
  "language_info": {
   "codemirror_mode": {
    "name": "ipython",
    "version": 3
   },
   "file_extension": ".py",
   "mimetype": "text/x-python",
   "name": "python",
   "nbconvert_exporter": "python",
   "pygments_lexer": "ipython3",
   "version": "3.8.8"
  },
  "orig_nbformat": 2,
  "kernelspec": {
   "name": "python388jvsc74a57bd0a8a565e09f07703efdc86ec03ccdbe7c8a022a338e4d0d45f87f70f34a61d8ea",
   "display_name": "Python 3.8.8 64-bit"
  },
  "metadata": {
   "interpreter": {
    "hash": "a8a565e09f07703efdc86ec03ccdbe7c8a022a338e4d0d45f87f70f34a61d8ea"
   }
  }
 },
 "nbformat": 4,
 "nbformat_minor": 2,
 "cells": [
  {
   "cell_type": "code",
   "execution_count": 1,
   "metadata": {},
   "outputs": [
    {
     "output_type": "stream",
     "name": "stdout",
     "text": [
      "2.4.1\n"
     ]
    }
   ],
   "source": [
    "import tensorflow as tf\n",
    "print(tf.__version__)"
   ]
  },
  {
   "source": [
    "#!pip3 install -q ktrain"
   ],
   "cell_type": "markdown",
   "metadata": {}
  },
  {
   "cell_type": "code",
   "execution_count": 2,
   "metadata": {},
   "outputs": [],
   "source": [
    "import pandas as pd\n",
    "from tqdm import tqdm_notebook\n",
    "import os\n",
    "from xlrd import *\n",
    "import csv \n",
    "import sys\n",
    "import win32com.client as w3c\n",
    "from tempfile import NamedTemporaryFile"
   ]
  },
  {
   "cell_type": "code",
   "execution_count": 3,
   "metadata": {},
   "outputs": [],
   "source": [
    "PATH = 'C:/Users/smsoh/Documents/GitHub/CLEF2021/task3/data/Task3a_Batch_1.xlsx'\n",
    "PASS = 'fake@2021'"
   ]
  },
  {
   "cell_type": "code",
   "execution_count": 4,
   "metadata": {},
   "outputs": [],
   "source": [
    "xlapp = w3c.Dispatch(\"Excel.Application\")\n",
    "xlwb = xlapp.Workbooks.Open(PATH, False, True, None, PASS)"
   ]
  },
  {
   "cell_type": "code",
   "execution_count": 5,
   "metadata": {},
   "outputs": [],
   "source": [
    "#train = pd.read_csv(\"data/Task3a_Batch_1.xlsx\")\n",
    "f = NamedTemporaryFile(delete=False, suffix='.csv')\n",
    "f.close()\n",
    "os.unlink(f.name)\n",
    "\n",
    "xlCSVWindows = 0x17\n",
    "xlwb.SaveAs(Filename=f.name, FileFormat=xlCSVWindows)\n",
    "train = pd.read_csv(f.name)"
   ]
  },
  {
   "cell_type": "code",
   "execution_count": 6,
   "metadata": {},
   "outputs": [
    {
     "output_type": "execute_result",
     "data": {
      "text/plain": [
       "    public_id                                               text  \\\n",
       "0    5a228e0e  Distracted driving causes more deaths in Canad...   \n",
       "1    30c605a1  Missouri politicians have made statements afte...   \n",
       "2    c3dea290  Home Alone 2: Lost in New York is full of viol...   \n",
       "3    f14e8eb6  But things took a turn for the worse when riot...   \n",
       "4    faf024d6  It�s no secret that Epstein and Schiff share a...   \n",
       "..        ...                                                ...   \n",
       "432  e01f532a  Rosemary Frei and Patrick Corbett  A high-prof...   \n",
       "433  3c791c29  As the coronavirus pandemic continues to devas...   \n",
       "434  fe6a9262  Belgium Health Minister Maggie de Block has pu...   \n",
       "435  97113f55  Responding To Backlash, Netflix Clarifies Its ...   \n",
       "436  ae0c3741  Senate Democrats Fail Taxpayers, Local Governm...   \n",
       "\n",
       "                                                 title       our rating  \n",
       "0    You Can Be Fined $1,500 If Your Passenger Is U...            false  \n",
       "1        Missouri lawmakers condemn Las Vegas shooting  partially false  \n",
       "2    CBC Cuts Donald Trump's 'Home Alone 2' Cameo O...  partially false  \n",
       "3    Obama�s Daughters Caught on Camera Burning US ...            false  \n",
       "4    Leaked Visitor Logs Reveal Schiff�s 78 Visits ...            false  \n",
       "..                                                 ...              ...  \n",
       "432             �No one has died from the coronavirus�            false  \n",
       "433  Why Did 21 Million Phone Numbers Disappear fro...            false  \n",
       "434  Belgium Health Minister puts ban on non-essent...            false  \n",
       "435  Responding To Backlash, Netflix Clarifies Its ...            false  \n",
       "436   New State Budget Is New Yorkers� Worst Nightmare  partially false  \n",
       "\n",
       "[437 rows x 4 columns]"
      ],
      "text/html": "<div>\n<style scoped>\n    .dataframe tbody tr th:only-of-type {\n        vertical-align: middle;\n    }\n\n    .dataframe tbody tr th {\n        vertical-align: top;\n    }\n\n    .dataframe thead th {\n        text-align: right;\n    }\n</style>\n<table border=\"1\" class=\"dataframe\">\n  <thead>\n    <tr style=\"text-align: right;\">\n      <th></th>\n      <th>public_id</th>\n      <th>text</th>\n      <th>title</th>\n      <th>our rating</th>\n    </tr>\n  </thead>\n  <tbody>\n    <tr>\n      <th>0</th>\n      <td>5a228e0e</td>\n      <td>Distracted driving causes more deaths in Canad...</td>\n      <td>You Can Be Fined $1,500 If Your Passenger Is U...</td>\n      <td>false</td>\n    </tr>\n    <tr>\n      <th>1</th>\n      <td>30c605a1</td>\n      <td>Missouri politicians have made statements afte...</td>\n      <td>Missouri lawmakers condemn Las Vegas shooting</td>\n      <td>partially false</td>\n    </tr>\n    <tr>\n      <th>2</th>\n      <td>c3dea290</td>\n      <td>Home Alone 2: Lost in New York is full of viol...</td>\n      <td>CBC Cuts Donald Trump's 'Home Alone 2' Cameo O...</td>\n      <td>partially false</td>\n    </tr>\n    <tr>\n      <th>3</th>\n      <td>f14e8eb6</td>\n      <td>But things took a turn for the worse when riot...</td>\n      <td>Obama�s Daughters Caught on Camera Burning US ...</td>\n      <td>false</td>\n    </tr>\n    <tr>\n      <th>4</th>\n      <td>faf024d6</td>\n      <td>It�s no secret that Epstein and Schiff share a...</td>\n      <td>Leaked Visitor Logs Reveal Schiff�s 78 Visits ...</td>\n      <td>false</td>\n    </tr>\n    <tr>\n      <th>...</th>\n      <td>...</td>\n      <td>...</td>\n      <td>...</td>\n      <td>...</td>\n    </tr>\n    <tr>\n      <th>432</th>\n      <td>e01f532a</td>\n      <td>Rosemary Frei and Patrick Corbett  A high-prof...</td>\n      <td>�No one has died from the coronavirus�</td>\n      <td>false</td>\n    </tr>\n    <tr>\n      <th>433</th>\n      <td>3c791c29</td>\n      <td>As the coronavirus pandemic continues to devas...</td>\n      <td>Why Did 21 Million Phone Numbers Disappear fro...</td>\n      <td>false</td>\n    </tr>\n    <tr>\n      <th>434</th>\n      <td>fe6a9262</td>\n      <td>Belgium Health Minister Maggie de Block has pu...</td>\n      <td>Belgium Health Minister puts ban on non-essent...</td>\n      <td>false</td>\n    </tr>\n    <tr>\n      <th>435</th>\n      <td>97113f55</td>\n      <td>Responding To Backlash, Netflix Clarifies Its ...</td>\n      <td>Responding To Backlash, Netflix Clarifies Its ...</td>\n      <td>false</td>\n    </tr>\n    <tr>\n      <th>436</th>\n      <td>ae0c3741</td>\n      <td>Senate Democrats Fail Taxpayers, Local Governm...</td>\n      <td>New State Budget Is New Yorkers� Worst Nightmare</td>\n      <td>partially false</td>\n    </tr>\n  </tbody>\n</table>\n<p>437 rows × 4 columns</p>\n</div>"
     },
     "metadata": {},
     "execution_count": 6
    }
   ],
   "source": [
    "train"
   ]
  },
  {
   "cell_type": "code",
   "execution_count": 5,
   "metadata": {},
   "outputs": [],
   "source": [
    "from sklearn.model_selection import train_test_split"
   ]
  },
  {
   "cell_type": "code",
   "execution_count": 6,
   "metadata": {},
   "outputs": [],
   "source": [
    "X_train, X_test = train_test_split(train, test_size=0.18, random_state=42)\n",
    "X_val, X_test = train_test_split(X_test, test_size=0.5, random_state=42)"
   ]
  },
  {
   "cell_type": "code",
   "execution_count": 7,
   "metadata": {},
   "outputs": [
    {
     "output_type": "stream",
     "name": "stdout",
     "text": [
      "train size: (41, 4) ,validation size: (4, 4) ,test size: (5, 4)\n"
     ]
    }
   ],
   "source": [
    "print('train size:',X_train.shape,',validation size:',X_val.shape,',test size:',X_test.shape)"
   ]
  },
  {
   "cell_type": "code",
   "execution_count": 8,
   "metadata": {},
   "outputs": [],
   "source": [
    "x_train = X_train[\"text\"].tolist()\n",
    "y_train = X_train[\"our rating\"].tolist()\n",
    "x_val = X_val[\"text\"].tolist()\n",
    "y_val = X_val[\"our rating\"].tolist()\n",
    "x_test = X_test[\"text\"].tolist()\n",
    "y_test = X_test[\"our rating\"].tolist()"
   ]
  },
  {
   "cell_type": "code",
   "execution_count": 9,
   "metadata": {},
   "outputs": [],
   "source": [
    "import ktrain\n",
    "from ktrain import text\n",
    "MODEL_NAME = 'bert-large-uncased'"
   ]
  },
  {
   "cell_type": "code",
   "execution_count": 10,
   "metadata": {},
   "outputs": [
    {
     "output_type": "stream",
     "name": "stderr",
     "text": [
      "C:\\Users\\smsoh\\AppData\\Local\\Programs\\Python\\Python38\\lib\\site-packages\\ktrain\\text\\preprocessor.py:414: UserWarning: The class_names argument is replacing the classes argument. Please update your code.\n  warnings.warn('The class_names argument is replacing the classes argument. Please update your code.')\n"
     ]
    }
   ],
   "source": [
    "t = text.Transformer(MODEL_NAME, maxlen=500, classes=[0,1])"
   ]
  },
  {
   "cell_type": "code",
   "execution_count": 11,
   "metadata": {},
   "outputs": [
    {
     "output_type": "stream",
     "name": "stdout",
     "text": [
      "preprocessing train...\n",
      "language: en\n",
      "train sequence lengths:\n",
      "\tmean : 602\n",
      "\t95percentile : 1951\n",
      "\t99percentile : 2047\n",
      "C:\\Users\\smsoh\\AppData\\Local\\Programs\\Python\\Python38\\lib\\site-packages\\ktrain\\utils.py:589: UserWarning: class_names argument was ignored, as they were extracted from string labels in dataset\n",
      "  if self.get_classes(): warnings.warn('class_names argument was ignored, as they were extracted from string labels in dataset')\n"
     ]
    },
    {
     "output_type": "display_data",
     "data": {
      "text/plain": "<IPython.core.display.HTML object>",
      "text/html": ""
     },
     "metadata": {}
    }
   ],
   "source": [
    "trn = t.preprocess_train(x_train, y_train)"
   ]
  },
  {
   "cell_type": "code",
   "execution_count": 12,
   "metadata": {},
   "outputs": [
    {
     "output_type": "stream",
     "name": "stdout",
     "text": [
      "preprocessing train...\nlanguage: en\ntrain sequence lengths:\n\tmean : 537\n\t95percentile : 1298\n\t99percentile : 1436\n"
     ]
    },
    {
     "output_type": "display_data",
     "data": {
      "text/plain": "<IPython.core.display.HTML object>",
      "text/html": ""
     },
     "metadata": {}
    }
   ],
   "source": [
    "val = t.preprocess_train(x_val, y_val)"
   ]
  },
  {
   "cell_type": "code",
   "execution_count": 13,
   "metadata": {},
   "outputs": [],
   "source": [
    "model = t.get_classifier()\n",
    "learner = ktrain.get_learner(model, train_data=trn, val_data=val, batch_size=8)"
   ]
  },
  {
   "cell_type": "code",
   "execution_count": 15,
   "metadata": {},
   "outputs": [
    {
     "output_type": "stream",
     "name": "stdout",
     "text": [
      "\n",
      "\n",
      "begin training using onecycle policy with max lr of 0.01...\n",
      "Epoch 1/10\n"
     ]
    }
   ],
   "source": [
    "learner.fit_onecycle(0.01, 10)"
   ]
  },
  {
   "cell_type": "code",
   "execution_count": null,
   "metadata": {},
   "outputs": [],
   "source": [
    "predictor = ktrain.get_predictor(learner.model, preproc=t)"
   ]
  },
  {
   "cell_type": "code",
   "execution_count": null,
   "metadata": {},
   "outputs": [],
   "source": [
    "statement = 'Says Barack Obama complained that Democrats continue to ignore blacks except at election time.'\n",
    "description = 'Great America Alliance said that Obama complained that Democrats continue to ignore blacks except at election time. \\\n",
    "              Obama did say the words used in the ad, but they weren’t his.He was quoting a Chicago barber talking about the days before African-Americans in Chicago helped elect the city’s first black mayor. \\\n",
    "              The full text from Obama’s book shows that he was arguing that voting can make a difference. Nothing in the section suggests that he thinks Democrats today only pay attention to blacks at election time.'\n",
    "test = statement + '<>' + description\n",
    "print(test)"
   ]
  },
  {
   "cell_type": "code",
   "execution_count": null,
   "metadata": {},
   "outputs": [],
   "source": [
    "if predictor.predict(test) is 0: \n",
    "  print('False')  # indeed it is false\n",
    "else:\n",
    "  print('True')"
   ]
  },
  {
   "cell_type": "code",
   "execution_count": null,
   "metadata": {},
   "outputs": [],
   "source": [
    "predictor.predict_proba(test)"
   ]
  },
  {
   "cell_type": "code",
   "execution_count": null,
   "metadata": {},
   "outputs": [],
   "source": [
    "predictor.get_classes()"
   ]
  },
  {
   "cell_type": "code",
   "execution_count": null,
   "metadata": {},
   "outputs": [],
   "source": [
    "pred = predictor.predict(x_test)"
   ]
  },
  {
   "cell_type": "code",
   "execution_count": null,
   "metadata": {},
   "outputs": [],
   "source": [
    "j = 0\n",
    "s = 0\n",
    "for i in pred:\n",
    "  if(i==y_test[j]):\n",
    "    s+=1\n",
    "  j+=1\n",
    "print('The Accuracy of the test set is',s/2083*100)"
   ]
  },
  {
   "cell_type": "code",
   "execution_count": null,
   "metadata": {},
   "outputs": [],
   "source": [
    "predictor.save('my_distilbert_predictor')SS"
   ]
  },
  {
   "cell_type": "code",
   "execution_count": null,
   "metadata": {},
   "outputs": [],
   "source": [
    "reloaded_predictor = ktrain.load_predictor('my_distilbert_predictor')"
   ]
  },
  {
   "source": [
    "Prediction"
   ],
   "cell_type": "markdown",
   "metadata": {}
  },
  {
   "cell_type": "code",
   "execution_count": null,
   "metadata": {},
   "outputs": [],
   "source": [
    "#@title Prediction\n",
    "statement = 'some person in campus has reported symptom of COVID 19 virus. ' #@param {type:\"string\"}\n",
    "description = 'So far no person (student / faculty member / staff) in the campus has reported any symptom of COVID 19 virus. ' #@param {type:\"string\"}\n",
    "test = statement + '<>' + description\n",
    "import ipywidgets as widgets\n",
    "from IPython.display import display\n",
    "button = widgets.Button(description=\"Enter\")\n",
    "output = widgets.Output()\n",
    "\n",
    "def on_button_clicked(b):\n",
    "  # Display the message within the output widget.\n",
    "  with output:\n",
    "    if reloaded_predictor.predict(test) is 0: \n",
    "      print('False')  \n",
    "    else:\n",
    "      print('True')\n",
    "\n",
    "button.on_click(on_button_clicked)\n",
    "display(button, output)"
   ]
  }
 ]
}