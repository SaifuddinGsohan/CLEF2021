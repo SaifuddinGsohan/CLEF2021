{
 "metadata": {
  "language_info": {
   "codemirror_mode": {
    "name": "ipython",
    "version": 3
   },
   "file_extension": ".py",
   "mimetype": "text/x-python",
   "name": "python",
   "nbconvert_exporter": "python",
   "pygments_lexer": "ipython3",
   "version": "3.8.8-final"
  },
  "orig_nbformat": 2,
  "kernelspec": {
   "name": "python388jvsc74a57bd0a8a565e09f07703efdc86ec03ccdbe7c8a022a338e4d0d45f87f70f34a61d8ea",
   "display_name": "Python 3.8.8 64-bit"
  },
  "metadata": {
   "interpreter": {
    "hash": "a8a565e09f07703efdc86ec03ccdbe7c8a022a338e4d0d45f87f70f34a61d8ea"
   }
  }
 },
 "nbformat": 4,
 "nbformat_minor": 2,
 "cells": [
  {
   "cell_type": "code",
   "execution_count": 1,
   "metadata": {},
   "outputs": [
    {
     "output_type": "stream",
     "name": "stdout",
     "text": [
      "2.4.1\n"
     ]
    }
   ],
   "source": [
    "import tensorflow as tf\n",
    "print(tf.__version__)"
   ]
  },
  {
   "source": [
    "#!pip3 install -q ktrain"
   ],
   "cell_type": "markdown",
   "metadata": {}
  },
  {
   "cell_type": "code",
   "execution_count": 3,
   "metadata": {},
   "outputs": [],
   "source": [
    "import pandas as pd\n",
    "from tqdm import tqdm_notebook"
   ]
  },
  {
   "cell_type": "code",
   "execution_count": 4,
   "metadata": {},
   "outputs": [],
   "source": [
    "train = pd.read_csv('data/task_3a_sample_data.csv')"
   ]
  },
  {
   "cell_type": "code",
   "execution_count": 5,
   "metadata": {},
   "outputs": [
    {
     "output_type": "execute_result",
     "data": {
      "text/plain": [
       "   public_id                                              title  \\\n",
       "0   f2182a54  HUGE! Attorney Sidney Powell CONFIRMS Alleged ...   \n",
       "1   c5175d8d        Paul Ryan’s Worst Ally - The New York Times   \n",
       "2   213a870b  You Can Get Jail Time Or $3,000 Fine For Not W...   \n",
       "3   392886ea  Antifa gearing up for false flag violence disg...   \n",
       "4   bc6d5d55  Remarks by President Biden on the Administrati...   \n",
       "5   59960d0e                                   Infowars Article   \n",
       "6   b8437efb  BOMBSHELL: Covid-19 infection rate may be 440%...   \n",
       "7   faf024d6  Marine Corps. Rebukes Pelosi: “WE DON’T WORK F...   \n",
       "8   0f086930  You Can be Fined $2,500 And Banned From Drivin...   \n",
       "9   daafc154  Scott Walker still owes $1 million for preside...   \n",
       "10  c1dc1ac6  Blaylock: Face Masks Pose Serious Risks To The...   \n",
       "11  4461868e  Kamala Harris Says She Supports Your Second Am...   \n",
       "12  c69de08e  Wisconsin Election Commission Directive Allows...   \n",
       "13  3c2b01de               Trump Is the Worst Kind of Socialist   \n",
       "14  fb721890  WisDems: Farmers have been crushed by Trump’s ...   \n",
       "15  c33779f6  Former President Barack Obama arrested for ESP...   \n",
       "16  5a228e0e  Merck Scraps COVID Vaccines; Says It’s More Ef...   \n",
       "17  3bc38092            U.S. Senator Tammy Baldwin of Wisconsin   \n",
       "18  673f05fa  Danny O'Connor has more than 10 times Troy Bal...   \n",
       "19  e2e93a55  Pro-Life Groups Upset UN Coronavirus Relief Fu...   \n",
       "20  5929f661  Hal Turner: 50,000 Chinese Soldiers Were Bombe...   \n",
       "21  ae596f59  CBC Cuts Donald Trump's 'Home Alone 2' Cameo O...   \n",
       "22  610801c6  New research of toxic bait might provide contr...   \n",
       "23  7c9af097  Netizens nabahala ngayon matapos mapabalita na...   \n",
       "24  bb1999cc  WATCH: Bill Gates Admits His COVID-19 Vaccine ...   \n",
       "25  2ec747ae  Victims of Voter Fraud: Initial Announcement o...   \n",
       "26  2d0f41d8  Trudeau Bought His Mother A Car Using WE Chari...   \n",
       "27  a14a969b  Cynthia Nixon slams Cuomo on Albany's culture ...   \n",
       "28  72d48555  Senate Republican Leader Ortt And Republican C...   \n",
       "29  c3dea290  BREAKING: US Military at the White House Arres...   \n",
       "30  3b246b55  This New Bill Would Allow Texas Teachers To Ki...   \n",
       "31  da01ca66  Current Actual Election Result Update: Preside...   \n",
       "32  465eaa43                  4 challenges await Panetta at DOD   \n",
       "33  8cf3a230  Rep. David McKinley Calls for Increase in Bord...   \n",
       "34  b5bf9ed6  Austin American-Statesman: Local News, Politic...   \n",
       "35  31a6122b  Gas prices have dropped, but in N.Y. state the...   \n",
       "36  f14e8eb6     National Guard Turned Backs on Biden Motorcade   \n",
       "37  aacdc4d3  Florida law house party underage drinking penalty   \n",
       "38  752ab8f7             State of Rhode Island General Assembly   \n",
       "39  43b52abb  Software issue in Michigan gave Biden an estim...   \n",
       "40  2f4df790  Closing The Mexico Border Would Affect The U.S...   \n",
       "41  30c605a1  CDC Exposed: Inflated Covid Deaths By 1600% Th...   \n",
       "42  1abdbb0e  Rep. Vos, Sen. Fitzgerald: Gov. Evers’ plan pr...   \n",
       "43  9332ac22  Flu Vaccine Deaths in South Korea risen to nea...   \n",
       "44  1f33d253  UN Forced to Admit Gates-funded Vaccine Is Cau...   \n",
       "45  acd85167       Evans, Dueker take a look at St. Louis crime   \n",
       "46  d72c2323        BLM Has Rules for Whites Attending Protests   \n",
       "47  c03ed5db  Canadian Govt Publishes Bid Request For “Progr...   \n",
       "48  a329a5b3  Josh Mandel discloses finances, showing his wi...   \n",
       "49  31d33510  Fact Check: Harris Says Biden Won't Ban Fracki...   \n",
       "\n",
       "                                                 text       our rating  \n",
       "0   Last week Rep. Louie Gohmert told Chris Salced...            FALSE  \n",
       "1   WHATEVER drama plays out when Republicans meet...             TRUE  \n",
       "2   Source page URL  Title You Can Get Jail Time O...            FALSE  \n",
       "3   With merchants in Democrat-run cities boarding...            FALSE  \n",
       "4   State Dining Room  4:22 P.M. EST  THE PRESIDEN...  partially false  \n",
       "5   Keep up to date with our latest:  Have an impo...            FALSE  \n",
       "6   (Natural News) A 2012 study published in the j...            FALSE  \n",
       "7   Latest Breaking News: Martial Law Imminent  Ge...            FALSE  \n",
       "8   Smoking could be considered a distraction unde...            FALSE  \n",
       "9   Gov. Scott Walker said Friday his presidential...  partially false  \n",
       "10  Please Share This Story!                  Dr. ...  partially false  \n",
       "11  We knew that Joe Biden’s vice-presidential pic...            FALSE  \n",
       "12  This article has been updated to include more ...            FALSE  \n",
       "13  “America will never be a socialist country,” P...             TRUE  \n",
       "14  (WISCONSIN) — Trump’s failed COVID-19 response...  partially false  \n",
       "15  Source page URL  Title Former President Barack...            FALSE  \n",
       "16  Vaccine manufacturer Merck has abandoned devel...  partially false  \n",
       "17  U.S. Senator Tammy Baldwin Stands Up for Wisco...             TRUE  \n",
       "18  WASHINGTON, D.C. - After narrowly winning an A...  partially false  \n",
       "19  The United Nations is using coronavirus aid to...            FALSE  \n",
       "20  Hal Turner: 50,000 Chinese Soldiers Were Bombe...            FALSE  \n",
       "21  Home Alone 2: Lost in New York is full of viol...  partially false  \n",
       "22  The rapid and uncontrolled population growth o...  partially false  \n",
       "23  Source page URL  Title Netizens nabahala ngayo...  partially false  \n",
       "24  Microsoft co-founder and “philanthropist” Bill...            FALSE  \n",
       "25  November 11, 2020 Victims of Voter Fraud: Init...  partially false  \n",
       "26  Trudeau Bought His Mother A Car Using WE Chari...            FALSE  \n",
       "27  ALBANY – Gubernatorial candidate Cynthia Nixon...             TRUE  \n",
       "28  Comprehensive Plan Includes Proposals to Resta...  partially false  \n",
       "29  Special Operations (SOF) units including 4,000...            FALSE  \n",
       "30  Texas state Rep. Dan Flynn(R) has proposed a b...  partially false  \n",
       "31  Based on actual results and accounting for sta...            FALSE  \n",
       "32  One cannot transfuse democracy at the tip of a...             TRUE  \n",
       "33  WHEELING — At least $53 million a week in ille...             TRUE  \n",
       "34  Police investigate shooting outside Round Rock...  partially false  \n",
       "35  BUFFALO, N.Y. (WKBW) — As people stay home to ...             TRUE  \n",
       "36  Members of the US National Guard refused to ac...            FALSE  \n",
       "37  America's vote: Will Casey Bishop make it into...             TRUE  \n",
       "38  03/30/2021 Acosta, Batista introduce police re...  partially false  \n",
       "39  Editor note and update: Since our original art...  partially false  \n",
       "40  UPDATE: April 3, 2019, 2:50 PM  Bloomberg repo...             TRUE  \n",
       "41  Throughout the election, Donald Trump was batt...            FALSE  \n",
       "42  Madison, WI…Speaker Robin Vos (R-Rochester) an...  partially false  \n",
       "43  After the Korean Medical Association had calle...  partially false  \n",
       "44  This really should be one of the biggest publi...  partially false  \n",
       "45  Evans, Dueker take a look at St. Louis crime  ...  partially false  \n",
       "46  0 SHARES Share Tweet  BLM pasted these “rules”...            FALSE  \n",
       "47  Is Canada building covid death camps to “proce...            FALSE  \n",
       "48  WASHINGTON, D.C. — Ohio Treasurer Josh Mandel,...             TRUE  \n",
       "49  Democratic Sen. Kamala Harris of California wa...  partially false  "
      ],
      "text/html": "<div>\n<style scoped>\n    .dataframe tbody tr th:only-of-type {\n        vertical-align: middle;\n    }\n\n    .dataframe tbody tr th {\n        vertical-align: top;\n    }\n\n    .dataframe thead th {\n        text-align: right;\n    }\n</style>\n<table border=\"1\" class=\"dataframe\">\n  <thead>\n    <tr style=\"text-align: right;\">\n      <th></th>\n      <th>public_id</th>\n      <th>title</th>\n      <th>text</th>\n      <th>our rating</th>\n    </tr>\n  </thead>\n  <tbody>\n    <tr>\n      <th>0</th>\n      <td>f2182a54</td>\n      <td>HUGE! Attorney Sidney Powell CONFIRMS Alleged ...</td>\n      <td>Last week Rep. Louie Gohmert told Chris Salced...</td>\n      <td>FALSE</td>\n    </tr>\n    <tr>\n      <th>1</th>\n      <td>c5175d8d</td>\n      <td>Paul Ryan’s Worst Ally - The New York Times</td>\n      <td>WHATEVER drama plays out when Republicans meet...</td>\n      <td>TRUE</td>\n    </tr>\n    <tr>\n      <th>2</th>\n      <td>213a870b</td>\n      <td>You Can Get Jail Time Or $3,000 Fine For Not W...</td>\n      <td>Source page URL  Title You Can Get Jail Time O...</td>\n      <td>FALSE</td>\n    </tr>\n    <tr>\n      <th>3</th>\n      <td>392886ea</td>\n      <td>Antifa gearing up for false flag violence disg...</td>\n      <td>With merchants in Democrat-run cities boarding...</td>\n      <td>FALSE</td>\n    </tr>\n    <tr>\n      <th>4</th>\n      <td>bc6d5d55</td>\n      <td>Remarks by President Biden on the Administrati...</td>\n      <td>State Dining Room  4:22 P.M. EST  THE PRESIDEN...</td>\n      <td>partially false</td>\n    </tr>\n    <tr>\n      <th>5</th>\n      <td>59960d0e</td>\n      <td>Infowars Article</td>\n      <td>Keep up to date with our latest:  Have an impo...</td>\n      <td>FALSE</td>\n    </tr>\n    <tr>\n      <th>6</th>\n      <td>b8437efb</td>\n      <td>BOMBSHELL: Covid-19 infection rate may be 440%...</td>\n      <td>(Natural News) A 2012 study published in the j...</td>\n      <td>FALSE</td>\n    </tr>\n    <tr>\n      <th>7</th>\n      <td>faf024d6</td>\n      <td>Marine Corps. Rebukes Pelosi: “WE DON’T WORK F...</td>\n      <td>Latest Breaking News: Martial Law Imminent  Ge...</td>\n      <td>FALSE</td>\n    </tr>\n    <tr>\n      <th>8</th>\n      <td>0f086930</td>\n      <td>You Can be Fined $2,500 And Banned From Drivin...</td>\n      <td>Smoking could be considered a distraction unde...</td>\n      <td>FALSE</td>\n    </tr>\n    <tr>\n      <th>9</th>\n      <td>daafc154</td>\n      <td>Scott Walker still owes $1 million for preside...</td>\n      <td>Gov. Scott Walker said Friday his presidential...</td>\n      <td>partially false</td>\n    </tr>\n    <tr>\n      <th>10</th>\n      <td>c1dc1ac6</td>\n      <td>Blaylock: Face Masks Pose Serious Risks To The...</td>\n      <td>Please Share This Story!                  Dr. ...</td>\n      <td>partially false</td>\n    </tr>\n    <tr>\n      <th>11</th>\n      <td>4461868e</td>\n      <td>Kamala Harris Says She Supports Your Second Am...</td>\n      <td>We knew that Joe Biden’s vice-presidential pic...</td>\n      <td>FALSE</td>\n    </tr>\n    <tr>\n      <th>12</th>\n      <td>c69de08e</td>\n      <td>Wisconsin Election Commission Directive Allows...</td>\n      <td>This article has been updated to include more ...</td>\n      <td>FALSE</td>\n    </tr>\n    <tr>\n      <th>13</th>\n      <td>3c2b01de</td>\n      <td>Trump Is the Worst Kind of Socialist</td>\n      <td>“America will never be a socialist country,” P...</td>\n      <td>TRUE</td>\n    </tr>\n    <tr>\n      <th>14</th>\n      <td>fb721890</td>\n      <td>WisDems: Farmers have been crushed by Trump’s ...</td>\n      <td>(WISCONSIN) — Trump’s failed COVID-19 response...</td>\n      <td>partially false</td>\n    </tr>\n    <tr>\n      <th>15</th>\n      <td>c33779f6</td>\n      <td>Former President Barack Obama arrested for ESP...</td>\n      <td>Source page URL  Title Former President Barack...</td>\n      <td>FALSE</td>\n    </tr>\n    <tr>\n      <th>16</th>\n      <td>5a228e0e</td>\n      <td>Merck Scraps COVID Vaccines; Says It’s More Ef...</td>\n      <td>Vaccine manufacturer Merck has abandoned devel...</td>\n      <td>partially false</td>\n    </tr>\n    <tr>\n      <th>17</th>\n      <td>3bc38092</td>\n      <td>U.S. Senator Tammy Baldwin of Wisconsin</td>\n      <td>U.S. Senator Tammy Baldwin Stands Up for Wisco...</td>\n      <td>TRUE</td>\n    </tr>\n    <tr>\n      <th>18</th>\n      <td>673f05fa</td>\n      <td>Danny O'Connor has more than 10 times Troy Bal...</td>\n      <td>WASHINGTON, D.C. - After narrowly winning an A...</td>\n      <td>partially false</td>\n    </tr>\n    <tr>\n      <th>19</th>\n      <td>e2e93a55</td>\n      <td>Pro-Life Groups Upset UN Coronavirus Relief Fu...</td>\n      <td>The United Nations is using coronavirus aid to...</td>\n      <td>FALSE</td>\n    </tr>\n    <tr>\n      <th>20</th>\n      <td>5929f661</td>\n      <td>Hal Turner: 50,000 Chinese Soldiers Were Bombe...</td>\n      <td>Hal Turner: 50,000 Chinese Soldiers Were Bombe...</td>\n      <td>FALSE</td>\n    </tr>\n    <tr>\n      <th>21</th>\n      <td>ae596f59</td>\n      <td>CBC Cuts Donald Trump's 'Home Alone 2' Cameo O...</td>\n      <td>Home Alone 2: Lost in New York is full of viol...</td>\n      <td>partially false</td>\n    </tr>\n    <tr>\n      <th>22</th>\n      <td>610801c6</td>\n      <td>New research of toxic bait might provide contr...</td>\n      <td>The rapid and uncontrolled population growth o...</td>\n      <td>partially false</td>\n    </tr>\n    <tr>\n      <th>23</th>\n      <td>7c9af097</td>\n      <td>Netizens nabahala ngayon matapos mapabalita na...</td>\n      <td>Source page URL  Title Netizens nabahala ngayo...</td>\n      <td>partially false</td>\n    </tr>\n    <tr>\n      <th>24</th>\n      <td>bb1999cc</td>\n      <td>WATCH: Bill Gates Admits His COVID-19 Vaccine ...</td>\n      <td>Microsoft co-founder and “philanthropist” Bill...</td>\n      <td>FALSE</td>\n    </tr>\n    <tr>\n      <th>25</th>\n      <td>2ec747ae</td>\n      <td>Victims of Voter Fraud: Initial Announcement o...</td>\n      <td>November 11, 2020 Victims of Voter Fraud: Init...</td>\n      <td>partially false</td>\n    </tr>\n    <tr>\n      <th>26</th>\n      <td>2d0f41d8</td>\n      <td>Trudeau Bought His Mother A Car Using WE Chari...</td>\n      <td>Trudeau Bought His Mother A Car Using WE Chari...</td>\n      <td>FALSE</td>\n    </tr>\n    <tr>\n      <th>27</th>\n      <td>a14a969b</td>\n      <td>Cynthia Nixon slams Cuomo on Albany's culture ...</td>\n      <td>ALBANY – Gubernatorial candidate Cynthia Nixon...</td>\n      <td>TRUE</td>\n    </tr>\n    <tr>\n      <th>28</th>\n      <td>72d48555</td>\n      <td>Senate Republican Leader Ortt And Republican C...</td>\n      <td>Comprehensive Plan Includes Proposals to Resta...</td>\n      <td>partially false</td>\n    </tr>\n    <tr>\n      <th>29</th>\n      <td>c3dea290</td>\n      <td>BREAKING: US Military at the White House Arres...</td>\n      <td>Special Operations (SOF) units including 4,000...</td>\n      <td>FALSE</td>\n    </tr>\n    <tr>\n      <th>30</th>\n      <td>3b246b55</td>\n      <td>This New Bill Would Allow Texas Teachers To Ki...</td>\n      <td>Texas state Rep. Dan Flynn(R) has proposed a b...</td>\n      <td>partially false</td>\n    </tr>\n    <tr>\n      <th>31</th>\n      <td>da01ca66</td>\n      <td>Current Actual Election Result Update: Preside...</td>\n      <td>Based on actual results and accounting for sta...</td>\n      <td>FALSE</td>\n    </tr>\n    <tr>\n      <th>32</th>\n      <td>465eaa43</td>\n      <td>4 challenges await Panetta at DOD</td>\n      <td>One cannot transfuse democracy at the tip of a...</td>\n      <td>TRUE</td>\n    </tr>\n    <tr>\n      <th>33</th>\n      <td>8cf3a230</td>\n      <td>Rep. David McKinley Calls for Increase in Bord...</td>\n      <td>WHEELING — At least $53 million a week in ille...</td>\n      <td>TRUE</td>\n    </tr>\n    <tr>\n      <th>34</th>\n      <td>b5bf9ed6</td>\n      <td>Austin American-Statesman: Local News, Politic...</td>\n      <td>Police investigate shooting outside Round Rock...</td>\n      <td>partially false</td>\n    </tr>\n    <tr>\n      <th>35</th>\n      <td>31a6122b</td>\n      <td>Gas prices have dropped, but in N.Y. state the...</td>\n      <td>BUFFALO, N.Y. (WKBW) — As people stay home to ...</td>\n      <td>TRUE</td>\n    </tr>\n    <tr>\n      <th>36</th>\n      <td>f14e8eb6</td>\n      <td>National Guard Turned Backs on Biden Motorcade</td>\n      <td>Members of the US National Guard refused to ac...</td>\n      <td>FALSE</td>\n    </tr>\n    <tr>\n      <th>37</th>\n      <td>aacdc4d3</td>\n      <td>Florida law house party underage drinking penalty</td>\n      <td>America's vote: Will Casey Bishop make it into...</td>\n      <td>TRUE</td>\n    </tr>\n    <tr>\n      <th>38</th>\n      <td>752ab8f7</td>\n      <td>State of Rhode Island General Assembly</td>\n      <td>03/30/2021 Acosta, Batista introduce police re...</td>\n      <td>partially false</td>\n    </tr>\n    <tr>\n      <th>39</th>\n      <td>43b52abb</td>\n      <td>Software issue in Michigan gave Biden an estim...</td>\n      <td>Editor note and update: Since our original art...</td>\n      <td>partially false</td>\n    </tr>\n    <tr>\n      <th>40</th>\n      <td>2f4df790</td>\n      <td>Closing The Mexico Border Would Affect The U.S...</td>\n      <td>UPDATE: April 3, 2019, 2:50 PM  Bloomberg repo...</td>\n      <td>TRUE</td>\n    </tr>\n    <tr>\n      <th>41</th>\n      <td>30c605a1</td>\n      <td>CDC Exposed: Inflated Covid Deaths By 1600% Th...</td>\n      <td>Throughout the election, Donald Trump was batt...</td>\n      <td>FALSE</td>\n    </tr>\n    <tr>\n      <th>42</th>\n      <td>1abdbb0e</td>\n      <td>Rep. Vos, Sen. Fitzgerald: Gov. Evers’ plan pr...</td>\n      <td>Madison, WI…Speaker Robin Vos (R-Rochester) an...</td>\n      <td>partially false</td>\n    </tr>\n    <tr>\n      <th>43</th>\n      <td>9332ac22</td>\n      <td>Flu Vaccine Deaths in South Korea risen to nea...</td>\n      <td>After the Korean Medical Association had calle...</td>\n      <td>partially false</td>\n    </tr>\n    <tr>\n      <th>44</th>\n      <td>1f33d253</td>\n      <td>UN Forced to Admit Gates-funded Vaccine Is Cau...</td>\n      <td>This really should be one of the biggest publi...</td>\n      <td>partially false</td>\n    </tr>\n    <tr>\n      <th>45</th>\n      <td>acd85167</td>\n      <td>Evans, Dueker take a look at St. Louis crime</td>\n      <td>Evans, Dueker take a look at St. Louis crime  ...</td>\n      <td>partially false</td>\n    </tr>\n    <tr>\n      <th>46</th>\n      <td>d72c2323</td>\n      <td>BLM Has Rules for Whites Attending Protests</td>\n      <td>0 SHARES Share Tweet  BLM pasted these “rules”...</td>\n      <td>FALSE</td>\n    </tr>\n    <tr>\n      <th>47</th>\n      <td>c03ed5db</td>\n      <td>Canadian Govt Publishes Bid Request For “Progr...</td>\n      <td>Is Canada building covid death camps to “proce...</td>\n      <td>FALSE</td>\n    </tr>\n    <tr>\n      <th>48</th>\n      <td>a329a5b3</td>\n      <td>Josh Mandel discloses finances, showing his wi...</td>\n      <td>WASHINGTON, D.C. — Ohio Treasurer Josh Mandel,...</td>\n      <td>TRUE</td>\n    </tr>\n    <tr>\n      <th>49</th>\n      <td>31d33510</td>\n      <td>Fact Check: Harris Says Biden Won't Ban Fracki...</td>\n      <td>Democratic Sen. Kamala Harris of California wa...</td>\n      <td>partially false</td>\n    </tr>\n  </tbody>\n</table>\n</div>"
     },
     "metadata": {},
     "execution_count": 5
    }
   ],
   "source": [
    "train"
   ]
  },
  {
   "cell_type": "code",
   "execution_count": 6,
   "metadata": {},
   "outputs": [],
   "source": [
    "from sklearn.model_selection import train_test_split"
   ]
  },
  {
   "cell_type": "code",
   "execution_count": 7,
   "metadata": {},
   "outputs": [],
   "source": [
    "X_train, X_test = train_test_split(train, test_size=0.18, random_state=42)\n",
    "X_val, X_test = train_test_split(X_test, test_size=0.5, random_state=42)"
   ]
  },
  {
   "cell_type": "code",
   "execution_count": 8,
   "metadata": {},
   "outputs": [
    {
     "output_type": "stream",
     "name": "stdout",
     "text": [
      "train size: (41, 4) ,validation size: (4, 4) ,test size: (5, 4)\n"
     ]
    }
   ],
   "source": [
    "print('train size:',X_train.shape,',validation size:',X_val.shape,',test size:',X_test.shape)"
   ]
  },
  {
   "cell_type": "code",
   "execution_count": 9,
   "metadata": {},
   "outputs": [],
   "source": [
    "x_train = X_train[\"text\"].tolist()\n",
    "y_train = X_train[\"our rating\"].tolist()\n",
    "x_val = X_val[\"text\"].tolist()\n",
    "y_val = X_val[\"our rating\"].tolist()\n",
    "x_test = X_test[\"text\"].tolist()\n",
    "y_test = X_test[\"our rating\"].tolist()"
   ]
  },
  {
   "cell_type": "code",
   "execution_count": 10,
   "metadata": {},
   "outputs": [],
   "source": [
    "import ktrain\n",
    "from ktrain import text\n",
    "MODEL_NAME = 'bert-large-uncased'"
   ]
  },
  {
   "cell_type": "code",
   "execution_count": 11,
   "metadata": {},
   "outputs": [
    {
     "output_type": "stream",
     "name": "stderr",
     "text": [
      "C:\\Users\\smsoh\\AppData\\Local\\Programs\\Python\\Python38\\lib\\site-packages\\ktrain\\text\\preprocessor.py:414: UserWarning: The class_names argument is replacing the classes argument. Please update your code.\n",
      "  warnings.warn('The class_names argument is replacing the classes argument. Please update your code.')\n",
      "Downloading: 100%|██████████| 434/434 [00:00<00:00, 61.7kB/s]\n"
     ]
    }
   ],
   "source": [
    "t = text.Transformer(MODEL_NAME, maxlen=500, classes=[0,1])"
   ]
  },
  {
   "cell_type": "code",
   "execution_count": 12,
   "metadata": {},
   "outputs": [
    {
     "output_type": "stream",
     "name": "stdout",
     "text": [
      "preprocessing train...\n",
      "language: en\n",
      "train sequence lengths:\n",
      "\tmean : 602\n",
      "\t95percentile : 1951\n",
      "\t99percentile : 2047\n",
      "C:\\Users\\smsoh\\AppData\\Local\\Programs\\Python\\Python38\\lib\\site-packages\\ktrain\\utils.py:589: UserWarning: class_names argument was ignored, as they were extracted from string labels in dataset\n",
      "  if self.get_classes(): warnings.warn('class_names argument was ignored, as they were extracted from string labels in dataset')\n",
      "Downloading: 100%|██████████| 232k/232k [00:01<00:00, 203kB/s]\n",
      "Downloading: 100%|██████████| 466k/466k [00:01<00:00, 320kB/s]\n"
     ]
    },
    {
     "output_type": "display_data",
     "data": {
      "text/plain": "<IPython.core.display.HTML object>",
      "text/html": ""
     },
     "metadata": {}
    }
   ],
   "source": [
    "trn = t.preprocess_train(x_train, y_train)"
   ]
  },
  {
   "cell_type": "code",
   "execution_count": 13,
   "metadata": {},
   "outputs": [
    {
     "output_type": "stream",
     "name": "stdout",
     "text": [
      "preprocessing train...\nlanguage: en\ntrain sequence lengths:\n\tmean : 537\n\t95percentile : 1298\n\t99percentile : 1436\n"
     ]
    },
    {
     "output_type": "display_data",
     "data": {
      "text/plain": "<IPython.core.display.HTML object>",
      "text/html": ""
     },
     "metadata": {}
    }
   ],
   "source": [
    "val = t.preprocess_train(x_val, y_val)"
   ]
  },
  {
   "cell_type": "code",
   "execution_count": 14,
   "metadata": {},
   "outputs": [
    {
     "output_type": "stream",
     "name": "stderr",
     "text": [
      "Downloading: 100%|██████████| 1.47G/1.47G [18:15<00:00, 1.34MB/s]\n"
     ]
    }
   ],
   "source": [
    "model = t.get_classifier()\n",
    "learner = ktrain.get_learner(model, train_data=trn, val_data=val, batch_size=8)"
   ]
  },
  {
   "cell_type": "code",
   "execution_count": 16,
   "metadata": {},
   "outputs": [
    {
     "output_type": "stream",
     "name": "stdout",
     "text": [
      "\n",
      "\n",
      "begin training using onecycle policy with max lr of 1e-05...\n",
      "Epoch 1/3\n"
     ]
    },
    {
     "output_type": "error",
     "ename": "ResourceExhaustedError",
     "evalue": " OOM when allocating tensor with shape[8,16,500,500] and type bool on /job:localhost/replica:0/task:0/device:CPU:0 by allocator cpu\n\t [[node tf_bert_for_sequence_classification/bert/encoder/layer_._1/attention/self/dropout_4/dropout/GreaterEqual (defined at C:\\Users\\smsoh\\AppData\\Local\\Programs\\Python\\Python38\\lib\\site-packages\\transformers\\models\\bert\\modeling_tf_bert.py:369) ]]\nHint: If you want to see a list of allocated tensors when OOM happens, add report_tensor_allocations_upon_oom to RunOptions for current allocation info.\n [Op:__inference_train_function_38138]\n\nFunction call stack:\ntrain_function\n",
     "traceback": [
      "\u001b[1;31m---------------------------------------------------------------------------\u001b[0m",
      "\u001b[1;31mResourceExhaustedError\u001b[0m                    Traceback (most recent call last)",
      "\u001b[1;32m<ipython-input-16-33df68db94f2>\u001b[0m in \u001b[0;36m<module>\u001b[1;34m\u001b[0m\n\u001b[1;32m----> 1\u001b[1;33m \u001b[0mlearner\u001b[0m\u001b[1;33m.\u001b[0m\u001b[0mfit_onecycle\u001b[0m\u001b[1;33m(\u001b[0m\u001b[1;36m1e-5\u001b[0m\u001b[1;33m,\u001b[0m \u001b[1;36m3\u001b[0m\u001b[1;33m)\u001b[0m\u001b[1;33m\u001b[0m\u001b[1;33m\u001b[0m\u001b[0m\n\u001b[0m",
      "\u001b[1;32m~\\AppData\\Local\\Programs\\Python\\Python38\\lib\\site-packages\\ktrain\\core.py\u001b[0m in \u001b[0;36mfit_onecycle\u001b[1;34m(self, lr, epochs, checkpoint_folder, cycle_momentum, max_momentum, min_momentum, class_weight, callbacks, steps_per_epoch, verbose)\u001b[0m\n\u001b[0;32m    855\u001b[0m         U.vprint('begin training using %s policy with max lr of %s...' % (policy, lr), \n\u001b[0;32m    856\u001b[0m                 verbose=verbose)\n\u001b[1;32m--> 857\u001b[1;33m         hist = self.fit(lr, epochs, early_stopping=None,\n\u001b[0m\u001b[0;32m    858\u001b[0m                         \u001b[0mcheckpoint_folder\u001b[0m\u001b[1;33m=\u001b[0m\u001b[0mcheckpoint_folder\u001b[0m\u001b[1;33m,\u001b[0m\u001b[1;33m\u001b[0m\u001b[1;33m\u001b[0m\u001b[0m\n\u001b[0;32m    859\u001b[0m                         \u001b[0mverbose\u001b[0m\u001b[1;33m=\u001b[0m\u001b[0mverbose\u001b[0m\u001b[1;33m,\u001b[0m \u001b[0mclass_weight\u001b[0m\u001b[1;33m=\u001b[0m\u001b[0mclass_weight\u001b[0m\u001b[1;33m,\u001b[0m \u001b[0mcallbacks\u001b[0m\u001b[1;33m=\u001b[0m\u001b[0mkcallbacks\u001b[0m\u001b[1;33m,\u001b[0m\u001b[1;33m\u001b[0m\u001b[1;33m\u001b[0m\u001b[0m\n",
      "\u001b[1;32m~\\AppData\\Local\\Programs\\Python\\Python38\\lib\\site-packages\\ktrain\\core.py\u001b[0m in \u001b[0;36mfit\u001b[1;34m(self, lr, n_cycles, cycle_len, cycle_mult, lr_decay, checkpoint_folder, early_stopping, class_weight, callbacks, steps_per_epoch, verbose)\u001b[0m\n\u001b[0;32m   1315\u001b[0m             \u001b[0mwarnings\u001b[0m\u001b[1;33m.\u001b[0m\u001b[0mfilterwarnings\u001b[0m\u001b[1;33m(\u001b[0m\u001b[1;34m'ignore'\u001b[0m\u001b[1;33m,\u001b[0m \u001b[0mmessage\u001b[0m\u001b[1;33m=\u001b[0m\u001b[1;34m'.*Check your callbacks.*'\u001b[0m\u001b[1;33m)\u001b[0m\u001b[1;33m\u001b[0m\u001b[1;33m\u001b[0m\u001b[0m\n\u001b[0;32m   1316\u001b[0m             \u001b[0mfit_fn\u001b[0m \u001b[1;33m=\u001b[0m \u001b[0mself\u001b[0m\u001b[1;33m.\u001b[0m\u001b[0mmodel\u001b[0m\u001b[1;33m.\u001b[0m\u001b[0mfit\u001b[0m\u001b[1;33m\u001b[0m\u001b[1;33m\u001b[0m\u001b[0m\n\u001b[1;32m-> 1317\u001b[1;33m             hist = fit_fn(self._prepare(self.train_data),\n\u001b[0m\u001b[0;32m   1318\u001b[0m                                         \u001b[0msteps_per_epoch\u001b[0m \u001b[1;33m=\u001b[0m \u001b[0msteps_per_epoch\u001b[0m\u001b[1;33m,\u001b[0m\u001b[1;33m\u001b[0m\u001b[1;33m\u001b[0m\u001b[0m\n\u001b[0;32m   1319\u001b[0m                                         \u001b[0mvalidation_steps\u001b[0m \u001b[1;33m=\u001b[0m \u001b[0mvalidation_steps\u001b[0m\u001b[1;33m,\u001b[0m\u001b[1;33m\u001b[0m\u001b[1;33m\u001b[0m\u001b[0m\n",
      "\u001b[1;32m~\\AppData\\Local\\Programs\\Python\\Python38\\lib\\site-packages\\tensorflow\\python\\keras\\engine\\training.py\u001b[0m in \u001b[0;36mfit\u001b[1;34m(self, x, y, batch_size, epochs, verbose, callbacks, validation_split, validation_data, shuffle, class_weight, sample_weight, initial_epoch, steps_per_epoch, validation_steps, validation_batch_size, validation_freq, max_queue_size, workers, use_multiprocessing)\u001b[0m\n\u001b[0;32m   1098\u001b[0m                 _r=1):\n\u001b[0;32m   1099\u001b[0m               \u001b[0mcallbacks\u001b[0m\u001b[1;33m.\u001b[0m\u001b[0mon_train_batch_begin\u001b[0m\u001b[1;33m(\u001b[0m\u001b[0mstep\u001b[0m\u001b[1;33m)\u001b[0m\u001b[1;33m\u001b[0m\u001b[1;33m\u001b[0m\u001b[0m\n\u001b[1;32m-> 1100\u001b[1;33m               \u001b[0mtmp_logs\u001b[0m \u001b[1;33m=\u001b[0m \u001b[0mself\u001b[0m\u001b[1;33m.\u001b[0m\u001b[0mtrain_function\u001b[0m\u001b[1;33m(\u001b[0m\u001b[0miterator\u001b[0m\u001b[1;33m)\u001b[0m\u001b[1;33m\u001b[0m\u001b[1;33m\u001b[0m\u001b[0m\n\u001b[0m\u001b[0;32m   1101\u001b[0m               \u001b[1;32mif\u001b[0m \u001b[0mdata_handler\u001b[0m\u001b[1;33m.\u001b[0m\u001b[0mshould_sync\u001b[0m\u001b[1;33m:\u001b[0m\u001b[1;33m\u001b[0m\u001b[1;33m\u001b[0m\u001b[0m\n\u001b[0;32m   1102\u001b[0m                 \u001b[0mcontext\u001b[0m\u001b[1;33m.\u001b[0m\u001b[0masync_wait\u001b[0m\u001b[1;33m(\u001b[0m\u001b[1;33m)\u001b[0m\u001b[1;33m\u001b[0m\u001b[1;33m\u001b[0m\u001b[0m\n",
      "\u001b[1;32m~\\AppData\\Local\\Programs\\Python\\Python38\\lib\\site-packages\\tensorflow\\python\\eager\\def_function.py\u001b[0m in \u001b[0;36m__call__\u001b[1;34m(self, *args, **kwds)\u001b[0m\n\u001b[0;32m    826\u001b[0m     \u001b[0mtracing_count\u001b[0m \u001b[1;33m=\u001b[0m \u001b[0mself\u001b[0m\u001b[1;33m.\u001b[0m\u001b[0mexperimental_get_tracing_count\u001b[0m\u001b[1;33m(\u001b[0m\u001b[1;33m)\u001b[0m\u001b[1;33m\u001b[0m\u001b[1;33m\u001b[0m\u001b[0m\n\u001b[0;32m    827\u001b[0m     \u001b[1;32mwith\u001b[0m \u001b[0mtrace\u001b[0m\u001b[1;33m.\u001b[0m\u001b[0mTrace\u001b[0m\u001b[1;33m(\u001b[0m\u001b[0mself\u001b[0m\u001b[1;33m.\u001b[0m\u001b[0m_name\u001b[0m\u001b[1;33m)\u001b[0m \u001b[1;32mas\u001b[0m \u001b[0mtm\u001b[0m\u001b[1;33m:\u001b[0m\u001b[1;33m\u001b[0m\u001b[1;33m\u001b[0m\u001b[0m\n\u001b[1;32m--> 828\u001b[1;33m       \u001b[0mresult\u001b[0m \u001b[1;33m=\u001b[0m \u001b[0mself\u001b[0m\u001b[1;33m.\u001b[0m\u001b[0m_call\u001b[0m\u001b[1;33m(\u001b[0m\u001b[1;33m*\u001b[0m\u001b[0margs\u001b[0m\u001b[1;33m,\u001b[0m \u001b[1;33m**\u001b[0m\u001b[0mkwds\u001b[0m\u001b[1;33m)\u001b[0m\u001b[1;33m\u001b[0m\u001b[1;33m\u001b[0m\u001b[0m\n\u001b[0m\u001b[0;32m    829\u001b[0m       \u001b[0mcompiler\u001b[0m \u001b[1;33m=\u001b[0m \u001b[1;34m\"xla\"\u001b[0m \u001b[1;32mif\u001b[0m \u001b[0mself\u001b[0m\u001b[1;33m.\u001b[0m\u001b[0m_experimental_compile\u001b[0m \u001b[1;32melse\u001b[0m \u001b[1;34m\"nonXla\"\u001b[0m\u001b[1;33m\u001b[0m\u001b[1;33m\u001b[0m\u001b[0m\n\u001b[0;32m    830\u001b[0m       \u001b[0mnew_tracing_count\u001b[0m \u001b[1;33m=\u001b[0m \u001b[0mself\u001b[0m\u001b[1;33m.\u001b[0m\u001b[0mexperimental_get_tracing_count\u001b[0m\u001b[1;33m(\u001b[0m\u001b[1;33m)\u001b[0m\u001b[1;33m\u001b[0m\u001b[1;33m\u001b[0m\u001b[0m\n",
      "\u001b[1;32m~\\AppData\\Local\\Programs\\Python\\Python38\\lib\\site-packages\\tensorflow\\python\\eager\\def_function.py\u001b[0m in \u001b[0;36m_call\u001b[1;34m(self, *args, **kwds)\u001b[0m\n\u001b[0;32m    853\u001b[0m       \u001b[1;31m# In this case we have created variables on the first call, so we run the\u001b[0m\u001b[1;33m\u001b[0m\u001b[1;33m\u001b[0m\u001b[1;33m\u001b[0m\u001b[0m\n\u001b[0;32m    854\u001b[0m       \u001b[1;31m# defunned version which is guaranteed to never create variables.\u001b[0m\u001b[1;33m\u001b[0m\u001b[1;33m\u001b[0m\u001b[1;33m\u001b[0m\u001b[0m\n\u001b[1;32m--> 855\u001b[1;33m       \u001b[1;32mreturn\u001b[0m \u001b[0mself\u001b[0m\u001b[1;33m.\u001b[0m\u001b[0m_stateless_fn\u001b[0m\u001b[1;33m(\u001b[0m\u001b[1;33m*\u001b[0m\u001b[0margs\u001b[0m\u001b[1;33m,\u001b[0m \u001b[1;33m**\u001b[0m\u001b[0mkwds\u001b[0m\u001b[1;33m)\u001b[0m  \u001b[1;31m# pylint: disable=not-callable\u001b[0m\u001b[1;33m\u001b[0m\u001b[1;33m\u001b[0m\u001b[0m\n\u001b[0m\u001b[0;32m    856\u001b[0m     \u001b[1;32melif\u001b[0m \u001b[0mself\u001b[0m\u001b[1;33m.\u001b[0m\u001b[0m_stateful_fn\u001b[0m \u001b[1;32mis\u001b[0m \u001b[1;32mnot\u001b[0m \u001b[1;32mNone\u001b[0m\u001b[1;33m:\u001b[0m\u001b[1;33m\u001b[0m\u001b[1;33m\u001b[0m\u001b[0m\n\u001b[0;32m    857\u001b[0m       \u001b[1;31m# Release the lock early so that multiple threads can perform the call\u001b[0m\u001b[1;33m\u001b[0m\u001b[1;33m\u001b[0m\u001b[1;33m\u001b[0m\u001b[0m\n",
      "\u001b[1;32m~\\AppData\\Local\\Programs\\Python\\Python38\\lib\\site-packages\\tensorflow\\python\\eager\\function.py\u001b[0m in \u001b[0;36m__call__\u001b[1;34m(self, *args, **kwargs)\u001b[0m\n\u001b[0;32m   2940\u001b[0m       (graph_function,\n\u001b[0;32m   2941\u001b[0m        filtered_flat_args) = self._maybe_define_function(args, kwargs)\n\u001b[1;32m-> 2942\u001b[1;33m     return graph_function._call_flat(\n\u001b[0m\u001b[0;32m   2943\u001b[0m         filtered_flat_args, captured_inputs=graph_function.captured_inputs)  # pylint: disable=protected-access\n\u001b[0;32m   2944\u001b[0m \u001b[1;33m\u001b[0m\u001b[0m\n",
      "\u001b[1;32m~\\AppData\\Local\\Programs\\Python\\Python38\\lib\\site-packages\\tensorflow\\python\\eager\\function.py\u001b[0m in \u001b[0;36m_call_flat\u001b[1;34m(self, args, captured_inputs, cancellation_manager)\u001b[0m\n\u001b[0;32m   1916\u001b[0m         and executing_eagerly):\n\u001b[0;32m   1917\u001b[0m       \u001b[1;31m# No tape is watching; skip to running the function.\u001b[0m\u001b[1;33m\u001b[0m\u001b[1;33m\u001b[0m\u001b[1;33m\u001b[0m\u001b[0m\n\u001b[1;32m-> 1918\u001b[1;33m       return self._build_call_outputs(self._inference_function.call(\n\u001b[0m\u001b[0;32m   1919\u001b[0m           ctx, args, cancellation_manager=cancellation_manager))\n\u001b[0;32m   1920\u001b[0m     forward_backward = self._select_forward_and_backward_functions(\n",
      "\u001b[1;32m~\\AppData\\Local\\Programs\\Python\\Python38\\lib\\site-packages\\tensorflow\\python\\eager\\function.py\u001b[0m in \u001b[0;36mcall\u001b[1;34m(self, ctx, args, cancellation_manager)\u001b[0m\n\u001b[0;32m    553\u001b[0m       \u001b[1;32mwith\u001b[0m \u001b[0m_InterpolateFunctionError\u001b[0m\u001b[1;33m(\u001b[0m\u001b[0mself\u001b[0m\u001b[1;33m)\u001b[0m\u001b[1;33m:\u001b[0m\u001b[1;33m\u001b[0m\u001b[1;33m\u001b[0m\u001b[0m\n\u001b[0;32m    554\u001b[0m         \u001b[1;32mif\u001b[0m \u001b[0mcancellation_manager\u001b[0m \u001b[1;32mis\u001b[0m \u001b[1;32mNone\u001b[0m\u001b[1;33m:\u001b[0m\u001b[1;33m\u001b[0m\u001b[1;33m\u001b[0m\u001b[0m\n\u001b[1;32m--> 555\u001b[1;33m           outputs = execute.execute(\n\u001b[0m\u001b[0;32m    556\u001b[0m               \u001b[0mstr\u001b[0m\u001b[1;33m(\u001b[0m\u001b[0mself\u001b[0m\u001b[1;33m.\u001b[0m\u001b[0msignature\u001b[0m\u001b[1;33m.\u001b[0m\u001b[0mname\u001b[0m\u001b[1;33m)\u001b[0m\u001b[1;33m,\u001b[0m\u001b[1;33m\u001b[0m\u001b[1;33m\u001b[0m\u001b[0m\n\u001b[0;32m    557\u001b[0m               \u001b[0mnum_outputs\u001b[0m\u001b[1;33m=\u001b[0m\u001b[0mself\u001b[0m\u001b[1;33m.\u001b[0m\u001b[0m_num_outputs\u001b[0m\u001b[1;33m,\u001b[0m\u001b[1;33m\u001b[0m\u001b[1;33m\u001b[0m\u001b[0m\n",
      "\u001b[1;32m~\\AppData\\Local\\Programs\\Python\\Python38\\lib\\site-packages\\tensorflow\\python\\eager\\execute.py\u001b[0m in \u001b[0;36mquick_execute\u001b[1;34m(op_name, num_outputs, inputs, attrs, ctx, name)\u001b[0m\n\u001b[0;32m     57\u001b[0m   \u001b[1;32mtry\u001b[0m\u001b[1;33m:\u001b[0m\u001b[1;33m\u001b[0m\u001b[1;33m\u001b[0m\u001b[0m\n\u001b[0;32m     58\u001b[0m     \u001b[0mctx\u001b[0m\u001b[1;33m.\u001b[0m\u001b[0mensure_initialized\u001b[0m\u001b[1;33m(\u001b[0m\u001b[1;33m)\u001b[0m\u001b[1;33m\u001b[0m\u001b[1;33m\u001b[0m\u001b[0m\n\u001b[1;32m---> 59\u001b[1;33m     tensors = pywrap_tfe.TFE_Py_Execute(ctx._handle, device_name, op_name,\n\u001b[0m\u001b[0;32m     60\u001b[0m                                         inputs, attrs, num_outputs)\n\u001b[0;32m     61\u001b[0m   \u001b[1;32mexcept\u001b[0m \u001b[0mcore\u001b[0m\u001b[1;33m.\u001b[0m\u001b[0m_NotOkStatusException\u001b[0m \u001b[1;32mas\u001b[0m \u001b[0me\u001b[0m\u001b[1;33m:\u001b[0m\u001b[1;33m\u001b[0m\u001b[1;33m\u001b[0m\u001b[0m\n",
      "\u001b[1;31mResourceExhaustedError\u001b[0m:  OOM when allocating tensor with shape[8,16,500,500] and type bool on /job:localhost/replica:0/task:0/device:CPU:0 by allocator cpu\n\t [[node tf_bert_for_sequence_classification/bert/encoder/layer_._1/attention/self/dropout_4/dropout/GreaterEqual (defined at C:\\Users\\smsoh\\AppData\\Local\\Programs\\Python\\Python38\\lib\\site-packages\\transformers\\models\\bert\\modeling_tf_bert.py:369) ]]\nHint: If you want to see a list of allocated tensors when OOM happens, add report_tensor_allocations_upon_oom to RunOptions for current allocation info.\n [Op:__inference_train_function_38138]\n\nFunction call stack:\ntrain_function\n"
     ]
    }
   ],
   "source": [
    "learner.fit_onecycle(1e-5, 3)"
   ]
  },
  {
   "cell_type": "code",
   "execution_count": null,
   "metadata": {},
   "outputs": [],
   "source": [
    "predictor = ktrain.get_predictor(learner.model, preproc=t)"
   ]
  },
  {
   "cell_type": "code",
   "execution_count": null,
   "metadata": {},
   "outputs": [],
   "source": [
    "statement = 'Says Barack Obama complained that Democrats continue to ignore blacks except at election time.'\n",
    "description = 'Great America Alliance said that Obama complained that Democrats continue to ignore blacks except at election time. \\\n",
    "              Obama did say the words used in the ad, but they weren’t his.He was quoting a Chicago barber talking about the days before African-Americans in Chicago helped elect the city’s first black mayor. \\\n",
    "              The full text from Obama’s book shows that he was arguing that voting can make a difference. Nothing in the section suggests that he thinks Democrats today only pay attention to blacks at election time.'\n",
    "test = statement + '<>' + description\n",
    "print(test)"
   ]
  },
  {
   "cell_type": "code",
   "execution_count": null,
   "metadata": {},
   "outputs": [],
   "source": [
    "if predictor.predict(test) is 0: \n",
    "  print('False')  # indeed it is false\n",
    "else:\n",
    "  print('True')"
   ]
  },
  {
   "cell_type": "code",
   "execution_count": null,
   "metadata": {},
   "outputs": [],
   "source": [
    "predictor.predict_proba(test)"
   ]
  },
  {
   "cell_type": "code",
   "execution_count": null,
   "metadata": {},
   "outputs": [],
   "source": [
    "predictor.get_classes()"
   ]
  },
  {
   "cell_type": "code",
   "execution_count": null,
   "metadata": {},
   "outputs": [],
   "source": [
    "pred = predictor.predict(x_test)"
   ]
  },
  {
   "cell_type": "code",
   "execution_count": null,
   "metadata": {},
   "outputs": [],
   "source": [
    "j = 0\n",
    "s = 0\n",
    "for i in pred:\n",
    "  if(i==y_test[j]):\n",
    "    s+=1\n",
    "  j+=1\n",
    "print('The Accuracy of the test set is',s/2083*100)"
   ]
  },
  {
   "cell_type": "code",
   "execution_count": null,
   "metadata": {},
   "outputs": [],
   "source": [
    "predictor.save('my_distilbert_predictor')SS"
   ]
  },
  {
   "cell_type": "code",
   "execution_count": null,
   "metadata": {},
   "outputs": [],
   "source": [
    "reloaded_predictor = ktrain.load_predictor('my_distilbert_predictor')"
   ]
  },
  {
   "source": [
    "Prediction"
   ],
   "cell_type": "markdown",
   "metadata": {}
  },
  {
   "cell_type": "code",
   "execution_count": null,
   "metadata": {},
   "outputs": [],
   "source": [
    "#@title Prediction\n",
    "statement = 'some person in campus has reported symptom of COVID 19 virus. ' #@param {type:\"string\"}\n",
    "description = 'So far no person (student / faculty member / staff) in the campus has reported any symptom of COVID 19 virus. ' #@param {type:\"string\"}\n",
    "test = statement + '<>' + description\n",
    "import ipywidgets as widgets\n",
    "from IPython.display import display\n",
    "button = widgets.Button(description=\"Enter\")\n",
    "output = widgets.Output()\n",
    "\n",
    "def on_button_clicked(b):\n",
    "  # Display the message within the output widget.\n",
    "  with output:\n",
    "    if reloaded_predictor.predict(test) is 0: \n",
    "      print('False')  \n",
    "    else:\n",
    "      print('True')\n",
    "\n",
    "button.on_click(on_button_clicked)\n",
    "display(button, output)"
   ]
  }
 ]
}